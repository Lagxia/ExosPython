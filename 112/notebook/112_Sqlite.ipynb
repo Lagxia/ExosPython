{
 "cells": [
  {
   "cell_type": "code",
   "execution_count": 1,
   "metadata": {
    "pycharm": {
     "is_executing": false
    }
   },
   "outputs": [],
   "source": [
    "# Gestion d'une base de données SQLite\n",
    "\n",
    "import sqlite3\n",
    "\n",
    "class Sqlite():\n",
    "    \n",
    "    def __init__(self, NomDB, NomTable, CheminDB):\n",
    "        \n",
    "        # Établissement de la connexion - Création du curseur :\n",
    "        NomDBEntier = NomDB + \".sq3\"\n",
    "        Chemin = CheminDB + NomDBEntier\n",
    "        self.connexion = sqlite3.connect(Chemin)\n",
    "        \n",
    "        self.curseur = self.connexion.cursor()\n",
    "        self.NomTable = NomTable\n",
    "        self.Sortie = []\n",
    "          \n",
    "    def Existe(self):\n",
    "        Requete = \"select count(*) from \" + self.NomTable\n",
    "        print(Requete)\n",
    "        try:\n",
    "            self.curseur.execute(Requete)\n",
    "            self.Sortie.append(\"La table existe\")\n",
    "        except:\n",
    "            self.Sortie.append(\"La table n'existe pas\")\n",
    "        return self.Sortie\n",
    "\n",
    "    def Creation(self, Champs):\n",
    "        #https://www.sqlite.org/lang_createtable.html\n",
    "        Requete = \"create table \" + self.NomTable + \"(\"\n",
    "        for i in range(0, len(Champs)):\n",
    "            Requete = Requete + Champs[i][0] + \" \" + Champs[i][1] + \", \"\n",
    "        Requete = Requete[:-2] + \")\"\n",
    "        print(Requete)\n",
    "        try:\n",
    "            self.curseur.execute(Requete)\n",
    "            self.Sortie.append(\"Création table OK\")\n",
    "        except:\n",
    "            self.Sortie.append(\"Création table KO\")\n",
    "        return self.Sortie\n",
    "\n",
    "    def Selection(self, Champs):\n",
    "        # https://www.sqlite.org/lang_select.html\n",
    "        if len(Champs) == 0:\n",
    "            Requete = \"select * from \" + self.NomTable\n",
    "        else:\n",
    "            Requete = \"select * from \" + self.NomTable + \" where \" + Champs[0] + \" = \" + Champs[1]\n",
    "        print(Requete)\n",
    "        try:\n",
    "            self.curseur.execute(Requete)\n",
    "            for enreg in self.curseur:\n",
    "                self.Sortie.append(enreg)\n",
    "        except:\n",
    "            self.Sortie.append(\"Sélection KO\")\n",
    "        return self.Sortie\n",
    "\n",
    "    def Insertion(self, Champs):\n",
    "        # https://www.sqlite.org/lang_insert.html\n",
    "        Requete = \"insert into \" + self.NomTable + Champs[0] + \" values\" + Champs[1]\n",
    "        print(Requete)\n",
    "        try:\n",
    "            self.curseur.execute(Requete)\n",
    "            self.connexion.commit()\n",
    "            self.Sortie.append(\"Insertion OK\")\n",
    "        except:\n",
    "            self.Sortie.append(\"Insertion KO\")\n",
    "        return self.Sortie\n",
    "\n",
    "    def Modification(self, Champs):\n",
    "        # https://www.sqlite.org/lang_update.html\n",
    "        Requete = \"update \" + self.NomTable + \" set \" + Champs[2] + \" = \" + Champs[3] + \" where \" + Champs[0] + \" = \" + Champs[1]\n",
    "        print(Requete)\n",
    "        try:\n",
    "            self.curseur.execute(Requete)\n",
    "            self.connexion.commit()\n",
    "            self.Sortie.append(\"Modification OK\")\n",
    "        except:\n",
    "            self.Sortie.append(\"Modification KO\")\n",
    "        return self.Sortie\n",
    "\n",
    "    def Suppression(self, Champs):\n",
    "        # https://www.sqlite.org/lang_delete.html\n",
    "        Requete = \"delete from \" + self.NomTable + \" where \" + Champs[0] + \" = \" + Champs[1]\n",
    "        print(Requete)\n",
    "        try:\n",
    "            self.curseur.execute(Requete)\n",
    "            self.connexion.commit()\n",
    "            self.Sortie.append(\"Suppression OK\")\n",
    "        except:\n",
    "            self.Sortie.append(\"Suppression KO\")\n",
    "        return self.Sortie"
   ]
  },
  {
   "cell_type": "code",
   "execution_count": 11,
   "metadata": {},
   "outputs": [
    {
     "name": "stdout",
     "output_type": "stream",
     "text": [
      "select count(*) from MaTable\n"
     ]
    },
    {
     "data": {
      "text/plain": [
       "[\"La table n'existe pas\"]"
      ]
     },
     "execution_count": 11,
     "metadata": {},
     "output_type": "execute_result"
    }
   ],
   "source": [
    "# TEST EXISTENCE DE LA TABLE\n",
    "MonTest = Sqlite('DBSqlite', 'MaTable', '../output/').Existe()\n",
    "MonTest"
   ]
  },
  {
   "cell_type": "code",
   "execution_count": 12,
   "metadata": {},
   "outputs": [
    {
     "name": "stdout",
     "output_type": "stream",
     "text": [
      "create table MaTable(Clé TEXT UNIQUE, ChpText TEXT, ChpInt INTEGER)\n"
     ]
    },
    {
     "data": {
      "text/plain": [
       "['Création table OK']"
      ]
     },
     "execution_count": 12,
     "metadata": {},
     "output_type": "execute_result"
    }
   ],
   "source": [
    "# TEST CREATION DE LA TABLE\n",
    "MaCreation = Sqlite('DBSqlite', 'MaTable', '../output/').Creation([('Clé', 'TEXT UNIQUE'), ('ChpText', 'TEXT'), ('ChpInt', 'INTEGER')])\n",
    "MaCreation"
   ]
  },
  {
   "cell_type": "code",
   "execution_count": 13,
   "metadata": {},
   "outputs": [
    {
     "name": "stdout",
     "output_type": "stream",
     "text": [
      "select count(*) from MaTable\n"
     ]
    },
    {
     "data": {
      "text/plain": [
       "['La table existe']"
      ]
     },
     "execution_count": 13,
     "metadata": {},
     "output_type": "execute_result"
    }
   ],
   "source": [
    "# TEST EXISTENCE DE LA TABLE\n",
    "MonTest = Sqlite('DBSqlite', 'MaTable', '../output/').Existe()\n",
    "MonTest"
   ]
  },
  {
   "cell_type": "code",
   "execution_count": 14,
   "metadata": {},
   "outputs": [
    {
     "name": "stdout",
     "output_type": "stream",
     "text": [
      "insert into MaTable(Clé, ChpText, ChpInt) values('Fred', 'Le papa', 111.111)\n"
     ]
    },
    {
     "data": {
      "text/plain": [
       "['Insertion OK']"
      ]
     },
     "execution_count": 14,
     "metadata": {},
     "output_type": "execute_result"
    }
   ],
   "source": [
    "# TEST INSERTION DANS LA TABLE\n",
    "MonInsertion = Sqlite('DBSqlite', 'MaTable', '../output/').Insertion([\"(Clé, ChpText, ChpInt)\", \"('Fred', 'Le papa', 111.111)\"])\n",
    "MonInsertion"
   ]
  },
  {
   "cell_type": "code",
   "execution_count": 15,
   "metadata": {},
   "outputs": [
    {
     "name": "stdout",
     "output_type": "stream",
     "text": [
      "insert into MaTable(Clé, ChpText, ChpInt) values('Nath', 'La maman', 222.222)\n"
     ]
    },
    {
     "data": {
      "text/plain": [
       "['Insertion OK']"
      ]
     },
     "execution_count": 15,
     "metadata": {},
     "output_type": "execute_result"
    }
   ],
   "source": [
    "# TEST INSERTION DANS LA TABLE\n",
    "MonInsertion = Sqlite('DBSqlite', 'MaTable', '../output/').Insertion([\"(Clé, ChpText, ChpInt)\", \"('Nath', 'La maman', 222.222)\"])\n",
    "MonInsertion"
   ]
  },
  {
   "cell_type": "code",
   "execution_count": 16,
   "metadata": {},
   "outputs": [
    {
     "name": "stdout",
     "output_type": "stream",
     "text": [
      "insert into MaTable(Clé, ChpText, ChpInt) values('Victor', 'Le coco', 333.334)\n"
     ]
    },
    {
     "data": {
      "text/plain": [
       "['Insertion OK']"
      ]
     },
     "execution_count": 16,
     "metadata": {},
     "output_type": "execute_result"
    }
   ],
   "source": [
    "# TEST INSERTION DANS LA TABLE\n",
    "MonInsertion = Sqlite('DBSqlite', 'MaTable', '../output/').Insertion([\"(Clé, ChpText, ChpInt)\", \"('Victor', 'Le coco', 333.334)\"])\n",
    "MonInsertion"
   ]
  },
  {
   "cell_type": "code",
   "execution_count": 17,
   "metadata": {},
   "outputs": [
    {
     "name": "stdout",
     "output_type": "stream",
     "text": [
      "insert into MaTable(Clé, ChpText, ChpInt) values('Fred', 'Le super papa', 444.444)\n"
     ]
    },
    {
     "data": {
      "text/plain": [
       "['Insertion KO']"
      ]
     },
     "execution_count": 17,
     "metadata": {},
     "output_type": "execute_result"
    }
   ],
   "source": [
    "# TEST INSERTION DANS LA TABLE (DOUBLON)\n",
    "MonInsertion = Sqlite('DBSqlite', 'MaTable', '../output/').Insertion([\"(Clé, ChpText, ChpInt)\", \"('Fred', 'Le super papa', 444.444)\"])\n",
    "MonInsertion"
   ]
  },
  {
   "cell_type": "code",
   "execution_count": 18,
   "metadata": {},
   "outputs": [
    {
     "name": "stdout",
     "output_type": "stream",
     "text": [
      "select * from MaTable where Clé = 'Fred'\n"
     ]
    },
    {
     "data": {
      "text/plain": [
       "[('Fred', 'Le papa', 111.111)]"
      ]
     },
     "execution_count": 18,
     "metadata": {},
     "output_type": "execute_result"
    }
   ],
   "source": [
    "# TEST SELECTION DANS LA TABLE\n",
    "MaSelection = Sqlite('DBSqlite', 'MaTable', '../output/').Selection([\"Clé\", \"'Fred'\"])\n",
    "MaSelection"
   ]
  },
  {
   "cell_type": "code",
   "execution_count": 19,
   "metadata": {},
   "outputs": [
    {
     "name": "stdout",
     "output_type": "stream",
     "text": [
      "insert into MaTable(Clé, ChpText, ChpInt) values('Paulette', 'Une intrue', 777.777)\n"
     ]
    },
    {
     "data": {
      "text/plain": [
       "['Insertion OK']"
      ]
     },
     "execution_count": 19,
     "metadata": {},
     "output_type": "execute_result"
    }
   ],
   "source": [
    "# TEST INSERTION DANS LA TABLE\n",
    "MonInsertion = Sqlite('DBSqlite', 'MaTable', '../output/').Insertion([\"(Clé, ChpText, ChpInt)\", \"('Paulette', 'Une intrue', 777.777)\"])\n",
    "MonInsertion"
   ]
  },
  {
   "cell_type": "code",
   "execution_count": 20,
   "metadata": {},
   "outputs": [
    {
     "name": "stdout",
     "output_type": "stream",
     "text": [
      "insert into MaTable(Clé, ChpText, ChpInt) values('Ginette', 'Une autre intrue', 888.999)\n"
     ]
    },
    {
     "data": {
      "text/plain": [
       "['Insertion OK']"
      ]
     },
     "execution_count": 20,
     "metadata": {},
     "output_type": "execute_result"
    }
   ],
   "source": [
    "# TEST INSERTION DANS LA TABLE\n",
    "MonInsertion = Sqlite('DBSqlite', 'MaTable', '../output/').Insertion([\"(Clé, ChpText, ChpInt)\", \"('Ginette', 'Une autre intrue', 888.999)\"])\n",
    "MonInsertion"
   ]
  },
  {
   "cell_type": "code",
   "execution_count": 21,
   "metadata": {},
   "outputs": [
    {
     "name": "stdout",
     "output_type": "stream",
     "text": [
      "insert into MaTable(Clé, ChpText, ChpInt) values('Josette', 'Une autre intrue', 999.888)\n"
     ]
    },
    {
     "data": {
      "text/plain": [
       "['Insertion OK']"
      ]
     },
     "execution_count": 21,
     "metadata": {},
     "output_type": "execute_result"
    }
   ],
   "source": [
    "# TEST INSERTION DANS LA TABLE\n",
    "MonInsertion = Sqlite('DBSqlite', 'MaTable', '../output/').Insertion([\"(Clé, ChpText, ChpInt)\", \"('Josette', 'Une autre intrue', 999.888)\"])\n",
    "MonInsertion"
   ]
  },
  {
   "cell_type": "code",
   "execution_count": 22,
   "metadata": {},
   "outputs": [
    {
     "name": "stdout",
     "output_type": "stream",
     "text": [
      "select * from MaTable\n"
     ]
    },
    {
     "data": {
      "text/plain": [
       "[('Fred', 'Le papa', 111.111),\n",
       " ('Nath', 'La maman', 222.222),\n",
       " ('Victor', 'Le coco', 333.334),\n",
       " ('Paulette', 'Une intrue', 777.777),\n",
       " ('Ginette', 'Une autre intrue', 888.999),\n",
       " ('Josette', 'Une autre intrue', 999.888)]"
      ]
     },
     "execution_count": 22,
     "metadata": {},
     "output_type": "execute_result"
    }
   ],
   "source": [
    "# TEST SELECTION DANS LA TABLE\n",
    "MaSelection = Sqlite('DBSqlite', 'MaTable', '../output/').Selection([])\n",
    "MaSelection"
   ]
  },
  {
   "cell_type": "code",
   "execution_count": 23,
   "metadata": {},
   "outputs": [
    {
     "name": "stdout",
     "output_type": "stream",
     "text": [
      "update MaTable set ChpInt = 333.333 where Clé = 'Victor'\n"
     ]
    },
    {
     "data": {
      "text/plain": [
       "['Modification OK']"
      ]
     },
     "execution_count": 23,
     "metadata": {},
     "output_type": "execute_result"
    }
   ],
   "source": [
    "# TEST MODIFICATION DANS LA TABLE\n",
    "MaModification = Sqlite('DBSqlite', 'MaTable', '../output/').Modification([\"Clé\", \"'Victor'\", \"ChpInt\", \"333.333\"])\n",
    "MaModification"
   ]
  },
  {
   "cell_type": "code",
   "execution_count": 24,
   "metadata": {},
   "outputs": [
    {
     "name": "stdout",
     "output_type": "stream",
     "text": [
      "update MaTable set ChpInt = 456.789 where ChpText = 'Une autre intrue'\n"
     ]
    },
    {
     "data": {
      "text/plain": [
       "['Modification OK']"
      ]
     },
     "execution_count": 24,
     "metadata": {},
     "output_type": "execute_result"
    }
   ],
   "source": [
    "# TEST MODIFICATION DANS LA TABLE\n",
    "MaModification = Sqlite('DBSqlite', 'MaTable', '../output/').Modification([\"ChpText\", \"'Une autre intrue'\", \"ChpInt\", \"456.789\"])\n",
    "MaModification"
   ]
  },
  {
   "cell_type": "code",
   "execution_count": 25,
   "metadata": {},
   "outputs": [
    {
     "name": "stdout",
     "output_type": "stream",
     "text": [
      "select * from MaTable\n"
     ]
    },
    {
     "data": {
      "text/plain": [
       "[('Fred', 'Le papa', 111.111),\n",
       " ('Nath', 'La maman', 222.222),\n",
       " ('Victor', 'Le coco', 333.333),\n",
       " ('Paulette', 'Une intrue', 777.777),\n",
       " ('Ginette', 'Une autre intrue', 456.789),\n",
       " ('Josette', 'Une autre intrue', 456.789)]"
      ]
     },
     "execution_count": 25,
     "metadata": {},
     "output_type": "execute_result"
    }
   ],
   "source": [
    "# TEST SELECTION DANS LA TABLE\n",
    "MaSelection = Sqlite('DBSqlite', 'MaTable', '../output/').Selection([])\n",
    "MaSelection"
   ]
  },
  {
   "cell_type": "code",
   "execution_count": 26,
   "metadata": {},
   "outputs": [
    {
     "name": "stdout",
     "output_type": "stream",
     "text": [
      "delete from MaTable where Clé = 'Paulette'\n"
     ]
    },
    {
     "data": {
      "text/plain": [
       "['Suppression OK']"
      ]
     },
     "execution_count": 26,
     "metadata": {},
     "output_type": "execute_result"
    }
   ],
   "source": [
    "# TEST SUPPRESSION DANS LA TABLE\n",
    "MaSuppression = Sqlite('DBSqlite', 'MaTable', '../output/').Suppression([\"Clé\", \"'Paulette'\"])\n",
    "MaSuppression"
   ]
  },
  {
   "cell_type": "code",
   "execution_count": 27,
   "metadata": {},
   "outputs": [
    {
     "name": "stdout",
     "output_type": "stream",
     "text": [
      "delete from MaTable where ChpText = 'Une autre intrue'\n"
     ]
    },
    {
     "data": {
      "text/plain": [
       "['Suppression OK']"
      ]
     },
     "execution_count": 27,
     "metadata": {},
     "output_type": "execute_result"
    }
   ],
   "source": [
    "# TEST SUPPRESSION DANS LA TABLE\n",
    "MaSuppression = Sqlite('DBSqlite', 'MaTable', '../output/').Suppression([\"ChpText\", \"'Une autre intrue'\"])\n",
    "MaSuppression"
   ]
  },
  {
   "cell_type": "code",
   "execution_count": 28,
   "metadata": {},
   "outputs": [
    {
     "name": "stdout",
     "output_type": "stream",
     "text": [
      "select * from MaTable\n"
     ]
    },
    {
     "data": {
      "text/plain": [
       "[('Fred', 'Le papa', 111.111),\n",
       " ('Nath', 'La maman', 222.222),\n",
       " ('Victor', 'Le coco', 333.333)]"
      ]
     },
     "execution_count": 28,
     "metadata": {},
     "output_type": "execute_result"
    }
   ],
   "source": [
    "# TEST SELECTION DANS LA TABLE\n",
    "MaSelection = Sqlite('DBSqlite', 'MaTable', '../output/').Selection([])\n",
    "MaSelection"
   ]
  },
  {
   "cell_type": "code",
   "execution_count": null,
   "metadata": {},
   "outputs": [],
   "source": []
  },
  {
   "cell_type": "code",
   "execution_count": null,
   "metadata": {},
   "outputs": [],
   "source": []
  }
 ],
 "metadata": {
  "kernelspec": {
   "display_name": "Python 3",
   "language": "python",
   "name": "python3"
  },
  "language_info": {
   "codemirror_mode": {
    "name": "ipython",
    "version": 3
   },
   "file_extension": ".py",
   "mimetype": "text/x-python",
   "name": "python",
   "nbconvert_exporter": "python",
   "pygments_lexer": "ipython3",
   "version": "3.7.3"
  }
 },
 "nbformat": 4,
 "nbformat_minor": 2
}
