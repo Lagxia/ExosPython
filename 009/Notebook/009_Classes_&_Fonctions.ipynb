{
 "cells": [
  {
   "cell_type": "code",
   "execution_count": 2,
   "metadata": {},
   "outputs": [],
   "source": [
    "class Point:\n",
    "    \"\"\"Représente un point dans l'espace\"\"\"\n",
    "\n",
    "    def __init__(self, x, y, z):\n",
    "        \"\"\"Méthode d'initialisation d'un point dans l'espace\"\"\"\n",
    "        self.x = x\n",
    "        self.y = y\n",
    "        self.z = z\n",
    "\n",
    "    def afficher(self):\n",
    "        \"\"\"Méthode temporaire utilisée pour afficher notre point\"\"\"\n",
    "        print(\"Point ({}, {}, {})\".format(self.x, self.y, self.z))"
   ]
  },
  {
   "cell_type": "code",
   "execution_count": 3,
   "metadata": {},
   "outputs": [
    {
     "name": "stdout",
     "output_type": "stream",
     "text": [
      "Point (1, 2, 3)\n"
     ]
    }
   ],
   "source": [
    "p = Point(1, 2, 3)\n",
    "p.afficher()"
   ]
  },
  {
   "cell_type": "code",
   "execution_count": 4,
   "metadata": {},
   "outputs": [],
   "source": [
    "class Point:\n",
    "    \"\"\"Représente un point dans l'espace\"\"\"\n",
    "\n",
    "    def __init__(self, x, y, z):\n",
    "        \"\"\"Méthode d'initialisation d'un point dans l'espace\"\"\"\n",
    "        self.x = x\n",
    "        self.y = y\n",
    "        self.z = z\n",
    "\n",
    "    def afficher(self):\n",
    "        \"\"\"Méthode temporaire utilisée pour afficher notre point\"\"\"\n",
    "        print(\"Point ({}, {}, {})\".format(self.x, self.y, self.z))\n",
    "\n",
    "    def module(self):\n",
    "        \"\"\"Renvoi le module du point\"\"\"\n",
    "        return (self.x**2 + self.y**2 + self.z**2) ** (1 / 2)\n",
    "\n",
    "    def distance(self, other):\n",
    "        \"\"\"\n",
    "        Renvoi la distance par rapport à un autre point\n",
    "        Les variables self et other sont toutes les deux des points.\n",
    "        \"\"\"\n",
    "        return ((self.x-other.x)**2 + (self.y-other.y)**2 + (self.z-other.z)**2) ** (1 / 2)\n",
    "\n",
    "    def distance_et_module(self, other=None):\n",
    "        \"\"\"Renvoi la distance par rapport à un autre point ou par défaut à l'origine\"\"\"\n",
    "        if other is None:\n",
    "            other = Point(0, 0, 0)\n",
    "        return ((self.x-other.x)**2 + (self.y-other.y)**2 + (self.z-other.z)**2) ** (1 / 2)"
   ]
  },
  {
   "cell_type": "code",
   "execution_count": 5,
   "metadata": {},
   "outputs": [
    {
     "name": "stdout",
     "output_type": "stream",
     "text": [
      "Point (1, 2, 3)\n",
      "|p| = 3.7416573867739413\n",
      "distance entre p et (1, 2, 5) est  2.0\n",
      "|p| = 3.7416573867739413\n",
      "distance entre p et (1, 2, 5) est  2.0\n"
     ]
    }
   ],
   "source": [
    "p = Point(1, 2, 3)\n",
    "p.afficher()\n",
    "print(\"|p| =\", p.module())\n",
    "print(\"distance entre p et (1, 2, 5) est \", p.distance(Point(1, 2, 5)))\n",
    "print(\"|p| =\", p.distance_et_module())\n",
    "print(\"distance entre p et (1, 2, 5) est \", p.distance_et_module(Point(1, 2, 5)))"
   ]
  },
  {
   "cell_type": "code",
   "execution_count": null,
   "metadata": {},
   "outputs": [],
   "source": []
  }
 ],
 "metadata": {
  "kernelspec": {
   "display_name": "Python 3",
   "language": "python",
   "name": "python3"
  },
  "language_info": {
   "codemirror_mode": {
    "name": "ipython",
    "version": 3
   },
   "file_extension": ".py",
   "mimetype": "text/x-python",
   "name": "python",
   "nbconvert_exporter": "python",
   "pygments_lexer": "ipython3",
   "version": "3.6.5"
  }
 },
 "nbformat": 4,
 "nbformat_minor": 2
}
