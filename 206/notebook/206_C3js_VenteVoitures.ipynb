{
 "cells": [
  {
   "cell_type": "code",
   "execution_count": 17,
   "metadata": {},
   "outputs": [],
   "source": [
    "# Gestion des imports\n",
    "import configparser\n",
    "import pandas as pd"
   ]
  },
  {
   "cell_type": "code",
   "execution_count": 18,
   "metadata": {},
   "outputs": [],
   "source": [
    "#import C3 JS\n",
    "import c3pyo as c3"
   ]
  },
  {
   "cell_type": "code",
   "execution_count": 19,
   "metadata": {},
   "outputs": [
    {
     "data": {
      "text/plain": [
       "['../Configuration.conf']"
      ]
     },
     "execution_count": 19,
     "metadata": {},
     "output_type": "execute_result"
    }
   ],
   "source": [
    "# Gestion de la configuration\n",
    "config = configparser.ConfigParser()\n",
    "config.read('../Configuration.conf')"
   ]
  },
  {
   "cell_type": "code",
   "execution_count": 20,
   "metadata": {},
   "outputs": [
    {
     "name": "stdout",
     "output_type": "stream",
     "text": [
      "Le chemin des fichiers de ressources est : \n",
      " /Users/Fred/Desktop/POEi_Lille/09_Python_Prepa_Analyse_par_la_Pratique/resources/\n"
     ]
    }
   ],
   "source": [
    "# Obtention du chemin de travail\n",
    "cheminressources = config.get('Chemin', 'resources')\n",
    "print(\"Le chemin des fichiers de ressources est : \\n\", cheminressources)"
   ]
  },
  {
   "cell_type": "code",
   "execution_count": 21,
   "metadata": {},
   "outputs": [],
   "source": [
    "# CHARGEMENT DE FICHIER D’ENTREE\n",
    "Ventes_Voitures_df = pd.read_csv(cheminressources + 'Voitures_Vente.csv', sep = ',', parse_dates=['date'])"
   ]
  },
  {
   "cell_type": "code",
   "execution_count": 22,
   "metadata": {},
   "outputs": [],
   "source": [
    "# ON RENOMME DES COLONNES\n",
    "Ventes_Voitures_df.rename(columns = {Ventes_Voitures_df.columns[0]:'Num_Compte',\n",
    "                                Ventes_Voitures_df.columns[1]:'Nom',\n",
    "                                Ventes_Voitures_df.columns[2]:'Plaque',\n",
    "                                Ventes_Voitures_df.columns[3]:'Catégorie',\n",
    "                                Ventes_Voitures_df.columns[4]:'Quantité',\n",
    "                                Ventes_Voitures_df.columns[5]:'Prix_Unitaire',\n",
    "                                Ventes_Voitures_df.columns[6]:'Prix_Extérieur',\n",
    "                                Ventes_Voitures_df.columns[7]:'Date'}, inplace = True)"
   ]
  },
  {
   "cell_type": "code",
   "execution_count": 23,
   "metadata": {},
   "outputs": [
    {
     "data": {
      "text/html": [
       "<div>\n",
       "<style scoped>\n",
       "    .dataframe tbody tr th:only-of-type {\n",
       "        vertical-align: middle;\n",
       "    }\n",
       "\n",
       "    .dataframe tbody tr th {\n",
       "        vertical-align: top;\n",
       "    }\n",
       "\n",
       "    .dataframe thead th {\n",
       "        text-align: right;\n",
       "    }\n",
       "</style>\n",
       "<table border=\"1\" class=\"dataframe\">\n",
       "  <thead>\n",
       "    <tr style=\"text-align: right;\">\n",
       "      <th></th>\n",
       "      <th>Num_Compte</th>\n",
       "      <th>Quantité</th>\n",
       "      <th>Prix_Unitaire</th>\n",
       "      <th>Prix_Extérieur</th>\n",
       "    </tr>\n",
       "  </thead>\n",
       "  <tbody>\n",
       "    <tr>\n",
       "      <th>count</th>\n",
       "      <td>1000.000000</td>\n",
       "      <td>1000.000000</td>\n",
       "      <td>1000.000000</td>\n",
       "      <td>1000.00000</td>\n",
       "    </tr>\n",
       "    <tr>\n",
       "      <th>mean</th>\n",
       "      <td>535208.897000</td>\n",
       "      <td>10.328000</td>\n",
       "      <td>56.179630</td>\n",
       "      <td>579.84390</td>\n",
       "    </tr>\n",
       "    <tr>\n",
       "      <th>std</th>\n",
       "      <td>277589.746014</td>\n",
       "      <td>5.687597</td>\n",
       "      <td>25.331939</td>\n",
       "      <td>435.30381</td>\n",
       "    </tr>\n",
       "    <tr>\n",
       "      <th>min</th>\n",
       "      <td>93356.000000</td>\n",
       "      <td>1.000000</td>\n",
       "      <td>10.060000</td>\n",
       "      <td>10.38000</td>\n",
       "    </tr>\n",
       "    <tr>\n",
       "      <th>25%</th>\n",
       "      <td>299771.000000</td>\n",
       "      <td>5.750000</td>\n",
       "      <td>35.995000</td>\n",
       "      <td>232.60500</td>\n",
       "    </tr>\n",
       "    <tr>\n",
       "      <th>50%</th>\n",
       "      <td>563905.000000</td>\n",
       "      <td>10.000000</td>\n",
       "      <td>56.765000</td>\n",
       "      <td>471.72000</td>\n",
       "    </tr>\n",
       "    <tr>\n",
       "      <th>75%</th>\n",
       "      <td>750461.000000</td>\n",
       "      <td>15.000000</td>\n",
       "      <td>76.802500</td>\n",
       "      <td>878.13750</td>\n",
       "    </tr>\n",
       "    <tr>\n",
       "      <th>max</th>\n",
       "      <td>995267.000000</td>\n",
       "      <td>20.000000</td>\n",
       "      <td>99.970000</td>\n",
       "      <td>1994.80000</td>\n",
       "    </tr>\n",
       "  </tbody>\n",
       "</table>\n",
       "</div>"
      ],
      "text/plain": [
       "          Num_Compte     Quantité  Prix_Unitaire  Prix_Extérieur\n",
       "count    1000.000000  1000.000000    1000.000000      1000.00000\n",
       "mean   535208.897000    10.328000      56.179630       579.84390\n",
       "std    277589.746014     5.687597      25.331939       435.30381\n",
       "min     93356.000000     1.000000      10.060000        10.38000\n",
       "25%    299771.000000     5.750000      35.995000       232.60500\n",
       "50%    563905.000000    10.000000      56.765000       471.72000\n",
       "75%    750461.000000    15.000000      76.802500       878.13750\n",
       "max    995267.000000    20.000000      99.970000      1994.80000"
      ]
     },
     "execution_count": 23,
     "metadata": {},
     "output_type": "execute_result"
    }
   ],
   "source": [
    "# DESCRIPTION DES VARIABLES NUMERIQUES\n",
    "Ventes_Voitures_df.describe()"
   ]
  },
  {
   "cell_type": "code",
   "execution_count": 24,
   "metadata": {},
   "outputs": [],
   "source": [
    "# AFFICHAGE DES INFORMATIONS CONCERNANT LE CLIENT\n",
    "Clients = Ventes_Voitures_df[['Nom','Prix_Extérieur','Date']]"
   ]
  },
  {
   "cell_type": "code",
   "execution_count": 25,
   "metadata": {},
   "outputs": [
    {
     "data": {
      "text/plain": [
       "Nom\n",
       "Berge LLC                        52\n",
       "Carroll PLC                      57\n",
       "Cole-Eichmann                    51\n",
       "Davis, Kshlerin and Reilly       41\n",
       "Ernser, Cruickshank and Lind     47\n",
       "Gorczany-Hahn                    42\n",
       "Hamill-Hackett                   44\n",
       "Hegmann and Sons                 58\n",
       "Heidenreich-Bosco                40\n",
       "Huel-Haag                        43\n",
       "Kerluke, Reilly and Bechtelar    52\n",
       "Kihn, McClure and Denesik        58\n",
       "Kilback-Gerlach                  45\n",
       "Koelpin PLC                      53\n",
       "Kunze Inc                        54\n",
       "Kuphal, Zieme and Kub            52\n",
       "Senger, Upton and Breitenberg    59\n",
       "Volkman, Goyette and Lemke       48\n",
       "Waelchi-Fahey                    54\n",
       "Waters-Walker                    50\n",
       "dtype: int64"
      ]
     },
     "execution_count": 25,
     "metadata": {},
     "output_type": "execute_result"
    }
   ],
   "source": [
    "# AFFICHAGE DU NOMBRE DE VOITURES ACHETEES PAR CLIENT\n",
    "Groupage_Clients = Clients.groupby('Nom')\n",
    "Groupage_Clients.size()"
   ]
  },
  {
   "cell_type": "code",
   "execution_count": 26,
   "metadata": {},
   "outputs": [],
   "source": [
    "# AFFICHAGE DES INFORMATIONS CONCERNANT LE CLIENT AVEC LA CATEGORIE\n",
    "Clients = Ventes_Voitures_df[['Nom','Catégorie', 'Prix_Extérieur','Date']]"
   ]
  },
  {
   "cell_type": "code",
   "execution_count": 27,
   "metadata": {},
   "outputs": [
    {
     "data": {
      "text/html": [
       "<div>\n",
       "<style scoped>\n",
       "    .dataframe tbody tr th:only-of-type {\n",
       "        vertical-align: middle;\n",
       "    }\n",
       "\n",
       "    .dataframe tbody tr th {\n",
       "        vertical-align: top;\n",
       "    }\n",
       "\n",
       "    .dataframe thead th {\n",
       "        text-align: right;\n",
       "    }\n",
       "</style>\n",
       "<table border=\"1\" class=\"dataframe\">\n",
       "  <thead>\n",
       "    <tr style=\"text-align: right;\">\n",
       "      <th></th>\n",
       "      <th></th>\n",
       "      <th>Prix_Extérieur</th>\n",
       "    </tr>\n",
       "    <tr>\n",
       "      <th>Nom</th>\n",
       "      <th>Catégorie</th>\n",
       "      <th></th>\n",
       "    </tr>\n",
       "  </thead>\n",
       "  <tbody>\n",
       "    <tr>\n",
       "      <th rowspan=\"3\" valign=\"top\">Berge LLC</th>\n",
       "      <th>Belt</th>\n",
       "      <td>6033.53</td>\n",
       "    </tr>\n",
       "    <tr>\n",
       "      <th>Shirt</th>\n",
       "      <td>9670.24</td>\n",
       "    </tr>\n",
       "    <tr>\n",
       "      <th>Shoes</th>\n",
       "      <td>14361.10</td>\n",
       "    </tr>\n",
       "    <tr>\n",
       "      <th rowspan=\"2\" valign=\"top\">Carroll PLC</th>\n",
       "      <th>Belt</th>\n",
       "      <td>9359.26</td>\n",
       "    </tr>\n",
       "    <tr>\n",
       "      <th>Shirt</th>\n",
       "      <td>13717.61</td>\n",
       "    </tr>\n",
       "  </tbody>\n",
       "</table>\n",
       "</div>"
      ],
      "text/plain": [
       "                       Prix_Extérieur\n",
       "Nom         Catégorie                \n",
       "Berge LLC   Belt              6033.53\n",
       "            Shirt             9670.24\n",
       "            Shoes            14361.10\n",
       "Carroll PLC Belt              9359.26\n",
       "            Shirt            13717.61"
      ]
     },
     "execution_count": 27,
     "metadata": {},
     "output_type": "execute_result"
    }
   ],
   "source": [
    "# AFFICHAGE DU TOTAL VENTE (PAR LIGNE) en $ PAR CLIENT ET CATEGORIE\n",
    "Groupage_Categories = Clients.groupby(['Nom','Catégorie']).sum()\n",
    "Groupage_Categories.head()"
   ]
  },
  {
   "cell_type": "code",
   "execution_count": 28,
   "metadata": {},
   "outputs": [
    {
     "data": {
      "text/html": [
       "<div>\n",
       "<style scoped>\n",
       "    .dataframe tbody tr th:only-of-type {\n",
       "        vertical-align: middle;\n",
       "    }\n",
       "\n",
       "    .dataframe tbody tr th {\n",
       "        vertical-align: top;\n",
       "    }\n",
       "\n",
       "    .dataframe thead tr th {\n",
       "        text-align: left;\n",
       "    }\n",
       "\n",
       "    .dataframe thead tr:last-of-type th {\n",
       "        text-align: right;\n",
       "    }\n",
       "</style>\n",
       "<table border=\"1\" class=\"dataframe\">\n",
       "  <thead>\n",
       "    <tr>\n",
       "      <th></th>\n",
       "      <th colspan=\"3\" halign=\"left\">Prix_Extérieur</th>\n",
       "    </tr>\n",
       "    <tr>\n",
       "      <th>Catégorie</th>\n",
       "      <th>Belt</th>\n",
       "      <th>Shirt</th>\n",
       "      <th>Shoes</th>\n",
       "    </tr>\n",
       "    <tr>\n",
       "      <th>Nom</th>\n",
       "      <th></th>\n",
       "      <th></th>\n",
       "      <th></th>\n",
       "    </tr>\n",
       "  </thead>\n",
       "  <tbody>\n",
       "    <tr>\n",
       "      <th>Berge LLC</th>\n",
       "      <td>6033.53</td>\n",
       "      <td>9670.24</td>\n",
       "      <td>14361.10</td>\n",
       "    </tr>\n",
       "    <tr>\n",
       "      <th>Carroll PLC</th>\n",
       "      <td>9359.26</td>\n",
       "      <td>13717.61</td>\n",
       "      <td>12857.44</td>\n",
       "    </tr>\n",
       "    <tr>\n",
       "      <th>Cole-Eichmann</th>\n",
       "      <td>8112.70</td>\n",
       "      <td>14528.01</td>\n",
       "      <td>7794.71</td>\n",
       "    </tr>\n",
       "    <tr>\n",
       "      <th>Davis, Kshlerin and Reilly</th>\n",
       "      <td>1604.13</td>\n",
       "      <td>7533.03</td>\n",
       "      <td>9917.60</td>\n",
       "    </tr>\n",
       "    <tr>\n",
       "      <th>Ernser, Cruickshank and Lind</th>\n",
       "      <td>5894.38</td>\n",
       "      <td>16944.19</td>\n",
       "      <td>5250.45</td>\n",
       "    </tr>\n",
       "  </tbody>\n",
       "</table>\n",
       "</div>"
      ],
      "text/plain": [
       "                             Prix_Extérieur                    \n",
       "Catégorie                              Belt     Shirt     Shoes\n",
       "Nom                                                            \n",
       "Berge LLC                           6033.53   9670.24  14361.10\n",
       "Carroll PLC                         9359.26  13717.61  12857.44\n",
       "Cole-Eichmann                       8112.70  14528.01   7794.71\n",
       "Davis, Kshlerin and Reilly          1604.13   7533.03   9917.60\n",
       "Ernser, Cruickshank and Lind        5894.38  16944.19   5250.45"
      ]
     },
     "execution_count": 28,
     "metadata": {},
     "output_type": "execute_result"
    }
   ],
   "source": [
    "# AFFICHAGE DU TOTAL VENTE en $ PAR CLIENT ET CATEGORIE (SOUR FORME DE TABLEAU)\n",
    "Categories = Groupage_Categories.unstack()\n",
    "Categories.head()"
   ]
  },
  {
   "cell_type": "code",
   "execution_count": 29,
   "metadata": {},
   "outputs": [
    {
     "data": {
      "text/plain": [
       "['Berge LLC',\n",
       " 'Carroll PLC',\n",
       " 'Cole-Eichmann',\n",
       " 'Davis, Kshlerin and Reilly',\n",
       " 'Ernser, Cruickshank and Lind',\n",
       " 'Gorczany-Hahn',\n",
       " 'Hamill-Hackett',\n",
       " 'Hegmann and Sons',\n",
       " 'Heidenreich-Bosco',\n",
       " 'Huel-Haag',\n",
       " 'Kerluke, Reilly and Bechtelar',\n",
       " 'Kihn, McClure and Denesik',\n",
       " 'Kilback-Gerlach',\n",
       " 'Koelpin PLC',\n",
       " 'Kunze Inc',\n",
       " 'Kuphal, Zieme and Kub',\n",
       " 'Senger, Upton and Breitenberg',\n",
       " 'Volkman, Goyette and Lemke',\n",
       " 'Waelchi-Fahey',\n",
       " 'Waters-Walker']"
      ]
     },
     "execution_count": 29,
     "metadata": {},
     "output_type": "execute_result"
    }
   ],
   "source": [
    "MonAbscisse = list(Categories.index.values)\n",
    "MonAbscisse"
   ]
  },
  {
   "cell_type": "code",
   "execution_count": 30,
   "metadata": {},
   "outputs": [],
   "source": [
    "Belt = []\n",
    "Shirt = []\n",
    "Shoes = []\n",
    "PrixExt = list(Categories['Prix_Extérieur'].values)\n",
    "for i in range(0,len(PrixExt)):\n",
    "    Belt.append(PrixExt[i][0])\n",
    "    Shirt.append(PrixExt[i][1])\n",
    "    Shoes.append(PrixExt[i][2])"
   ]
  },
  {
   "cell_type": "code",
   "execution_count": 31,
   "metadata": {},
   "outputs": [],
   "source": [
    "# VISUALISATION : HISTOGRAMME DU TOTAL VENTE en $ PAR CLIENT ET CATEGORIE\n",
    "chart = c3.BarChart()\n",
    "chart.plot(Belt, label='Belt')\n",
    "chart.plot(Shirt, label='Shirt')\n",
    "chart.plot(Shoes, label='Shoes')\n",
    "chart.set_xticklabels(MonAbscisse)\n",
    "chart.ylabel('Ventes')\n",
    "chart.show()"
   ]
  },
  {
   "cell_type": "code",
   "execution_count": null,
   "metadata": {},
   "outputs": [],
   "source": []
  }
 ],
 "metadata": {
  "kernelspec": {
   "display_name": "Python 3",
   "language": "python",
   "name": "python3"
  },
  "language_info": {
   "codemirror_mode": {
    "name": "ipython",
    "version": 3
   },
   "file_extension": ".py",
   "mimetype": "text/x-python",
   "name": "python",
   "nbconvert_exporter": "python",
   "pygments_lexer": "ipython3",
   "version": "3.6.5"
  }
 },
 "nbformat": 4,
 "nbformat_minor": 2
}
