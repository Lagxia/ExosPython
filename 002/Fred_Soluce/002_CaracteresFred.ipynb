{
 "cells": [
  {
   "cell_type": "markdown",
   "metadata": {},
   "source": [
    "# Les caractères"
   ]
  },
  {
   "cell_type": "code",
   "execution_count": 1,
   "metadata": {},
   "outputs": [],
   "source": [
    "phrase = \"vOicI l'AbC du b_a_B_A de Frédéric !\""
   ]
  },
  {
   "cell_type": "code",
   "execution_count": 2,
   "metadata": {},
   "outputs": [
    {
     "name": "stdout",
     "output_type": "stream",
     "text": [
      "Phrase en minuscules : voici l'abc du b_a_b_a de frédéric !\n"
     ]
    }
   ],
   "source": [
    "print(\"Phrase en minuscules : \" + phrase.lower())\n",
    "# Notons l'affichage en utilisant +"
   ]
  },
  {
   "cell_type": "code",
   "execution_count": 3,
   "metadata": {},
   "outputs": [
    {
     "name": "stdout",
     "output_type": "stream",
     "text": [
      "Phrase en Majuscules : VOICI L'ABC DU B_A_B_A DE FRÉDÉRIC !\n"
     ]
    }
   ],
   "source": [
    "print(\"Phrase en Majuscules : %s\" % phrase.upper())\n",
    "# Notons l'affichage en utilisant %s"
   ]
  },
  {
   "cell_type": "code",
   "execution_count": 4,
   "metadata": {},
   "outputs": [
    {
     "name": "stdout",
     "output_type": "stream",
     "text": [
      "Phrase en capitale : Voici l'abc du b_a_b_a de frédéric !\n"
     ]
    }
   ],
   "source": [
    "print(\"Phrase en capitale : {}\".format(phrase.capitalize()))\n",
    "# Notons l'affichage en utilisant les accolades"
   ]
  },
  {
   "cell_type": "code",
   "execution_count": 5,
   "metadata": {},
   "outputs": [
    {
     "name": "stdout",
     "output_type": "stream",
     "text": [
      "Mots en capitale : Voici L'Abc Du B_A_B_A De Frédéric !\n"
     ]
    }
   ],
   "source": [
    "print(\"Mots en capitale :\", phrase.title())\n",
    "# Notons l'affichage en utilisant ,"
   ]
  },
  {
   "cell_type": "code",
   "execution_count": 6,
   "metadata": {},
   "outputs": [
    {
     "name": "stdout",
     "output_type": "stream",
     "text": [
      "Longueur de la chaîne : 36\n"
     ]
    }
   ],
   "source": [
    "print(\"Longueur de la chaîne : {}\".format(len(phrase)))"
   ]
  },
  {
   "cell_type": "code",
   "execution_count": 7,
   "metadata": {},
   "outputs": [
    {
     "name": "stdout",
     "output_type": "stream",
     "text": [
      "Votre phrase contient-elle la lettre 'a' ? True\n"
     ]
    }
   ],
   "source": [
    "print(\"Votre phrase contient-elle la lettre 'a' ?\", \"a\" in phrase)"
   ]
  },
  {
   "cell_type": "code",
   "execution_count": 8,
   "metadata": {},
   "outputs": [
    {
     "name": "stdout",
     "output_type": "stream",
     "text": [
      "Votre phrase contient-elle la séquence 'abc' ? False\n"
     ]
    }
   ],
   "source": [
    "print(\"Votre phrase contient-elle la séquence 'abc' ?\", \"abc\" in phrase)"
   ]
  },
  {
   "cell_type": "code",
   "execution_count": 9,
   "metadata": {},
   "outputs": [
    {
     "name": "stdout",
     "output_type": "stream",
     "text": [
      "Votre phrase contient-elle la séquence 'AbC' ? True\n"
     ]
    }
   ],
   "source": [
    "print(\"Votre phrase contient-elle la séquence 'AbC' ?\", \"AbC\" in phrase)"
   ]
  },
  {
   "cell_type": "code",
   "execution_count": 10,
   "metadata": {},
   "outputs": [
    {
     "name": "stdout",
     "output_type": "stream",
     "text": [
      "Combien d'occurences de 'A' se trouvent dans la phrase ? :  2\n"
     ]
    }
   ],
   "source": [
    "nb = phrase.count(\"A\")\n",
    "print(\"Combien d'occurences de 'A' se trouvent dans la phrase ? : \", nb)"
   ]
  },
  {
   "cell_type": "code",
   "execution_count": 11,
   "metadata": {},
   "outputs": [
    {
     "name": "stdout",
     "output_type": "stream",
     "text": [
      "Où se trouve la première occurence de 'A' ? :  8\n"
     ]
    }
   ],
   "source": [
    "index = phrase.find(\"A\")\n",
    "print(\"Où se trouve la première occurence de 'A' ? : \", index)"
   ]
  },
  {
   "cell_type": "code",
   "execution_count": 12,
   "metadata": {},
   "outputs": [
    {
     "name": "stdout",
     "output_type": "stream",
     "text": [
      "Où se trouve la seconde occurence de 'A' ? :  21\n"
     ]
    }
   ],
   "source": [
    "index = phrase.find(\"A\",index + 1)\n",
    "print(\"Où se trouve la seconde occurence de 'A' ? : \", index)"
   ]
  },
  {
   "cell_type": "code",
   "execution_count": 13,
   "metadata": {},
   "outputs": [
    {
     "name": "stdout",
     "output_type": "stream",
     "text": [
      "Remplacer les 'A' par des '*' : \n",
      "vOicI l'AbC du b_a_B_A de Frédéric !\n",
      "vOicI l'*bC du b_a_B_* de Frédéric !\n"
     ]
    }
   ],
   "source": [
    "print(\"Remplacer les 'A' par des '*' : \")\n",
    "phrasemodifiee = phrase.replace(\"A\", \"*\")\n",
    "print(phrase)\n",
    "print(phrasemodifiee)"
   ]
  },
  {
   "cell_type": "code",
   "execution_count": 14,
   "metadata": {},
   "outputs": [
    {
     "name": "stdout",
     "output_type": "stream",
     "text": [
      "Placer les mots de la phrase dans un tableau (Array) : \n",
      "['vOicI', \"l'AbC\", 'du', 'b_a_B_A', 'de', 'Frédéric', '!']\n"
     ]
    }
   ],
   "source": [
    "print(\"Placer les mots de la phrase dans un tableau (Array) : \")\n",
    "tab = phrase.split(\" \")\n",
    "print(tab)"
   ]
  },
  {
   "cell_type": "code",
   "execution_count": 15,
   "metadata": {},
   "outputs": [
    {
     "name": "stdout",
     "output_type": "stream",
     "text": [
      "Compter le nombre de mots de la phrase : \n",
      "Il y a 7 mots dans cette phrase.\n"
     ]
    }
   ],
   "source": [
    "print(\"Compter le nombre de mots de la phrase : \")\n",
    "nbmots = len(tab)\n",
    "print(\"Il y a {} mots dans cette phrase.\".format(nbmots))"
   ]
  },
  {
   "cell_type": "code",
   "execution_count": 16,
   "metadata": {},
   "outputs": [
    {
     "name": "stdout",
     "output_type": "stream",
     "text": [
      "Recoller les mots de la phrase avec des '-' : \n",
      "vOicI-l'AbC-du-b_a_B_A-de-Frédéric-!\n"
     ]
    }
   ],
   "source": [
    "print(\"Recoller les mots de la phrase avec des '-' : \")\n",
    "phraserecollee = '-'.join(tab)\n",
    "print(phraserecollee)"
   ]
  },
  {
   "cell_type": "code",
   "execution_count": 17,
   "metadata": {},
   "outputs": [
    {
     "name": "stdout",
     "output_type": "stream",
     "text": [
      "La lettre 'c' est à la position n° 3 dans l'alphabet !\n"
     ]
    }
   ],
   "source": [
    "alphabet = \"abcdefghijklmnopqrstuvwxyz\"\n",
    "caracterecherche = \"c\"\n",
    "index = alphabet.find(caracterecherche)\n",
    "print(\"La lettre '{}' est à la position n° {} dans l'alphabet !\".format(caracterecherche, index + 1))"
   ]
  },
  {
   "cell_type": "markdown",
   "metadata": {},
   "source": [
    "## boucle for"
   ]
  },
  {
   "cell_type": "code",
   "execution_count": 18,
   "metadata": {},
   "outputs": [
    {
     "name": "stdout",
     "output_type": "stream",
     "text": [
      "Il y a 26 lettres dans l'alphabet.\n",
      "La lettre n° 1' est a\n",
      "La lettre n° 2' est b\n",
      "La lettre n° 3' est c\n",
      "La lettre n° 4' est d\n",
      "La lettre n° 5' est e\n",
      "La lettre n° 6' est f\n",
      "La lettre n° 7' est g\n",
      "La lettre n° 8' est h\n",
      "La lettre n° 9' est i\n",
      "La lettre n° 10' est j\n",
      "La lettre n° 11' est k\n",
      "La lettre n° 12' est l\n",
      "La lettre n° 13' est m\n",
      "La lettre n° 14' est n\n",
      "La lettre n° 15' est o\n",
      "La lettre n° 16' est p\n",
      "La lettre n° 17' est q\n",
      "La lettre n° 18' est r\n",
      "La lettre n° 19' est s\n",
      "La lettre n° 20' est t\n",
      "La lettre n° 21' est u\n",
      "La lettre n° 22' est v\n",
      "La lettre n° 23' est w\n",
      "La lettre n° 24' est x\n",
      "La lettre n° 25' est y\n",
      "La lettre n° 26' est z\n"
     ]
    }
   ],
   "source": [
    "print(\"Il y a {} lettres dans l'alphabet.\".format(len(alphabet)))\n",
    "for i in range(0, len(alphabet)):\n",
    "    print(\"La lettre n° {}' est {}\".format(i + 1, alphabet[i]))"
   ]
  },
  {
   "cell_type": "code",
   "execution_count": 19,
   "metadata": {},
   "outputs": [
    {
     "name": "stdout",
     "output_type": "stream",
     "text": [
      "Il y a 26 lettres dans l'alphabet.\n",
      "La lettre n° 5' est e\n",
      "La lettre n° 10' est j\n",
      "La lettre n° 15' est o\n",
      "La lettre n° 20' est t\n",
      "La lettre n° 25' est y\n"
     ]
    }
   ],
   "source": [
    "print(\"Il y a {} lettres dans l'alphabet.\".format(len(alphabet)))\n",
    "for i in range(4, len(alphabet), 5):\n",
    "    print(\"La lettre n° {}' est {}\".format(i + 1, alphabet[i]))"
   ]
  },
  {
   "cell_type": "code",
   "execution_count": 20,
   "metadata": {},
   "outputs": [
    {
     "name": "stdout",
     "output_type": "stream",
     "text": [
      "Il y a 7 mots dans cette phrase.\n",
      "Le mot n° 1' est vOicI\n",
      "Le mot n° 2' est l'AbC\n",
      "Le mot n° 3' est du\n",
      "Le mot n° 4' est b_a_B_A\n",
      "Le mot n° 5' est de\n",
      "Le mot n° 6' est Frédéric\n",
      "Le mot n° 7' est !\n"
     ]
    }
   ],
   "source": [
    "print(\"Il y a {} mots dans cette phrase.\".format(len(phrase.split(\" \"))))\n",
    "for i in range(0, len(phrase.split(\" \"))):\n",
    "    print(\"Le mot n° {}' est {}\".format(i + 1, phrase.split(\" \")[i]))"
   ]
  },
  {
   "cell_type": "markdown",
   "metadata": {},
   "source": [
    "## Exercice"
   ]
  },
  {
   "cell_type": "raw",
   "metadata": {},
   "source": [
    "Sur la phrase : phrase = \"abrAcadabrA\"\n",
    "Faire un programme qui affiche ça : \n",
    "\n",
    "***** En cherchant le caractère : caracterecherche = \"a\"\n",
    "\n",
    "La lettre 'a' (tout format) est présente 5 fois dans la chaîne 'abrAcadabrA' :\n",
    " - 3 fois sous le format 'a',\n",
    " - 2 fois sous le format 'A'.\n",
    "\n",
    "La lettre 'a' est à la position n° 1 dans la chaîne\n",
    "La lettre 'A' est à la position n° 4 dans la chaîne\n",
    "La lettre 'a' est à la position n° 6 dans la chaîne\n",
    "La lettre 'a' est à la position n° 8 dans la chaîne\n",
    "La lettre 'A' est à la position n° 11 dans la chaîne\n",
    "\n",
    "***** En cherchant le caractère : caracterecherche = \"b\"\n",
    "\n",
    "La lettre 'b' (tout format) est présente 2 fois dans la chaîne 'abrAcadabrA' :\n",
    " - 2 fois sous le format 'b',\n",
    " - 0 fois sous le format 'B'.\n",
    "\n",
    "La lettre 'b' est à la position n° 2 dans la chaîne\n",
    "La lettre 'b' est à la position n° 9 dans la chaîne\n",
    "\n",
    "***** En cherchant le caractère : caracterecherche = \"f\"\n",
    "\n",
    "La lettre 'f' (tout format) est présente 0 fois dans la chaîne 'abrAcadabrA' :\n",
    " - 0 fois sous le format 'f',\n",
    " - 0 fois sous le format 'F'."
   ]
  },
  {
   "cell_type": "code",
   "execution_count": 1,
   "metadata": {},
   "outputs": [],
   "source": [
    "phrase = \"abrAcadabrA\"\n",
    "caracterecherche = \"a\""
   ]
  },
  {
   "cell_type": "code",
   "execution_count": 2,
   "metadata": {},
   "outputs": [
    {
     "name": "stdout",
     "output_type": "stream",
     "text": [
      "La lettre 'a' (tout format) est présente 5 fois dans la chaîne 'abrAcadabrA' :\n",
      " - 3 fois sous le format 'a',\n",
      " - 2 fois sous le format 'A'.\n",
      "\n",
      "La lettre 'a' est à la position n° 1 dans la chaîne\n",
      "La lettre 'A' est à la position n° 4 dans la chaîne\n",
      "La lettre 'a' est à la position n° 6 dans la chaîne\n",
      "La lettre 'a' est à la position n° 8 dans la chaîne\n",
      "La lettre 'A' est à la position n° 11 dans la chaîne\n"
     ]
    }
   ],
   "source": [
    "nb = phrase.lower().count(caracterecherche)\n",
    "print(\"La lettre '{}' (tout format) est présente {} fois dans la chaîne '{}' :\".format(caracterecherche, nb, phrase))\n",
    "nbminus = phrase.count(caracterecherche.lower())\n",
    "print(\" - {} fois sous le format '{}',\".format(nbminus, caracterecherche.lower()))\n",
    "nbmajus = phrase.count(caracterecherche.upper())\n",
    "print(\" - {} fois sous le format '{}'.\\n\".format(nbmajus, caracterecherche.upper()))\n",
    "if nb > 0:\n",
    "    index = phrase.lower().find(caracterecherche)\n",
    "    print(\"La lettre '{}' est à la position n° {} dans la chaîne\".format(phrase[index], index + 1))\n",
    "    for i in range(1, nb):\n",
    "        index = phrase.lower().find(caracterecherche, index + 1)\n",
    "        print(\"La lettre '{}' est à la position n° {} dans la chaîne\".format(phrase[index], index + 1))"
   ]
  },
  {
   "cell_type": "code",
   "execution_count": 23,
   "metadata": {},
   "outputs": [
    {
     "name": "stdout",
     "output_type": "stream",
     "text": [
      "['andré', 'boris', 'catherine', 'didier', 'eric', 'françois', 'gérard', 'henri', 'ingrid', 'josette', 'kevin']\n"
     ]
    }
   ],
   "source": [
    "lognoms = \"andré#boris#catherine#didier#eric#françois#gérard#henri#ingrid#josette#kevin\"\n",
    "tabnoms = lognoms.split(\"#\")\n",
    "print(tabnoms)"
   ]
  },
  {
   "cell_type": "code",
   "execution_count": 24,
   "metadata": {},
   "outputs": [
    {
     "name": "stdout",
     "output_type": "stream",
     "text": [
      "['André', 'Boris', 'Catherine', 'Didier', 'Eric', 'François', 'Gérard', 'Henri', 'Ingrid', 'Josette', 'Kevin']\n"
     ]
    }
   ],
   "source": [
    "tabtest = [nom.capitalize() for nom in tabnoms]\n",
    "print(tabtest)"
   ]
  },
  {
   "cell_type": "code",
   "execution_count": 25,
   "metadata": {},
   "outputs": [
    {
     "name": "stdout",
     "output_type": "stream",
     "text": [
      "['André', 'Catherine']\n"
     ]
    }
   ],
   "source": [
    "tabtest = [nom.capitalize() for nom in tabnoms if nom.startswith(('a','c'))]\n",
    "print(tabtest)"
   ]
  },
  {
   "cell_type": "code",
   "execution_count": 26,
   "metadata": {},
   "outputs": [
    {
     "name": "stdout",
     "output_type": "stream",
     "text": [
      "Le caractère a a pour ordinal 97\n",
      "Le caractère A a pour ordinal 65\n",
      "Le caractère 0 a pour ordinal 48\n",
      "Le caractère 1 a pour ordinal 49\n",
      "Le caractère 9 a pour ordinal 57\n",
      "Le caractère é a pour ordinal 233\n",
      "Le caractère à a pour ordinal 224\n",
      "Le caractère @ a pour ordinal 64\n",
      "Le caractère # a pour ordinal 35\n",
      "Le caractère ` a pour ordinal 96\n",
      "Le caractère { a pour ordinal 123\n"
     ]
    }
   ],
   "source": [
    "caracteres = \"aA019éà@#`{\"\n",
    "for caractere in caracteres:\n",
    "    print(\"Le caractère {} a pour ordinal {}\".format(caractere, ord(caractere)))"
   ]
  },
  {
   "cell_type": "code",
   "execution_count": 27,
   "metadata": {},
   "outputs": [
    {
     "name": "stdout",
     "output_type": "stream",
     "text": [
      "Le caractère d'ordinal 123 est {\n",
      "Le caractère d'ordinal 233 est é\n",
      "Le caractère d'ordinal 42 est *\n",
      "Le caractère d'ordinal 420 est Ƥ\n",
      "Le caractère d'ordinal 4200 est ၨ\n",
      "Le nombre abc n'est pas un ordinal valide\n",
      "Le caractère d'ordinal 4242 est ႒\n",
      "Le caractère d'ordinal 42000 est ꐐ\n",
      "Le caractère d'ordinal 424242 est 񧤲\n"
     ]
    }
   ],
   "source": [
    "nombres = \"123 233 42 420 4200 abc 4242 42000 424242\"\n",
    "for nombre in nombres.split(\" \"):\n",
    "    try:\n",
    "        print(\"Le caractère d'ordinal {} est {}\".format(nombre, chr(int(nombre))))\n",
    "    except:\n",
    "        print(\"Le nombre {} n'est pas un ordinal valide\".format(nombre))"
   ]
  },
  {
   "cell_type": "code",
   "execution_count": 28,
   "metadata": {},
   "outputs": [
    {
     "name": "stdout",
     "output_type": "stream",
     "text": [
      "Et enfin, voici quelques caractères non usuels:\n",
      "0x2318  est :  ⌘\n",
      "0x2704  est :  ✄\n",
      "0x2764  est :  ❤\n",
      "0x265b  est :  ♛\n",
      "0x2620  est :  ☠\n",
      "0x2622  est :  ☢\n",
      "0x1f053 est :  🁓\n",
      "0x1f084 est :  🂄\n",
      "0x1f0d1 est :  🃑\n"
     ]
    }
   ],
   "source": [
    "print(\"Et enfin, voici quelques caractères non usuels:\")\n",
    "print(\"0x2318  est : \", chr(0x2318))\n",
    "print(\"0x2704  est : \", chr(0x2704))\n",
    "print(\"0x2764  est : \", chr(0x2764))\n",
    "print(\"0x265b  est : \", chr(0x265b))\n",
    "print(\"0x2620  est : \", chr(0x2620))\n",
    "print(\"0x2622  est : \", chr(0x2622))\n",
    "print(\"0x1f053 est : \", chr(0x1f053))\n",
    "print(\"0x1f084 est : \", chr(0x1f084))\n",
    "print(\"0x1f0d1 est : \", chr(0x1f0d1))"
   ]
  },
  {
   "cell_type": "code",
   "execution_count": null,
   "metadata": {},
   "outputs": [],
   "source": []
  }
 ],
 "metadata": {
  "kernelspec": {
   "display_name": "Python 3",
   "language": "python",
   "name": "python3"
  },
  "language_info": {
   "codemirror_mode": {
    "name": "ipython",
    "version": 3
   },
   "file_extension": ".py",
   "mimetype": "text/x-python",
   "name": "python",
   "nbconvert_exporter": "python",
   "pygments_lexer": "ipython3",
   "version": "3.6.5"
  }
 },
 "nbformat": 4,
 "nbformat_minor": 2
}
