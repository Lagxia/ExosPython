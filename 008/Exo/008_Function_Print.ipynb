{
 "cells": [
  {
   "cell_type": "code",
   "execution_count": 6,
   "metadata": {
    "collapsed": true,
    "pycharm": {
     "is_executing": false
    }
   },
   "outputs": [
    {
     "data": {
      "text/plain": "('Adresse : ', '57', 'Boulanger', '54321', 'France')"
     },
     "metadata": {},
     "output_type": "execute_result",
     "execution_count": 6
    }
   ],
   "source": [
    "import pandas as pd\n",
    "import numpy as np\n",
    "\n",
    "def traitement_adresse(numero, rue, codepostal, ville):\n",
    "    return 'Adresse : ', numero, rue, codepostal, ville\n",
    "\n",
    "number = input('Entrez le numéro : ')\n",
    "rue = input('Entrez la rue : ')\n",
    "codePostal = input('Entrez le code postal : ')\n",
    "country = input('Entrez la ville : ')\n",
    "traitement_adresse(number, rue, codePostal, country)"
   ]
  }
 ],
 "metadata": {
  "language_info": {
   "codemirror_mode": {
    "name": "ipython",
    "version": 2
   },
   "file_extension": ".py",
   "mimetype": "text/x-python",
   "name": "python",
   "nbconvert_exporter": "python",
   "pygments_lexer": "ipython2",
   "version": "2.7.6"
  },
  "kernelspec": {
   "name": "python3",
   "language": "python",
   "display_name": "Python 3"
  },
  "pycharm": {
   "stem_cell": {
    "cell_type": "raw",
    "source": [],
    "metadata": {
     "collapsed": false
    }
   }
  }
 },
 "nbformat": 4,
 "nbformat_minor": 0
}