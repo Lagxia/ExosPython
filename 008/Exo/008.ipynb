{
 "cells": [
  {
   "cell_type": "code",
   "execution_count": null,
   "metadata": {
    "collapsed": true
   },
   "outputs": [],
   "source": [
    "import pandas as pd\n",
    "import numpy as np\n",
    "\n",
    "def traitement_adresse():\n",
    "    df = pd.DataFrame({ 'A' : 1.,\n",
    "        'B' : pd.Timestamp('20130102'),\n",
    "        'C' : pd.Series(1,index = list(range(3)), dtype = 'float32'),\n",
    "        'D' : np.array([3] * 3, dtype = 'int32'),\n",
    "        'E' : pd.Categorical([\"test\",\"pomme\",\"train\"]),\n",
    "        'F' : 'foo' })\n",
    "    df"
   ]
  }
 ],
 "metadata": {
  "language_info": {
   "codemirror_mode": {
    "name": "ipython",
    "version": 2
   },
   "file_extension": ".py",
   "mimetype": "text/x-python",
   "name": "python",
   "nbconvert_exporter": "python",
   "pygments_lexer": "ipython2",
   "version": "2.7.6"
  },
  "kernelspec": {
   "name": "python3",
   "language": "python",
   "display_name": "Python 3"
  },
  "pycharm": {
   "stem_cell": {
    "cell_type": "raw",
    "source": [],
    "metadata": {
     "collapsed": false
    }
   }
  }
 },
 "nbformat": 4,
 "nbformat_minor": 0
}