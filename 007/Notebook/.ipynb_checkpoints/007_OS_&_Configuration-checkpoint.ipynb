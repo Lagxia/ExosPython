{
 "cells": [
  {
   "cell_type": "markdown",
   "metadata": {},
   "source": [
    "# OS Operating System (système d'exploitation)"
   ]
  },
  {
   "cell_type": "code",
   "execution_count": 2,
   "metadata": {},
   "outputs": [],
   "source": [
    "import os\n",
    "import platform"
   ]
  },
  {
   "cell_type": "code",
   "execution_count": 4,
   "metadata": {},
   "outputs": [
    {
     "data": {
      "text/plain": [
       "uname_result(system='Windows', node='DESKTOP-BKUFJNF', release='10', version='10.0.16299', machine='AMD64', processor='Intel64 Family 6 Model 94 Stepping 3, GenuineIntel')"
      ]
     },
     "execution_count": 4,
     "metadata": {},
     "output_type": "execute_result"
    }
   ],
   "source": [
    "# Informations d'identification du système d'exploitation\n",
    "# os.uname() \n",
    "platform.uname()"
   ]
  },
  {
   "cell_type": "code",
   "execution_count": 3,
   "metadata": {},
   "outputs": [
    {
     "name": "stdout",
     "output_type": "stream",
     "text": [
      "sysname =  Darwin\n",
      "nodename =  wkv218300025.genesis-groupe.com\n",
      "release =  18.5.0\n",
      "version =  Darwin Kernel Version 18.5.0: Mon Mar 11 20:40:32 PDT 2019; root:xnu-4903.251.3~3/RELEASE_X86_64\n",
      "machine =  x86_64\n"
     ]
    }
   ],
   "source": [
    "print(\"sysname = \", os.uname()[0])\n",
    "print(\"nodename = \", os.uname()[1])\n",
    "print(\"release = \", os.uname()[2])\n",
    "print(\"version = \", os.uname()[3])\n",
    "print(\"machine = \", os.uname()[4])"
   ]
  },
  {
   "cell_type": "code",
   "execution_count": 1,
   "metadata": {},
   "outputs": [
    {
     "ename": "NameError",
     "evalue": "name 'os' is not defined",
     "output_type": "error",
     "traceback": [
      "\u001b[1;31m---------------------------------------------------------------------------\u001b[0m",
      "\u001b[1;31mNameError\u001b[0m                                 Traceback (most recent call last)",
      "\u001b[1;32m<ipython-input-1-511fe239c919>\u001b[0m in \u001b[0;36m<module>\u001b[1;34m\u001b[0m\n\u001b[0;32m      1\u001b[0m \u001b[1;31m# Chemin\u001b[0m\u001b[1;33m\u001b[0m\u001b[1;33m\u001b[0m\u001b[1;33m\u001b[0m\u001b[0m\n\u001b[1;32m----> 2\u001b[1;33m \u001b[0mos\u001b[0m\u001b[1;33m.\u001b[0m\u001b[0mgetcwd\u001b[0m\u001b[1;33m(\u001b[0m\u001b[1;33m)\u001b[0m\u001b[1;33m\u001b[0m\u001b[1;33m\u001b[0m\u001b[0m\n\u001b[0m",
      "\u001b[1;31mNameError\u001b[0m: name 'os' is not defined"
     ]
    }
   ],
   "source": [
    "# Chemin\n",
    "os.getcwd()"
   ]
  },
  {
   "cell_type": "code",
   "execution_count": 15,
   "metadata": {},
   "outputs": [
    {
     "data": {
      "text/plain": [
       "['linear_algebra.py',\n",
       " '202_Moyennes_Ecarts_Type.ipynb',\n",
       " '005_Pandas.ipynb',\n",
       " '200_Groupages_Visualisations.ipynb',\n",
       " '.DS_Store',\n",
       " '001_Debuts.ipynb',\n",
       " '205_Etude_de_cas_Matplotlib_et_Seaborn.ipynb',\n",
       " 'gradient_descent.py',\n",
       " '102_GettingData_Fichiers_texte_csv.ipynb',\n",
       " '100_Lectures_&_Ecritures.ipynb',\n",
       " '002_Caracteres.ipynb',\n",
       " '304_Descente_de_Gradient.ipynb',\n",
       " '003_Listes.ipynb',\n",
       " '101_GettingData_Fichiers_texte.ipynb',\n",
       " '204_TimeSeries_Seaborn.ipynb',\n",
       " '007_OS_&_Configuration.ipynb',\n",
       " '300_Algèbre_Linéaire.ipynb',\n",
       " 'stats.py',\n",
       " '008_Pandas_&_Fonctions.ipynb',\n",
       " '203_Analyse_Globale_MatPlotLib.ipynb',\n",
       " 'probability.py',\n",
       " '.ipynb_checkpoints',\n",
       " '004_Iterations.ipynb',\n",
       " '206_C3js.ipynb',\n",
       " '301_Statistiques.ipynb',\n",
       " '303_hypothèse_&_Inférence.ipynb',\n",
       " '006_RecapitulatifDesBases.ipynb',\n",
       " '302_Probabilités.ipynb',\n",
       " '201_Visualisation_des_données.ipynb',\n",
       " '103_GettingData_Web_Json.ipynb']"
      ]
     },
     "execution_count": 15,
     "metadata": {},
     "output_type": "execute_result"
    }
   ],
   "source": [
    "# Liste des répertoires et fichiers présents dans le répertoire actuel\n",
    "os.listdir(os.getcwd()) "
   ]
  },
  {
   "cell_type": "code",
   "execution_count": 32,
   "metadata": {},
   "outputs": [
    {
     "data": {
      "text/plain": [
       "'notebooks'"
      ]
     },
     "execution_count": 32,
     "metadata": {},
     "output_type": "execute_result"
    }
   ],
   "source": [
    "# Répertoire\n",
    "os.getcwd().split('/')[-1]"
   ]
  },
  {
   "cell_type": "code",
   "execution_count": 33,
   "metadata": {},
   "outputs": [
    {
     "name": "stdout",
     "output_type": "stream",
     "text": [
      "False\n"
     ]
    }
   ],
   "source": [
    "# Tester l'existence d'un répertoire\n",
    "nomrepertoire = '999_Poubelle'\n",
    "print(os.path.exists(os.getcwd() + '/' + nomrepertoire))"
   ]
  },
  {
   "cell_type": "code",
   "execution_count": 34,
   "metadata": {},
   "outputs": [
    {
     "name": "stdout",
     "output_type": "stream",
     "text": [
      "True\n"
     ]
    }
   ],
   "source": [
    "# Créer le répertoire\n",
    "os.makedirs(os.getcwd() + '/' + nomrepertoire)\n",
    "# Tester l'existence du répertoire\n",
    "print(os.path.exists(os.getcwd() + '/' + nomrepertoire))"
   ]
  },
  {
   "cell_type": "code",
   "execution_count": 35,
   "metadata": {},
   "outputs": [
    {
     "name": "stdout",
     "output_type": "stream",
     "text": [
      "False\n"
     ]
    }
   ],
   "source": [
    "# Supprimer le répertoire\n",
    "os.rmdir(os.getcwd() + '/' + nomrepertoire)\n",
    "# Tester l'existence du répertoire\n",
    "print(os.path.exists(os.getcwd() + '/' + nomrepertoire))"
   ]
  },
  {
   "cell_type": "code",
   "execution_count": 36,
   "metadata": {},
   "outputs": [
    {
     "name": "stdout",
     "output_type": "stream",
     "text": [
      "007_OS_&_Configuration.ipynb existe :  True\n",
      "999_Poubelle.ipynb existe :  False\n"
     ]
    }
   ],
   "source": [
    "# Tester l'existence d'un fichier\n",
    "print(\"007_OS_&_Configuration.ipynb existe : \", os.path.isfile(os.getcwd() + '/007_OS_&_Configuration.ipynb'))\n",
    "print(\"999_Poubelle.ipynb existe : \", os.path.isfile(os.getcwd() + '/999_Poubelle.ipynb'))"
   ]
  },
  {
   "cell_type": "markdown",
   "metadata": {},
   "source": [
    "## Exercice"
   ]
  },
  {
   "cell_type": "raw",
   "metadata": {},
   "source": [
    "Dans le répertoire actuel :\n",
    "- Créer le répertoire '999_Poubelle' s'il n'existe pas et afficher :\n",
    "\n",
    "    Le répertoire '999_Poubelle' n'existe pas.\n",
    "    Je viens de créer le répertoire '999_Poubelle'.\n",
    "    Voici son chemin :  /Users/....../notebooks/999_Poubelle\n",
    "\n",
    "- Supprimer le répertoire '999_Poubelle' s'il existe et afficher :\n",
    "\n",
    "    Le répertoire '999_Poubelle' existe.\n",
    "    Je viens de supprimer le répertoire '999_Poubelle'.\n",
    "    Voici ce que contient le répertoire 'notebooks' :\n",
    "         .DS_Store\n",
    "         02_Caracteres.ipynb\n",
    "         03_Listes.ipynb\n",
    "         .ipynb_checkpoints\n",
    "         06_OS_&_Configuration.ipynb\n",
    "         01_Debuts.ipynb\n",
    "         04_Iterations.ipynb\n",
    "         05_Pandas.ipynb"
   ]
  },
  {
   "cell_type": "code",
   "execution_count": 38,
   "metadata": {},
   "outputs": [
    {
     "name": "stdout",
     "output_type": "stream",
     "text": [
      "Le répertoire '999_Poubelle' existe.\n",
      "Je viens de supprimer le répertoire '999_Poubelle'.\n",
      "Voici ce que contient le répertoire 'notebooks' :\n",
      "     linear_algebra.py\n",
      "     202_Moyennes_Ecarts_Type.ipynb\n",
      "     005_Pandas.ipynb\n",
      "     200_Groupages_Visualisations.ipynb\n",
      "     .DS_Store\n",
      "     001_Debuts.ipynb\n",
      "     205_Etude_de_cas_Matplotlib_et_Seaborn.ipynb\n",
      "     gradient_descent.py\n",
      "     102_GettingData_Fichiers_texte_csv.ipynb\n",
      "     100_Lectures_&_Ecritures.ipynb\n",
      "     002_Caracteres.ipynb\n",
      "     304_Descente_de_Gradient.ipynb\n",
      "     003_Listes.ipynb\n",
      "     101_GettingData_Fichiers_texte.ipynb\n",
      "     204_TimeSeries_Seaborn.ipynb\n",
      "     007_OS_&_Configuration.ipynb\n",
      "     300_Algèbre_Linéaire.ipynb\n",
      "     stats.py\n",
      "     008_Pandas_&_Fonctions.ipynb\n",
      "     203_Analyse_Globale_MatPlotLib.ipynb\n",
      "     probability.py\n",
      "     .ipynb_checkpoints\n",
      "     004_Iterations.ipynb\n",
      "     206_C3js.ipynb\n",
      "     301_Statistiques.ipynb\n",
      "     303_hypothèse_&_Inférence.ipynb\n",
      "     006_RecapitulatifDesBases.ipynb\n",
      "     302_Probabilités.ipynb\n",
      "     201_Visualisation_des_données.ipynb\n",
      "     103_GettingData_Web_Json.ipynb\n"
     ]
    }
   ],
   "source": [
    "nomrepertoire = '999-Poubelle'\n"
   ]
  },
  {
   "cell_type": "code",
   "execution_count": 39,
   "metadata": {},
   "outputs": [
    {
     "data": {
      "text/plain": [
       "'/Users/Fred/Desktop/POEi_Lille/09_Python_Prepa_Analyse_par_la_Pratique'"
      ]
     },
     "execution_count": 39,
     "metadata": {},
     "output_type": "execute_result"
    }
   ],
   "source": [
    "# Chemin répertoire parent\n",
    "cheminparent = '/'.join(os.getcwd().split('/')[:-1])\n",
    "cheminparent"
   ]
  },
  {
   "cell_type": "markdown",
   "metadata": {},
   "source": [
    "## Exercice de préparation de la gestion future des codes python"
   ]
  },
  {
   "cell_type": "raw",
   "metadata": {},
   "source": [
    "repertoires = ['output', 'references', 'resources']\n",
    "\n",
    "Dans le répertoire parent de 'notebook' :\n",
    "\n",
    "- Créer les répertoires dont le nom est dans le tableau ci dessous (s'ils n'existent pas déjà) :\n",
    "    repertoires = ['output', 'references', 'resources']\n",
    "\n",
    "- Afficher :\n",
    "\n",
    "    Le répertoire père de 'notebooks' est 'Python_par_la_pratique'.\n",
    "    Son chemin est : /Users/..../Python_par_la_pratique\n",
    "        Le répertoire 'output' a été créé.\n",
    "        Le répertoire 'references' a été créé.\n",
    "        Le répertoire 'resources' a été créé.\n",
    "    Voici ce que contient le répertoire 'Python_par_la_pratique' :\n",
    "         .DS_Store\n",
    "         references\n",
    "         resources\n",
    "         output\n",
    "         notebooks"
   ]
  },
  {
   "cell_type": "code",
   "execution_count": 40,
   "metadata": {},
   "outputs": [
    {
     "name": "stdout",
     "output_type": "stream",
     "text": [
      "Le répertoire père de 'notebooks' est '09_Python_Prepa_Analyse_par_la_Pratique'.\n",
      "Son chemin est : /Users/Fred/Desktop/POEi_Lille/09_Python_Prepa_Analyse_par_la_Pratique \n",
      "    Le répertoire 'output' existe déjà.\n",
      "    Le répertoire 'references' existe déjà.\n",
      "    Le répertoire 'resources' existe déjà.\n",
      "Voici ce que contient le répertoire '09_Python_Prepa_Analyse_par_la_Pratique' :\n",
      "     .DS_Store\n",
      "     references\n",
      "     resources\n",
      "     output\n",
      "     Configuration.conf\n",
      "     notebooks\n"
     ]
    }
   ],
   "source": []
  },
  {
   "cell_type": "markdown",
   "metadata": {},
   "source": [
    "# Configuration"
   ]
  },
  {
   "cell_type": "code",
   "execution_count": 41,
   "metadata": {},
   "outputs": [],
   "source": [
    "# Gestion de la configuration\n",
    "import configparser\n",
    "config = configparser.ConfigParser()"
   ]
  },
  {
   "cell_type": "code",
   "execution_count": 42,
   "metadata": {},
   "outputs": [
    {
     "data": {
      "text/plain": [
       "['../Configuration.conf']"
      ]
     },
     "execution_count": 42,
     "metadata": {},
     "output_type": "execute_result"
    }
   ],
   "source": [
    "# Fichier de configuration\n",
    "config.read('../Configuration.conf')"
   ]
  },
  {
   "cell_type": "code",
   "execution_count": 43,
   "metadata": {},
   "outputs": [
    {
     "data": {
      "text/plain": [
       "['Chemin', 'Fred']"
      ]
     },
     "execution_count": 43,
     "metadata": {},
     "output_type": "execute_result"
    }
   ],
   "source": [
    "# Sections du fichier de configuration\n",
    "config.sections() # Les sections sont listées entre crochets []."
   ]
  },
  {
   "cell_type": "code",
   "execution_count": 44,
   "metadata": {},
   "outputs": [
    {
     "name": "stdout",
     "output_type": "stream",
     "text": [
      "Le vrai prénom de Fred est :  Frédéric\n"
     ]
    }
   ],
   "source": [
    "# Obtention d'une chaîne\n",
    "prenom = config.get('Fred', 'Prenom')\n",
    "print(\"Le vrai prénom de Fred est : \", prenom)"
   ]
  },
  {
   "cell_type": "code",
   "execution_count": 45,
   "metadata": {},
   "outputs": [
    {
     "name": "stdout",
     "output_type": "stream",
     "text": [
      "Fred a 46 ans.\n",
      "Fred pèse 78 Kg.\n"
     ]
    }
   ],
   "source": [
    "# Obtention d'un integer\n",
    "age = config.getint('Fred', 'age')\n",
    "poids = config.getint('Fred', 'poids')\n",
    "print(\"Fred a {} ans.\".format(age))\n",
    "print(\"Fred pèse {} Kg.\".format(poids))"
   ]
  },
  {
   "cell_type": "code",
   "execution_count": 46,
   "metadata": {},
   "outputs": [
    {
     "name": "stdout",
     "output_type": "stream",
     "text": [
      "La taille de Fred est 1.77 m.\n",
      "Fred mesure 1 mètre 77.\n"
     ]
    }
   ],
   "source": [
    "# Obtention d'un float\n",
    "taille = config.getfloat('Fred', 'taille')\n",
    "print(\"La taille de Fred est {} m.\".format(taille))\n",
    "print(\"Fred mesure {} mètre {}.\".format(str(taille).split('.')[0], str(taille).split('.')[1]))"
   ]
  },
  {
   "cell_type": "code",
   "execution_count": 47,
   "metadata": {},
   "outputs": [
    {
     "name": "stdout",
     "output_type": "stream",
     "text": [
      "Fred est marié :  True\n",
      "Fred est une beau gosse :  False\n"
     ]
    }
   ],
   "source": [
    "# Obtention d'un booléen\n",
    "marie = config.getboolean('Fred', 'marié')\n",
    "beaugosse = config.getboolean('Fred', 'beaugosse')\n",
    "print(\"Fred est marié : \", marie)\n",
    "print(\"Fred est une beau gosse : \", beaugosse)"
   ]
  },
  {
   "cell_type": "code",
   "execution_count": 48,
   "metadata": {},
   "outputs": [
    {
     "name": "stdout",
     "output_type": "stream",
     "text": [
      "Le chemin des fichiers de sortie de traitement est : \n",
      " /Users/Fred/Desktop/POEi_Lille/09_Python_Prepa_Analyse_par_la_Pratique/output/\n"
     ]
    }
   ],
   "source": [
    "# Obtention des chemins de travail\n",
    "output = config.get('Chemin', 'output')\n",
    "print(\"Le chemin des fichiers de sortie de traitement est : \\n\", output)"
   ]
  },
  {
   "cell_type": "code",
   "execution_count": null,
   "metadata": {},
   "outputs": [],
   "source": []
  }
 ],
 "metadata": {
  "kernelspec": {
   "display_name": "Python 3",
   "language": "python",
   "name": "python3"
  },
  "language_info": {
   "codemirror_mode": {
    "name": "ipython",
    "version": 3
   },
   "file_extension": ".py",
   "mimetype": "text/x-python",
   "name": "python",
   "nbconvert_exporter": "python",
   "pygments_lexer": "ipython3",
   "version": "3.7.3"
  },
  "pycharm": {
   "stem_cell": {
    "cell_type": "raw",
    "metadata": {
     "collapsed": false
    },
    "source": []
   }
  }
 },
 "nbformat": 4,
 "nbformat_minor": 2
}
