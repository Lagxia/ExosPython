{
 "cells": [
  {
   "cell_type": "code",
   "execution_count": null,
   "metadata": {
    "collapsed": true
   },
   "outputs": [],
   "source": [
    "import os\n",
    "\n",
    "repertoryName = '999_Poubelle'\n",
    "\n",
    "if os.path.exists(os.getcwd() + '/' + '999_Poubelle'):\n",
    "    print(\"Repertoire déjà existant\")\n",
    "    print(\"Supression du répertoire\")\n",
    "    # Supprime le répertoire 999_Poubelle\n",
    "    os.rmdir(os.getcwd() + '/' + repertoryName)\n",
    "else:\n",
    "    print('Repertoire non trouvé. Création du répertoire')\n",
    "    # Créé le répertoire 999_Poubelle\n",
    "    os.makedirs(os.getcwd() + '/' + repertoryName)\n",
    "\n",
    "print(\"Voici ce que contient le répertoire '007'\")\n",
    "# Liste des répertoires et fichiers présents dans le répertoire 007\n",
    "os.listdir(os.path.abspath(os.path.join(os.getcwd(), os.pardir)))"
   ]
  }
 ],
 "metadata": {
  "language_info": {
   "codemirror_mode": {
    "name": "ipython",
    "version": 2
   },
   "file_extension": ".py",
   "mimetype": "text/x-python",
   "name": "python",
   "nbconvert_exporter": "python",
   "pygments_lexer": "ipython2",
   "version": "2.7.6"
  },
  "kernelspec": {
   "name": "python3",
   "language": "python",
   "display_name": "Python 3"
  },
  "pycharm": {
   "stem_cell": {
    "cell_type": "raw",
    "source": [],
    "metadata": {
     "collapsed": false
    }
   }
  }
 },
 "nbformat": 4,
 "nbformat_minor": 0
}