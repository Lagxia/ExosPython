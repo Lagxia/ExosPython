{
 "cells": [
  {
   "cell_type": "code",
   "execution_count": null,
   "metadata": {
    "collapsed": true
   },
   "outputs": [],
   "source": [
    "import os\n",
    "repertorys = ['output', 'references', 'resources']\n",
    "\n",
    "for repertory in repertorys:\n",
    "    if os.path.exists(os.path.abspath(os.path.join(os.getcwd(), os.pardir))+ '/' + repertory):\n",
    "        print(\"Repertoire \", repertory, \"existe déjà\")\n",
    "    else:\n",
    "        print(\"Le répertoire\", repertory, \"n'existe pas... Création en cours...\")\n",
    "        os.makedirs(os.path.abspath(os.path.join(os.getcwd(), os.pardir))+ '/' + repertory)\n",
    "\n",
    "print(\"Le répertoire parent est :\", os.path.abspath(os.path.join(os.getcwd(), os.pardir)))\n",
    "\n",
    "# Liste des répertoires et fichiers présents dans le répertoire 007\n",
    "os.listdir(os.path.abspath(os.path.join(os.getcwd(), os.pardir)))\n"
   ]
  }
 ],
 "metadata": {
  "language_info": {
   "codemirror_mode": {
    "name": "ipython",
    "version": 2
   },
   "file_extension": ".py",
   "mimetype": "text/x-python",
   "name": "python",
   "nbconvert_exporter": "python",
   "pygments_lexer": "ipython2",
   "version": "2.7.6"
  },
  "kernelspec": {
   "name": "python3",
   "language": "python",
   "display_name": "Python 3"
  },
  "pycharm": {
   "stem_cell": {
    "cell_type": "raw",
    "source": [],
    "metadata": {
     "collapsed": false
    }
   }
  }
 },
 "nbformat": 4,
 "nbformat_minor": 0
}