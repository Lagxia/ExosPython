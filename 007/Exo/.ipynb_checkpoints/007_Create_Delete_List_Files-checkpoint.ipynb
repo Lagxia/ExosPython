{
 "cells": [
  {
   "cell_type": "code",
   "execution_count": null,
   "metadata": {
    "collapsed": true
   },
   "outputs": [],
   "source": [
    "import os\n",
    "\n",
    "repertoryName = '999_Poubelle'\n",
    "\n",
    "if os.path.exists(os.getcwd() + '/' + '999_Poubelle'):\n",
    "    print(\"Repertoire déjà existant\")\n",
    "    print(\"Supression du répertoire\")\n",
    "    # Supprime le répertoire 999_Poubelle\n",
    "    os.rmdir(os.getcwd() + '/' + repertoryName)\n",
    "else:\n",
    "    print('Repertoire non trouvé. Création du répertoire')\n",
    "    # Créé le répertoire 999_Poubelle\n",
    "    os.makedirs(os.getcwd() + '/' + repertoryName)\n",
    "\n",
    "print(\"Voici ce que contient le répertoire '007'\")\n",
    "# Liste des répertoires et fichiers présents dans le répertoire 007\n",
    "os.listdir(os.path.abspath(os.path.join(os.getcwd(), os.pardir)))"
   ]
  }
 ],
 "metadata": {
  "kernelspec": {
   "display_name": "Python 3",
   "language": "python",
   "name": "python3"
  },
  "language_info": {
   "codemirror_mode": {
    "name": "ipython",
    "version": 3
   },
   "file_extension": ".py",
   "mimetype": "text/x-python",
   "name": "python",
   "nbconvert_exporter": "python",
   "pygments_lexer": "ipython3",
   "version": "3.7.3"
  },
  "pycharm": {
   "stem_cell": {
    "cell_type": "raw",
    "metadata": {
     "collapsed": false
    },
    "source": []
   }
  }
 },
 "nbformat": 4,
 "nbformat_minor": 1
}
