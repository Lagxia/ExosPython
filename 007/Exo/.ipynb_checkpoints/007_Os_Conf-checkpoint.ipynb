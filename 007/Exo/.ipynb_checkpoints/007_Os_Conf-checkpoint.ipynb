{
 "cells": [
  {
   "cell_type": "code",
   "execution_count": 19,
   "metadata": {},
   "outputs": [
    {
     "name": "stdout",
     "output_type": "stream",
     "text": [
      "Repertoire déjà existant\n",
      "Supression du répertoire\n",
      "Voici ce que contient le répertoire '007'\n",
      "\n"
     ]
    }
   ],
   "source": [
    "import os\n",
    "\n",
    "repertoryName = '999_Poubelle'\n",
    "\n",
    "if os.path.exists(os.getcwd() + '/' + '999_Poubelle'):\n",
    "    print(\"Repertoire déjà existant\")\n",
    "    print(\"Supression du répertoire\")\n",
    "    os.rmdir(os.getcwd() + '/' + repertoryName)\n",
    "else:\n",
    "    print('Repertoire non trouvé. Création du répertoire')\n",
    "    os.makedirs(os.getcwd() + '/' + repertoryName)\n",
    "\n",
    "print(\"Voici ce que contient le répertoire '007'\")\n",
    "# Liste des répertoires et fichiers présents dans le répertoire 007\n",
    "cheminparent = '/'.join(os.getcwd().split('/')[:-1])\n",
    "print(cheminparent)\n"
   ]
  },
  {
   "cell_type": "code",
   "execution_count": null,
   "metadata": {},
   "outputs": [],
   "source": []
  },
  {
   "cell_type": "code",
   "execution_count": null,
   "metadata": {},
   "outputs": [],
   "source": []
  }
 ],
 "metadata": {
  "kernelspec": {
   "display_name": "Python 3",
   "language": "python",
   "name": "python3"
  },
  "language_info": {
   "codemirror_mode": {
    "name": "ipython",
    "version": 3
   },
   "file_extension": ".py",
   "mimetype": "text/x-python",
   "name": "python",
   "nbconvert_exporter": "python",
   "pygments_lexer": "ipython3",
   "version": "3.7.3"
  },
  "pycharm": {
   "stem_cell": {
    "cell_type": "raw",
    "metadata": {
     "collapsed": false
    },
    "source": []
   }
  }
 },
 "nbformat": 4,
 "nbformat_minor": 1
}
