{
 "cells": [
  {
   "cell_type": "code",
   "execution_count": 14,
   "metadata": {},
   "outputs": [],
   "source": [
    "# Gestion des imports\n",
    "import configparser\n",
    "import requests, json "
   ]
  },
  {
   "cell_type": "code",
   "execution_count": 15,
   "metadata": {},
   "outputs": [
    {
     "data": {
      "text/plain": [
       "['../Configuration.conf']"
      ]
     },
     "execution_count": 15,
     "metadata": {},
     "output_type": "execute_result"
    }
   ],
   "source": [
    "# Gestion de la configuration\n",
    "config = configparser.ConfigParser()\n",
    "config.read('../Configuration.conf')"
   ]
  },
  {
   "cell_type": "code",
   "execution_count": 16,
   "metadata": {},
   "outputs": [],
   "source": [
    "# Obtention de ma Google API KEY\n",
    "mon_api_key = config.get('Google', 'api_key')"
   ]
  },
  {
   "cell_type": "code",
   "execution_count": 20,
   "metadata": {},
   "outputs": [],
   "source": [
    "# Fonction de request simple sur Google\n",
    "def RequeteSimpleGoogle(query):\n",
    "    # enter your api key here \n",
    "    api_key = mon_api_key\n",
    "    # url variable store url\n",
    "    url = \"https://maps.googleapis.com/maps/api/place/textsearch/json?\"\n",
    "    # get method of requests module --> return response object \n",
    "    r = requests.get(url + 'query=' + query + '&key=' + api_key) \n",
    "    # json method of response object convert json format data into python format data \n",
    "    x = r.json()\n",
    "    # now x contains list of nested dictionaries\n",
    "    # store the value of result key in variable y \n",
    "    y = x['results']\n",
    "    #print ('------------------------------------------------- Résultat en JSON : \\n', y, '\\n')\n",
    "    # keep looping upto lenght of y \n",
    "    for i in range(len(y)):\n",
    "        # Print value corresponding to the 'name' key at the ith index of y\n",
    "        print('------------------------------------------------- Sortie n° : ', i + 1, '\\n')\n",
    "        try:\n",
    "            print('Adresse formatée : ', y[i]['formatted_address'])\n",
    "        except: pass\n",
    "        try:\n",
    "            print('Latitude : ', y[i]['geometry']['location']['lat'])\n",
    "        except: pass\n",
    "        try:\n",
    "            print('Longitude : ', y[i]['geometry']['location']['lng'])\n",
    "        except: pass\n",
    "        try:\n",
    "            print('Icone : ', y[i]['icon'])\n",
    "        except: pass\n",
    "        try:\n",
    "            print('Id : ', y[i]['id'])\n",
    "        except: pass\n",
    "        try:\n",
    "            print('Nom : ', y[i]['name'])\n",
    "        except: pass\n",
    "        try:\n",
    "            print(\"Horaires d'ouverture : \", y[i]['opening_hours'])\n",
    "        except: pass\n",
    "        try:\n",
    "            print('Photos : ', y[i]['photos'])\n",
    "        except: pass\n",
    "        try:\n",
    "            print('Notation : ', y[i]['rating'])\n",
    "        except: pass\n",
    "        try:\n",
    "            print('Types : ', y[i]['types'], '\\n')\n",
    "        except: pass"
   ]
  },
  {
   "cell_type": "code",
   "execution_count": 22,
   "metadata": {},
   "outputs": [
    {
     "name": "stdout",
     "output_type": "stream",
     "text": [
      "Search query: musee confluence lyon\n",
      "------------------------------------------------- Sortie n° :  1 \n",
      "\n",
      "Adresse formatée :  86 Quai Perrache, 69002 Lyon, France\n",
      "Latitude :  45.7326492\n",
      "Longitude :  4.818213000000001\n",
      "Icone :  https://maps.gstatic.com/mapfiles/place_api/icons/museum-71.png\n",
      "Id :  1ccc46245740d484e0211928f0ac596604d56e86\n",
      "Nom :  Confluence Museum\n",
      "Horaires d'ouverture :  {'open_now': True}\n",
      "Photos :  [{'height': 3265, 'html_attributions': ['<a href=\"https://maps.google.com/maps/contrib/112884815460744333003/photos\">Yohei H</a>'], 'photo_reference': 'CmRaAAAAV1Iqs50xxN8ASM57YIreCPpxN7CoQx6H7lk9PFkeA1yZ8gjEocMfVxxfpc9Av6UFl9USzpli1rwpNJp9lwYuGFLjwR3fYG87mIXI2yX14VB4lr91ejXCK6f4OLfZJg7MEhB50LwuRY4OiE8bYX2CgGSoGhSiPBYM91XaSpgxv-093Hab1rMGFg', 'width': 4898}]\n",
      "Notation :  4.4\n",
      "Types :  ['museum', 'point_of_interest', 'establishment'] \n",
      "\n"
     ]
    }
   ],
   "source": [
    "# La recherche à faire sur Google\n",
    "query = input('Search query: ')\n",
    "RequeteSimpleGoogle(query)"
   ]
  },
  {
   "cell_type": "code",
   "execution_count": null,
   "metadata": {},
   "outputs": [],
   "source": []
  }
 ],
 "metadata": {
  "kernelspec": {
   "display_name": "Python 3",
   "language": "python",
   "name": "python3"
  },
  "language_info": {
   "codemirror_mode": {
    "name": "ipython",
    "version": 3
   },
   "file_extension": ".py",
   "mimetype": "text/x-python",
   "name": "python",
   "nbconvert_exporter": "python",
   "pygments_lexer": "ipython3",
   "version": "3.6.5"
  }
 },
 "nbformat": 4,
 "nbformat_minor": 2
}
