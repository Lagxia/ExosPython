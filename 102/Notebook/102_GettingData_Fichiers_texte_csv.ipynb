{
 "cells": [
  {
   "cell_type": "code",
   "execution_count": 25,
   "metadata": {},
   "outputs": [],
   "source": [
    "from collections import Counter\n",
    "import math, random, csv, json, re"
   ]
  },
  {
   "cell_type": "code",
   "execution_count": 27,
   "metadata": {},
   "outputs": [
    {
     "name": "stdout",
     "output_type": "stream",
     "text": [
      "Fichier :  ../resources/tab_delimited_stock_prices.txt\n",
      "6/20/2014 AAPL 90.91\n",
      "6/20/2014 MSFT 41.68\n",
      "6/20/2014 FB 64.5\n",
      "6/19/2014 AAPL 91.86\n",
      "6/19/2014 MSFT 41.51\n",
      "6/19/2014 FB 64.34\n"
     ]
    }
   ],
   "source": [
    "fichier = '../resources/tab_delimited_stock_prices.txt'\n",
    "print('Fichier : ', fichier)\n",
    "with open(fichier, 'r', encoding = 'UTF-8', newline = '') as f:\n",
    "    reader = csv.reader(f, delimiter = '\\t')\n",
    "    for row in reader:\n",
    "            date = row[0]\n",
    "            symbol = row[1]\n",
    "            closing_price = float(row[2])\n",
    "            print(date, symbol, closing_price)"
   ]
  },
  {
   "cell_type": "code",
   "execution_count": 28,
   "metadata": {},
   "outputs": [
    {
     "name": "stdout",
     "output_type": "stream",
     "text": [
      "Fichier :  ../resources/colon_delimited_stock_prices.txt\n",
      "6/20/2014 AAPL 90.91\n",
      "6/20/2014 MSFT 41.68\n",
      "6/20/2014 FB 64.5\n"
     ]
    }
   ],
   "source": [
    "fichier = '../resources/colon_delimited_stock_prices.txt'\n",
    "print('Fichier : ', fichier)\n",
    "with open(fichier, 'r', encoding = 'UTF-8', newline = '') as f:\n",
    "    reader = csv.DictReader(f, delimiter=':')\n",
    "    for row in reader:\n",
    "        date = row[\"date\"]\n",
    "        symbol = row[\"symbol\"]\n",
    "        closing_price = float(row[\"closing_price\"])\n",
    "        print(date, symbol, closing_price)"
   ]
  },
  {
   "cell_type": "code",
   "execution_count": null,
   "metadata": {},
   "outputs": [],
   "source": []
  }
 ],
 "metadata": {
  "kernelspec": {
   "display_name": "Python 3",
   "language": "python",
   "name": "python3"
  },
  "language_info": {
   "codemirror_mode": {
    "name": "ipython",
    "version": 3
   },
   "file_extension": ".py",
   "mimetype": "text/x-python",
   "name": "python",
   "nbconvert_exporter": "python",
   "pygments_lexer": "ipython3",
   "version": "3.6.5"
  }
 },
 "nbformat": 4,
 "nbformat_minor": 2
}
