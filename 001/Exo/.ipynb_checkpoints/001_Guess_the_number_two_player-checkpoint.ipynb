{
 "cells": [
  {
   "cell_type": "markdown",
   "metadata": {},
   "source": [
    "## Exercice \"Guess the number\" (à deux)"
   ]
  },
  {
   "cell_type": "raw",
   "metadata": {},
   "source": [
    "Réaliser le jeu \"Guess The number\"\n",
    "Partie 1 : Demander la saisie à l'utilisateur d'un nombre entre 0 et 100\n",
    "Partie 2 : Faire deviner le nombre à l'utilisateur"
   ]
  },
  {
   "cell_type": "code",
   "execution_count": null,
   "metadata": {
    "collapsed": true,
    "pycharm": {
     "is_executing": true,
     "name": "#%%\n"
    }
   },
   "outputs": [
    {
     "name": "stdout",
     "output_type": "stream",
     "text": [
      "*** Saisissez le nombre à deviner ***\n",
      "*** Success ***\n",
      "*** Essayez de trouver le nombre à deviner ***\n"
     ]
    }
   ],
   "source": [
    "# Partie 1 :\n",
    "print(\"*** Saisissez le nombre à deviner ***\")\n",
    "boucle = True\n",
    "while boucle == True:\n",
    "    # On demande la saisie d'un nombre\n",
    "    nombre = input(\"Saisissez un nombre entier entre 0 et 100 inclus: \")\n",
    "    try:\n",
    "        nombre = int(nombre)\n",
    "    except:\n",
    "        print(\"Erreur dans la saisie\")\n",
    "        pass\n",
    "    # Faire la comparaison\n",
    "    \n",
    "    if 0 <= nombre <= 100:\n",
    "        # On a ce que l'on veut, on quitte la boucle\n",
    "        print(\"*** Success ***\")\n",
    "        boucle = False\n",
    "        break\n",
    "    else:\n",
    "        print(\"*** Entier non compris entre 0 et 100 ***\")\n",
    "        \n",
    "\n",
    "# Partie 2 :\n",
    "print(\"*** Essayez de trouver le nombre à deviner ***\")\n",
    "while True:  # BOUCLE 1\n",
    "    # On entre dans une boucle infinie qui permet de jouer plusieurs coups\n",
    "    while True:  # BOUCLE 2\n",
    "        # On entre dans une boucle infinie qui permet de corriger une erreur de saisie\n",
    "        # On demande la saisie d'un nombre\n",
    "        essai = input(\"Saisissez un nombre entre 0 et 100 inclus : \")\n",
    "        try:\n",
    "            essai = int(essai)\n",
    "        except:\n",
    "            pass\n",
    "        else:\n",
    "            # Faire la comparaison\n",
    "            if 0 <= essai <= 100:\n",
    "                # On a ce que l'on veut, on quitte la BOUCLE 2\n",
    "                break\n",
    "\n",
    "    # On teste si l'essai est correct ou non\n",
    "    if essai < nombre:\n",
    "        print(\"Non, trop petit\")\n",
    "    elif essai > nombre:\n",
    "        print(\"Non, trop grand\")\n",
    "    else:\n",
    "        print(\"C'est gagné !\")\n",
    "        # On a terminé la partie, on quitte la BOUCLE 1\n",
    "        break\n"
   ]
  }
 ],
 "metadata": {
  "kernelspec": {
   "display_name": "Python 3",
   "language": "python",
   "name": "python3"
  },
  "language_info": {
   "codemirror_mode": {
    "name": "ipython",
    "version": 3
   },
   "file_extension": ".py",
   "mimetype": "text/x-python",
   "name": "python",
   "nbconvert_exporter": "python",
   "pygments_lexer": "ipython3",
   "version": "3.7.3"
  },
  "pycharm": {
   "stem_cell": {
    "cell_type": "raw",
    "metadata": {
     "collapsed": false
    },
    "source": []
   }
  }
 },
 "nbformat": 4,
 "nbformat_minor": 1
}
