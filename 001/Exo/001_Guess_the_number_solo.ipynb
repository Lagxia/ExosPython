{
 "cells": [
  {
   "cell_type": "markdown",
   "source": [
    "## Exercice \"Guess the number\" (en solo)"
   ],
   "metadata": {
    "collapsed": false
   }
  },
  {
   "cell_type": "raw",
   "source": [
    "Réaliser le jeu \"Guess The number\"\n",
    "Un nombre entre 0 et 100 est choisi aléatoirement\n",
    "Faire deviner le nombre à l'utilisateur en lui indiquant le nombre de tentatives qu'il lui a fallu"
   ],
   "metadata": {
    "collapsed": false,
    "pycharm": {
     "name": "#%% raw\n"
    }
   }
  },
  {
   "cell_type": "code",
   "execution_count": null,
   "outputs": [],
   "source": [
    "# import random method \n",
    "import random\n",
    "\n",
    "# Indicateur du nombre d'essai de l'utilisateur\n",
    "count = 0\n",
    "# generate a random number\n",
    "randomNumber = random.randint(0, 100)\n",
    "\n",
    "print(\"Essayez de trouver le nombre\")\n",
    "while True:\n",
    "    # On récupère la saisie de l'utilisateur\n",
    "    number = input()\n",
    "    try:\n",
    "        # On essaye de voir si la saisie de l'utilisateur est bien un entier\n",
    "        number = int(number)\n",
    "    except:\n",
    "        # L'utilisateur n'a pas entrée un entier\n",
    "        print(\"Ceci n'est pas un nombre\")\n",
    "        pass\n",
    "    else:\n",
    "        # Si le nombre de l'utilisateur est bien entre 0 et 100 (inclus)\n",
    "        if 0 <= number <= 100:\n",
    "            if randomNumber == number:\n",
    "                print(\"GG, Nombre d'essai: \", count)\n",
    "                break;\n",
    "            else:\n",
    "                print(\"Essaye encore x)\")\n",
    "                count = count + 1\n",
    "        else:\n",
    "            print(\"Le nombre saisie n'est pas entre 0 et 100 inclus\")\n",
    "\n",
    "\n"
   ],
   "metadata": {
    "collapsed": false,
    "pycharm": {
     "name": "#%%\n"
    }
   }
  }
 ],
 "metadata": {
  "language_info": {
   "codemirror_mode": {
    "name": "ipython",
    "version": 2
   },
   "file_extension": ".py",
   "mimetype": "text/x-python",
   "name": "python",
   "nbconvert_exporter": "python",
   "pygments_lexer": "ipython2",
   "version": "2.7.6"
  },
  "kernelspec": {
   "name": "python3",
   "language": "python",
   "display_name": "Python 3"
  },
  "pycharm": {
   "stem_cell": {
    "cell_type": "raw",
    "source": [
     "# Choix aléatoire par la machine\n",
     "import random\n",
     "nombre = random.randint(-10, 10)\n",
     "print(nombre)"
    ],
    "metadata": {
     "collapsed": false
    }
   }
  }
 },
 "nbformat": 4,
 "nbformat_minor": 0
}