{
 "cells": [
  {
   "cell_type": "markdown",
   "source": [
    "## Exercice \"Guess the number\" (à deux)"
   ],
   "metadata": {
    "collapsed": false
   }
  },
  {
   "cell_type": "raw",
   "source": [
    "Réaliser le jeu \"Guess The number\"\n",
    "Partie 1 : Demander la saisie à l'utilisateur d'un nombre entre 0 et 100\n",
    "Partie 2 : Faire deviner le nombre à l'utilisateur"
   ],
   "metadata": {
    "collapsed": false
   }
  },
  {
   "cell_type": "code",
   "execution_count": 2,
   "metadata": {
    "collapsed": true,
    "pycharm": {
     "is_executing": false,
     "name": "#%%\n"
    }
   },
   "outputs": [
    {
     "name": "stdout",
     "text": [
      "*** Saisissez le nombre à deviner ***\n",
      "*** Essayez de trouver le nombre à deviner ***\n",
      "C'est gagné !\n"
     ],
     "output_type": "stream"
    }
   ],
   "source": [
    "# Partie 1 :\n",
    "print(\"*** Saisissez le nombre à deviner ***\")\n",
    "while True:\n",
    "    # On demande la saisie d'un nombre\n",
    "    nombre = input(\"Saisissez un nombre entier entre 0 et 100 inclus: \")\n",
    "    try:\n",
    "        nombre = int(nombre)\n",
    "    except:\n",
    "        print(\"Erreur dans la saisie\")\n",
    "        pass\n",
    "    # Faire la comparaison\n",
    "    \n",
    "    if 0 <= nombre <= 100:\n",
    "        # On a ce que l'on veut, on quitte la boucle\n",
    "        break\n",
    "    else:\n",
    "        print(\"*** Entier non compris entre 0 et 100 ***\")\n",
    "        \n",
    "\n",
    "# Partie 2 :\n",
    "print(\"*** Essayez de trouver le nombre à deviner ***\")\n",
    "while True:  # BOUCLE 1\n",
    "    # On entre dans une boucle infinie qui permet de jouer plusieurs coups\n",
    "    while True:  # BOUCLE 2\n",
    "        # On entre dans une boucle infinie qui permet de corriger une erreur de saisie\n",
    "        # On demande la saisie d'un nombre\n",
    "        essai = input(\"Essayez de trouver le nombre à deviner : \")\n",
    "        try:\n",
    "            essai = int(essai)\n",
    "        except:\n",
    "            pass\n",
    "        else:\n",
    "            # Faire la comparaison\n",
    "            if 0 <= essai <= 100:\n",
    "                # On a ce que l'on veut, on quitte la BOUCLE 2\n",
    "                break\n",
    "\n",
    "    # On teste si l'essai est correct ou non\n",
    "    if essai < nombre:\n",
    "        print(\"Non, trop petit\")\n",
    "    elif essai > nombre:\n",
    "        print(\"Non, trop grand\")\n",
    "    else:\n",
    "        print(\"C'est gagné !\")\n",
    "        # On a terminé la partie, on quitte la BOUCLE 1\n",
    "        break\n"
   ]
  }
 ],
 "metadata": {
  "language_info": {
   "codemirror_mode": {
    "name": "ipython",
    "version": 2
   },
   "file_extension": ".py",
   "mimetype": "text/x-python",
   "name": "python",
   "nbconvert_exporter": "python",
   "pygments_lexer": "ipython2",
   "version": "2.7.6"
  },
  "kernelspec": {
   "name": "python3",
   "language": "python",
   "display_name": "Python 3"
  },
  "pycharm": {
   "stem_cell": {
    "cell_type": "raw",
    "source": [],
    "metadata": {
     "collapsed": false
    }
   }
  }
 },
 "nbformat": 4,
 "nbformat_minor": 0
}