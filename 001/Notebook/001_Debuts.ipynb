{
 "cells": [
  {
   "cell_type": "markdown",
   "metadata": {},
   "source": [
    "# Nos débuts"
   ]
  },
  {
   "cell_type": "markdown",
   "metadata": {},
   "source": [
    "## sortie standard"
   ]
  },
  {
   "cell_type": "code",
   "execution_count": 1,
   "metadata": {},
   "outputs": [
    {
     "name": "stdout",
     "output_type": "stream",
     "text": [
      "Le prof s'appelle Fred !\n"
     ]
    }
   ],
   "source": [
    "print(\"Le prof s'appelle Fred !\")"
   ]
  },
  {
   "cell_type": "markdown",
   "metadata": {},
   "source": [
    "## entrée standard"
   ]
  },
  {
   "cell_type": "code",
   "execution_count": 2,
   "metadata": {},
   "outputs": [
    {
     "name": "stdout",
     "output_type": "stream",
     "text": [
      "Comment t'appelles-tu ? : Fred\n",
      "Je m'appelle Fred\n"
     ]
    }
   ],
   "source": [
    "# On demande la saisie\n",
    "saisie = input(\"Comment t'appelles-tu ? : \")\n",
    "\n",
    "# On affiche cette saisie\n",
    "print(\"Je m'appelle\", saisie)"
   ]
  },
  {
   "cell_type": "markdown",
   "metadata": {},
   "source": [
    "## booléens"
   ]
  },
  {
   "cell_type": "code",
   "execution_count": 3,
   "metadata": {},
   "outputs": [
    {
     "name": "stdout",
     "output_type": "stream",
     "text": [
      "Saisissez un premier nombre entier : Fred\n",
      "Saisissez un second nombre entier : Fred\n",
      "Fred < Fred : False\n"
     ]
    }
   ],
   "source": [
    "# Comparaison entre deux saisies\n",
    "nombre1 = input(\"Saisissez un premier nombre entier : \")\n",
    "nombre2 = input(\"Saisissez un second nombre entier : \")\n",
    "\n",
    "# Faire la comparaison\n",
    "comparaison = nombre1 < nombre2\n",
    "\n",
    "# On affiche la comparaison\n",
    "print(nombre1, \"<\", nombre2, \":\", comparaison)"
   ]
  },
  {
   "cell_type": "code",
   "execution_count": 4,
   "metadata": {},
   "outputs": [
    {
     "name": "stdout",
     "output_type": "stream",
     "text": [
      "Format de nombre1 :  <built-in method format of str object at 0x111d9f960>\n",
      "Format de nombre2 :  <built-in method format of str object at 0x111d9f9d0>\n"
     ]
    }
   ],
   "source": [
    "print(\"Format de nombre1 : \", nombre1.format)\n",
    "print(\"Format de nombre2 : \", nombre2.format)"
   ]
  },
  {
   "cell_type": "markdown",
   "metadata": {},
   "source": [
    "## type"
   ]
  },
  {
   "cell_type": "code",
   "execution_count": 5,
   "metadata": {},
   "outputs": [
    {
     "name": "stdout",
     "output_type": "stream",
     "text": [
      "Saisissez un premier nombre entier : 34\n",
      "Saisissez un second nombre entier : 22\n",
      "34 < 22 : False\n"
     ]
    }
   ],
   "source": [
    "# Comparaison entre deux saisies\n",
    "nombre1 = int(input(\"Saisissez un premier nombre entier : \"))\n",
    "nombre2 = int(input(\"Saisissez un second nombre entier : \"))\n",
    "\n",
    "# Faire la comparaison\n",
    "comparaison = nombre1 < nombre2\n",
    "\n",
    "# On affiche la comparaison\n",
    "print(nombre1, \"<\", nombre2, \":\", comparaison)"
   ]
  },
  {
   "cell_type": "markdown",
   "metadata": {},
   "source": [
    "## exceptions"
   ]
  },
  {
   "cell_type": "code",
   "execution_count": 6,
   "metadata": {},
   "outputs": [
    {
     "name": "stdout",
     "output_type": "stream",
     "text": [
      "Saisissez un premier nombre entier : Fred\n"
     ]
    },
    {
     "name": "stderr",
     "output_type": "stream",
     "text": [
      "Le premier nombre n'est pas un nombre entier\n"
     ]
    },
    {
     "ename": "SystemExit",
     "evalue": "",
     "output_type": "error",
     "traceback": [
      "An exception has occurred, use %tb to see the full traceback.\n",
      "\u001b[0;31mSystemExit\u001b[0m\n"
     ]
    },
    {
     "name": "stderr",
     "output_type": "stream",
     "text": [
      "/usr/local/lib/python3.6/site-packages/IPython/core/interactiveshell.py:3275: UserWarning: To exit: use 'exit', 'quit', or Ctrl-D.\n",
      "  warn(\"To exit: use 'exit', 'quit', or Ctrl-D.\", stacklevel=1)\n"
     ]
    }
   ],
   "source": [
    "import sys\n",
    "\n",
    "# Premier nombre\n",
    "nombre1 = input(\"Saisissez un premier nombre entier : \")\n",
    "try:\n",
    "    nombre1 = int(nombre1)\n",
    "except:\n",
    "    print(\"Le premier nombre n'est pas un nombre entier\", file = sys.stderr)\n",
    "    sys.exit()\n",
    "\n",
    "# Second nombre\n",
    "try:\n",
    "    nombre2 = int(input(\"Saisissez un second nombre entier : \"))\n",
    "except ValueError as e:\n",
    "    print(\"Le second nombre n'est pas un nombre entier\", file = sys.stderr)\n",
    "    sys.exit()\n",
    "\n",
    "# Faire la comparaison\n",
    "comparaison = nombre1 < nombre2\n",
    "\n",
    "print(nombre1, \"<\", nombre2, \":\", comparaison)"
   ]
  },
  {
   "cell_type": "markdown",
   "metadata": {},
   "source": [
    "## blocs conditionnels"
   ]
  },
  {
   "cell_type": "code",
   "execution_count": 7,
   "metadata": {},
   "outputs": [
    {
     "name": "stdout",
     "output_type": "stream",
     "text": [
      "Saisissez un premier nombre entier : 3\n",
      "Saisissez un second nombre entier : 4\n",
      "3 est différent de 4\n"
     ]
    }
   ],
   "source": [
    "try:\n",
    "    nombre1 = int(input(\"Saisissez un premier nombre entier : \"))\n",
    "    nombre2 = int(input(\"Saisissez un second nombre entier : \"))\n",
    "except ValueError as e:\n",
    "    print(\"Au moins un des deux nombres n'est pas un nombre entier\", file = sys.stderr)\n",
    "    sys.exit()\n",
    "\n",
    "# Faire la comparaison\n",
    "if nombre1 == nombre2:\n",
    "    print(nombre1, \"est égal à\", nombre2)\n",
    "else:\n",
    "    print(nombre1, \"est différent de\", nombre2)"
   ]
  },
  {
   "cell_type": "code",
   "execution_count": null,
   "metadata": {},
   "outputs": [],
   "source": [
    "try:\n",
    "    nombre1 = int(input(\"Saisissez un premier nombre entier : \"))\n",
    "    nombre2 = int(input(\"Saisissez un second nombre entier : \"))\n",
    "except ValueError as e:\n",
    "    print(\"Au moins un des deux nombres n'est pas un nombre entier\", file = sys.stderr)\n",
    "    sys.exit()\n",
    "\n",
    "# Faire la comparaison\n",
    "if nombre1 < nombre2:\n",
    "    print(nombre1, \"est inférieur à\", nombre2)\n",
    "elif nombre1 > nombre2:\n",
    "    print(nombre1, \"est supérieur à\", nombre2)\n",
    "else:\n",
    "    print(nombre1, \"est égal à\", nombre2)"
   ]
  },
  {
   "cell_type": "code",
   "execution_count": null,
   "metadata": {},
   "outputs": [],
   "source": [
    "try:\n",
    "    nombre1 = int(input(\"Saisissez un premier nombre entier entre 1 et 10 : \"))\n",
    "    nombre2 = int(input(\"Saisissez un second nombre entier entre 1 et 10 : \"))\n",
    "except ValueError as e:\n",
    "    print(\"Au moins un des deux nombres n'est pas un nombre entier\", file = sys.stderr)\n",
    "    sys.exit()\n",
    "\n",
    "# Faire la comparaison\n",
    "if 0 < nombre1 < 11:\n",
    "    print(\"Le nombre\", nombre1, \"est bien entre 1 et 10\")\n",
    "\n",
    "if 1 <= nombre2 <= 10:\n",
    "    print(\"Le nombre\", nombre2, \"est bien entre 1 et 10\")\n",
    "\n",
    "if nombre1 < nombre2:\n",
    "    print(nombre1, \"est inférieur à\", nombre2)\n",
    "elif nombre1 > nombre2:\n",
    "    print(nombre1, \"est supérieur à\", nombre2)\n",
    "else:\n",
    "    print(nombre1, \"est égal à\", nombre2)"
   ]
  },
  {
   "cell_type": "markdown",
   "metadata": {},
   "source": [
    "## blocs itératifs"
   ]
  },
  {
   "cell_type": "code",
   "execution_count": null,
   "metadata": {},
   "outputs": [],
   "source": [
    "# Un bloc itératif permet de recommencer une action de 0 à n fois.\n",
    "nombre = input(\"Saisissez un nombre entier entre 1 et 10 : \")\n",
    "\n",
    "try:\n",
    "    nombre = int(nombre)\n",
    "except:\n",
    "    nombre = 0\n",
    "\n",
    "while not 1 <= nombre <= 10:\n",
    "    # Tant que le nombre n'est pas valide on redemande la saisie d'un nombre\n",
    "    nombre = input(\"Saisissez un nombre entier entre 1 et 10 : \")\n",
    "    try:\n",
    "        nombre = int(nombre)\n",
    "    except:\n",
    "        nombre = 0\n",
    "\n",
    "print(\"Ok, je suis certain que\", nombre, \"est un nombre entier et qu'il est compris entre 1 et 10 inclus.\")"
   ]
  },
  {
   "cell_type": "code",
   "execution_count": null,
   "metadata": {},
   "outputs": [],
   "source": [
    "# La boucle infinie doit être quittée à un moment ou à un autre.\n",
    "# Dans cet exemple, la boucle est forcément exécutée au moins une fois.\n",
    "while True:\n",
    "    # On entre dans une boucle infinie\n",
    "    # On demande la saisie d'un nombre\n",
    "    nombre = input(\"Saisissez un nombre entier entre 1 et 10 : \")\n",
    "    try:\n",
    "        nombre = int(nombre)\n",
    "    except:\n",
    "        pass\n",
    "    else:\n",
    "        # Faire la comparaison\n",
    "        if 1 <= nombre <= 10:\n",
    "            # On a ce que l'on veut, on quitte la boucle\n",
    "            break\n",
    "\n",
    "print(\"Ok, je suis certain que\", nombre, \"est un nombre entier et qu'il est compris entre 1 et 10 inclus.\")"
   ]
  },
  {
   "cell_type": "markdown",
   "metadata": {},
   "source": [
    "## Exercice \"Guess the number\" (à deux)"
   ]
  },
  {
   "cell_type": "raw",
   "metadata": {},
   "source": [
    "Réaliser le jeu \"Guess The number\"\n",
    "Partie 1 : Demander la saisie à l'utilisateur d'un nombre entre 0 et 100\n",
    "Partie 2 : Faire deviner le nombre à l'utilisateur"
   ]
  },
  {
   "cell_type": "code",
   "execution_count": null,
   "metadata": {},
   "outputs": [],
   "source": [
    "# Partie 1 :\n",
    "print(\"*** Saisissez le nombre à deviner ***\")\n",
    "\n",
    "# Partie 2 :\n",
    "print(\"*** Essayez de trouver le nombre à deviner ***\")\n"
   ]
  },
  {
   "cell_type": "markdown",
   "metadata": {},
   "source": [
    "## random"
   ]
  },
  {
   "cell_type": "code",
   "execution_count": null,
   "metadata": {},
   "outputs": [],
   "source": [
    "# Choix aléatoire par la machine\n",
    "import random\n",
    "nombre = random.randint(-10, 10)\n",
    "print(nombre)"
   ]
  },
  {
   "cell_type": "markdown",
   "metadata": {},
   "source": [
    "## Exercice \"Guess the number\" (en solo)"
   ]
  },
  {
   "cell_type": "raw",
   "metadata": {},
   "source": [
    "Réaliser le jeu \"Guess The number\"\n",
    "Un nombre entre 0 et 100 est choisi aléatoirement\n",
    "Faire deviner le nombre à l'utilisateur en lui indiquant le nombre de tentatives qu'il lui a fallu"
   ]
  },
  {
   "cell_type": "code",
   "execution_count": null,
   "metadata": {},
   "outputs": [],
   "source": []
  }
 ],
 "metadata": {
  "kernelspec": {
   "display_name": "Python 3",
   "language": "python",
   "name": "python3"
  },
  "language_info": {
   "codemirror_mode": {
    "name": "ipython",
    "version": 3
   },
   "file_extension": ".py",
   "mimetype": "text/x-python",
   "name": "python",
   "nbconvert_exporter": "python",
   "pygments_lexer": "ipython3",
   "version": "3.7.3"
  }
 },
 "nbformat": 4,
 "nbformat_minor": 2
}
