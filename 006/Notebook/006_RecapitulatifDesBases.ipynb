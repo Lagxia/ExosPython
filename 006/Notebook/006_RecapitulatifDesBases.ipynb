{
 "cells": [
  {
   "cell_type": "code",
   "execution_count": 1,
   "metadata": {},
   "outputs": [
    {
     "name": "stdout",
     "output_type": "stream",
     "text": [
      "i :  3\n",
      "j :  10\n",
      "i + j :  13\n",
      "j :  20\n",
      "i + j :  23\n",
      "i :  4\n",
      "j :  10\n",
      "i + j :  14\n",
      "j :  20\n",
      "i + j :  24\n",
      "i :  5\n",
      "j :  10\n",
      "i + j :  15\n",
      "j :  20\n",
      "i + j :  25\n",
      "done looping\n"
     ]
    }
   ],
   "source": [
    "for i in [3, 4, 5]:\n",
    "    print (\"i : \", i)\n",
    "    for j in [10, 20]:\n",
    "        print (\"j : \", j)\n",
    "        print (\"i + j : \", i + j)\n",
    "print (\"done looping\")"
   ]
  },
  {
   "cell_type": "code",
   "execution_count": 2,
   "metadata": {},
   "outputs": [
    {
     "data": {
      "text/plain": [
       "210"
      ]
     },
     "execution_count": 2,
     "metadata": {},
     "output_type": "execute_result"
    }
   ],
   "source": [
    "long_winded_computation = (1 + 2 + 3 + 4 + 5 + 6 + 7 + 8 + 9 + 10 + 11 + 12 + 13 + 14 + 15 + 16 + 17 + 18 + 19 + 20)\n",
    "long_winded_computation"
   ]
  },
  {
   "cell_type": "code",
   "execution_count": 3,
   "metadata": {},
   "outputs": [
    {
     "data": {
      "text/plain": [
       "[[1, 2, 3], [4, 5, 6], [7, 8, 9]]"
      ]
     },
     "execution_count": 3,
     "metadata": {},
     "output_type": "execute_result"
    }
   ],
   "source": [
    "list_of_lists = [[1, 2, 3], [4, 5, 6], [7, 8, 9]]\n",
    "list_of_lists"
   ]
  },
  {
   "cell_type": "code",
   "execution_count": 4,
   "metadata": {},
   "outputs": [
    {
     "data": {
      "text/plain": [
       "[[1, 2, 3], [4, 5, 6], [7, 8, 9]]"
      ]
     },
     "execution_count": 4,
     "metadata": {},
     "output_type": "execute_result"
    }
   ],
   "source": [
    "easier_to_read_list_of_lists = [[1, 2, 3],\n",
    "                                [4, 5, 6],\n",
    "                                [7,8,9]]\n",
    "easier_to_read_list_of_lists"
   ]
  },
  {
   "cell_type": "code",
   "execution_count": 5,
   "metadata": {},
   "outputs": [
    {
     "data": {
      "text/plain": [
       "5"
      ]
     },
     "execution_count": 5,
     "metadata": {},
     "output_type": "execute_result"
    }
   ],
   "source": [
    "two_plus_three = 2 + \\\n",
    "                     3\n",
    "two_plus_three"
   ]
  },
  {
   "cell_type": "code",
   "execution_count": 6,
   "metadata": {},
   "outputs": [
    {
     "data": {
      "text/plain": [
       "re.compile(r'[0-9]+', re.IGNORECASE|re.UNICODE)"
      ]
     },
     "execution_count": 6,
     "metadata": {},
     "output_type": "execute_result"
    }
   ],
   "source": [
    "import re\n",
    "my_regex = re.compile(\"[0-9]+\", re.I)\n",
    "my_regex"
   ]
  },
  {
   "cell_type": "code",
   "execution_count": 7,
   "metadata": {},
   "outputs": [
    {
     "data": {
      "text/plain": [
       "re.compile(r'[0-9]+', re.IGNORECASE|re.UNICODE)"
      ]
     },
     "execution_count": 7,
     "metadata": {},
     "output_type": "execute_result"
    }
   ],
   "source": [
    "import re as regex\n",
    "my_regex = regex.compile(\"[0-9]+\", regex.I)\n",
    "my_regex"
   ]
  },
  {
   "cell_type": "code",
   "execution_count": 8,
   "metadata": {},
   "outputs": [],
   "source": [
    "import matplotlib.pyplot as plt"
   ]
  },
  {
   "cell_type": "code",
   "execution_count": 9,
   "metadata": {},
   "outputs": [
    {
     "name": "stdout",
     "output_type": "stream",
     "text": [
      "defaultdict(<class 'int'>, {})\n",
      "Counter()\n"
     ]
    }
   ],
   "source": [
    "from collections import defaultdict, Counter\n",
    "lookup = defaultdict(int)\n",
    "print(lookup)\n",
    "my_counter = Counter()\n",
    "print(my_counter)"
   ]
  },
  {
   "cell_type": "code",
   "execution_count": 10,
   "metadata": {},
   "outputs": [
    {
     "name": "stdout",
     "output_type": "stream",
     "text": [
      "<function match at 0x10d16f378>\n"
     ]
    }
   ],
   "source": [
    "match = 10\n",
    "from re import * # uh oh, re has a match function\n",
    "print (match) # \"<function re.match>\""
   ]
  },
  {
   "cell_type": "code",
   "execution_count": 11,
   "metadata": {},
   "outputs": [
    {
     "data": {
      "text/plain": [
       "8"
      ]
     },
     "execution_count": 11,
     "metadata": {},
     "output_type": "execute_result"
    }
   ],
   "source": [
    "def double(x):\n",
    "    \"\"\"this is where you put an optional docstring\n",
    "    that explains what the function does.\n",
    "    for example, this function multiplies its input by 2\"\"\"\n",
    "    return x * 2\n",
    "\n",
    "test = double(4)\n",
    "test"
   ]
  },
  {
   "cell_type": "code",
   "execution_count": 12,
   "metadata": {},
   "outputs": [
    {
     "data": {
      "text/plain": [
       "2"
      ]
     },
     "execution_count": 12,
     "metadata": {},
     "output_type": "execute_result"
    }
   ],
   "source": [
    "def apply_to_one(f):\n",
    "    \"\"\"calls the function f with 1 as its argument\"\"\"\n",
    "    return f(1)\n",
    "\n",
    "my_double = double # refers to the previously defined function\n",
    "x = apply_to_one(my_double) # equals 2\n",
    "x"
   ]
  },
  {
   "cell_type": "code",
   "execution_count": 13,
   "metadata": {},
   "outputs": [
    {
     "data": {
      "text/plain": [
       "5"
      ]
     },
     "execution_count": 13,
     "metadata": {},
     "output_type": "execute_result"
    }
   ],
   "source": [
    "y = apply_to_one(lambda x: x + 4) # equals 5\n",
    "y"
   ]
  },
  {
   "cell_type": "code",
   "execution_count": 14,
   "metadata": {},
   "outputs": [
    {
     "data": {
      "text/plain": [
       "12"
      ]
     },
     "execution_count": 14,
     "metadata": {},
     "output_type": "execute_result"
    }
   ],
   "source": [
    "another_double = lambda x : 2 * x # don't do this\n",
    "def another_double(x): return 2 * x # do this instead\n",
    "another_double(6)"
   ]
  },
  {
   "cell_type": "code",
   "execution_count": 15,
   "metadata": {},
   "outputs": [
    {
     "name": "stdout",
     "output_type": "stream",
     "text": [
      "hello\n",
      "my default message\n"
     ]
    }
   ],
   "source": [
    "def my_print(message = \"my default message\"):\n",
    "    print (message)\n",
    "\n",
    "my_print(\"hello\") # prints 'hello'\n",
    "my_print() # prints 'my default message'"
   ]
  },
  {
   "cell_type": "code",
   "execution_count": 16,
   "metadata": {},
   "outputs": [
    {
     "data": {
      "text/plain": [
       "5"
      ]
     },
     "execution_count": 16,
     "metadata": {},
     "output_type": "execute_result"
    }
   ],
   "source": [
    "def subtract(a = 0, b = 0):\n",
    "    return a - b\n",
    "\n",
    "subtract(10, 5) # returns 5"
   ]
  },
  {
   "cell_type": "code",
   "execution_count": 17,
   "metadata": {},
   "outputs": [
    {
     "data": {
      "text/plain": [
       "-5"
      ]
     },
     "execution_count": 17,
     "metadata": {},
     "output_type": "execute_result"
    }
   ],
   "source": [
    "subtract(0, 5) # returns -5"
   ]
  },
  {
   "cell_type": "code",
   "execution_count": 18,
   "metadata": {},
   "outputs": [
    {
     "data": {
      "text/plain": [
       "-5"
      ]
     },
     "execution_count": 18,
     "metadata": {},
     "output_type": "execute_result"
    }
   ],
   "source": [
    "subtract(b = 5) # same as previous"
   ]
  },
  {
   "cell_type": "code",
   "execution_count": 19,
   "metadata": {},
   "outputs": [],
   "source": [
    "single_quoted_string = 'data science'\n",
    "double_quoted_string = \"data science\""
   ]
  },
  {
   "cell_type": "code",
   "execution_count": 20,
   "metadata": {},
   "outputs": [
    {
     "data": {
      "text/plain": [
       "1"
      ]
     },
     "execution_count": 20,
     "metadata": {},
     "output_type": "execute_result"
    }
   ],
   "source": [
    "tab_string = \"\\t\" # represents the tab character\n",
    "len(tab_string) # is 1"
   ]
  },
  {
   "cell_type": "code",
   "execution_count": 21,
   "metadata": {},
   "outputs": [
    {
     "data": {
      "text/plain": [
       "2"
      ]
     },
     "execution_count": 21,
     "metadata": {},
     "output_type": "execute_result"
    }
   ],
   "source": [
    "not_tab_string = r\"\\t\" # represents the characters '\\' and 't'\n",
    "len(not_tab_string) # is 2"
   ]
  },
  {
   "cell_type": "code",
   "execution_count": 22,
   "metadata": {},
   "outputs": [
    {
     "data": {
      "text/plain": [
       "'This is the first line.\\n                    and this is the second line\\n                    and this is the third line'"
      ]
     },
     "execution_count": 22,
     "metadata": {},
     "output_type": "execute_result"
    }
   ],
   "source": [
    "multi_line_string = \"\"\"This is the first line.\n",
    "                    and this is the second line\n",
    "                    and this is the third line\"\"\"\n",
    "multi_line_string"
   ]
  },
  {
   "cell_type": "code",
   "execution_count": 23,
   "metadata": {},
   "outputs": [
    {
     "name": "stdout",
     "output_type": "stream",
     "text": [
      "cannot divide by zero\n"
     ]
    }
   ],
   "source": [
    "try:\n",
    "    print (0/0)\n",
    "except ZeroDivisionError:\n",
    "    print (\"cannot divide by zero\")"
   ]
  },
  {
   "cell_type": "code",
   "execution_count": 24,
   "metadata": {},
   "outputs": [
    {
     "data": {
      "text/plain": [
       "3"
      ]
     },
     "execution_count": 24,
     "metadata": {},
     "output_type": "execute_result"
    }
   ],
   "source": [
    "integer_list = [1, 2, 3]\n",
    "heterogeneous_list = [\"string\", 0.1, True]\n",
    "list_of_lists = [ integer_list, heterogeneous_list, [] ]\n",
    "list_length = len(integer_list) # equals 3\n",
    "list_length"
   ]
  },
  {
   "cell_type": "code",
   "execution_count": 25,
   "metadata": {},
   "outputs": [
    {
     "data": {
      "text/plain": [
       "6"
      ]
     },
     "execution_count": 25,
     "metadata": {},
     "output_type": "execute_result"
    }
   ],
   "source": [
    "list_sum = sum(integer_list) # equals 6\n",
    "list_sum"
   ]
  },
  {
   "cell_type": "code",
   "execution_count": 26,
   "metadata": {},
   "outputs": [
    {
     "name": "stdout",
     "output_type": "stream",
     "text": [
      "range(0, 10)\n",
      "[0, 1, 2, 3, 4, 5, 6, 7, 8, 9]\n",
      "0\n",
      "1\n",
      "9\n",
      "8\n"
     ]
    }
   ],
   "source": [
    "test = range(10) # is the list [0, 1, ..., 9]\n",
    "print(test)\n",
    "print([x for x in test])\n",
    "zero = test[0] # equals 0, lists are 0-indexed\n",
    "print(zero)\n",
    "one = test[1] # equals 1\n",
    "print(one)\n",
    "nine = test[-1] # equals 9, 'Pythonic' for last element\n",
    "print(nine)\n",
    "eight = test[-2] # equals 8, 'Pythonic' for next-to-last element\n",
    "print(eight)"
   ]
  },
  {
   "cell_type": "code",
   "execution_count": 27,
   "metadata": {},
   "outputs": [
    {
     "name": "stdout",
     "output_type": "stream",
     "text": [
      "[0, 1, 2]\n",
      "[3, 4, 5, 6, 7, 8, 9]\n",
      "[1, 2, 3, 4]\n",
      "[7, 8, 9]\n",
      "[1, 2, 3, 4, 5, 6, 7, 8]\n",
      "[0, 1, 2, 3, 4, 5, 6, 7, 8, 9]\n"
     ]
    }
   ],
   "source": [
    "first_three =test[:3] # [0, 1, 2]\n",
    "print([x for x in first_three])\n",
    "three_to_end = test[3:] # [3, 4, ..., 9]\n",
    "print([x for x in three_to_end])\n",
    "one_to_four = test[1:5] # [1, 2, 3, 4]\n",
    "print([x for x in one_to_four])\n",
    "last_three = test[-3:] # [7, 8, 9]\n",
    "print([x for x in last_three])\n",
    "without_first_and_last = test[1:-1] # [1, 2, ..., 8]\n",
    "print([x for x in without_first_and_last])\n",
    "copy_of_x = test[:] # [0, 1, 2, ..., 9]\n",
    "print([x for x in copy_of_x])"
   ]
  },
  {
   "cell_type": "code",
   "execution_count": 28,
   "metadata": {},
   "outputs": [
    {
     "data": {
      "text/plain": [
       "True"
      ]
     },
     "execution_count": 28,
     "metadata": {},
     "output_type": "execute_result"
    }
   ],
   "source": [
    "1 in [1, 2, 3] # True"
   ]
  },
  {
   "cell_type": "code",
   "execution_count": 29,
   "metadata": {},
   "outputs": [
    {
     "data": {
      "text/plain": [
       "False"
      ]
     },
     "execution_count": 29,
     "metadata": {},
     "output_type": "execute_result"
    }
   ],
   "source": [
    "0 in [1, 2, 3] # False"
   ]
  },
  {
   "cell_type": "code",
   "execution_count": 30,
   "metadata": {},
   "outputs": [
    {
     "data": {
      "text/plain": [
       "[1, 2, 3, 4, 5, 6]"
      ]
     },
     "execution_count": 30,
     "metadata": {},
     "output_type": "execute_result"
    }
   ],
   "source": [
    "x = [1,2,3]\n",
    "x.extend([4, 5, 6]) # x is now [1,2,3,4,5,6]\n",
    "x"
   ]
  },
  {
   "cell_type": "code",
   "execution_count": 31,
   "metadata": {},
   "outputs": [
    {
     "data": {
      "text/plain": [
       "[1, 2, 3, 4, 5, 6]"
      ]
     },
     "execution_count": 31,
     "metadata": {},
     "output_type": "execute_result"
    }
   ],
   "source": [
    "x = [1,2,3]\n",
    "y = x + [4, 5, 6] # y is [1, 2, 3, 4, 5, 6]; x is unchanged\n",
    "y"
   ]
  },
  {
   "cell_type": "code",
   "execution_count": 32,
   "metadata": {},
   "outputs": [
    {
     "data": {
      "text/plain": [
       "[1, 2, 3, 0]"
      ]
     },
     "execution_count": 32,
     "metadata": {},
     "output_type": "execute_result"
    }
   ],
   "source": [
    "x = [1,2,3]\n",
    "x.append(0) # x is now [1, 2, 3, 0]\n",
    "x"
   ]
  },
  {
   "cell_type": "code",
   "execution_count": 33,
   "metadata": {},
   "outputs": [
    {
     "data": {
      "text/plain": [
       "0"
      ]
     },
     "execution_count": 33,
     "metadata": {},
     "output_type": "execute_result"
    }
   ],
   "source": [
    "y = x[-1] # equals 0\n",
    "y"
   ]
  },
  {
   "cell_type": "code",
   "execution_count": 34,
   "metadata": {},
   "outputs": [
    {
     "data": {
      "text/plain": [
       "4"
      ]
     },
     "execution_count": 34,
     "metadata": {},
     "output_type": "execute_result"
    }
   ],
   "source": [
    "z = len(x) # equals 4\n",
    "z"
   ]
  },
  {
   "cell_type": "code",
   "execution_count": 35,
   "metadata": {},
   "outputs": [
    {
     "name": "stdout",
     "output_type": "stream",
     "text": [
      "1\n",
      "2\n"
     ]
    }
   ],
   "source": [
    "x, y = [1, 2] # now x is 1, y is 2\n",
    "print(x)\n",
    "print(y)"
   ]
  },
  {
   "cell_type": "code",
   "execution_count": 36,
   "metadata": {},
   "outputs": [
    {
     "data": {
      "text/plain": [
       "2"
      ]
     },
     "execution_count": 36,
     "metadata": {},
     "output_type": "execute_result"
    }
   ],
   "source": [
    "_, y = [1, 2] # now y == 2, didn't care about the first element\n",
    "y"
   ]
  },
  {
   "cell_type": "code",
   "execution_count": 37,
   "metadata": {},
   "outputs": [
    {
     "name": "stdout",
     "output_type": "stream",
     "text": [
      "[1, 3]\n",
      "cannot modify a tuple\n"
     ]
    }
   ],
   "source": [
    "my_list = [1, 2]\n",
    "my_tuple = (1, 2)\n",
    "other_tuple = 3, 4\n",
    "my_list[1] = 3 # my_list is now [1, 3]\n",
    "print(my_list)\n",
    "try:\n",
    "    my_tuple[1] = 3\n",
    "except TypeError:\n",
    "    print (\"cannot modify a tuple\")"
   ]
  },
  {
   "cell_type": "code",
   "execution_count": 38,
   "metadata": {},
   "outputs": [
    {
     "name": "stdout",
     "output_type": "stream",
     "text": [
      "(5, 6)\n",
      "15\n",
      "50\n"
     ]
    }
   ],
   "source": [
    "def sum_and_product(x, y):\n",
    "    return (x + y),(x * y)\n",
    "sp = sum_and_product(2, 3) # equals (5, 6)\n",
    "print(sp)\n",
    "s, p = sum_and_product(5, 10) # s is 15, p is 50\n",
    "print(s)\n",
    "print(p)"
   ]
  },
  {
   "cell_type": "code",
   "execution_count": 39,
   "metadata": {},
   "outputs": [
    {
     "name": "stdout",
     "output_type": "stream",
     "text": [
      "1\n",
      "2\n",
      "2\n",
      "1\n"
     ]
    }
   ],
   "source": [
    "x, y = 1, 2 # now x is 1, y is 2\n",
    "print(x)\n",
    "print(y)\n",
    "x, y = y, x # Pythonic way to swap variables; now x is 2, y is 1\n",
    "print(x)\n",
    "print(y)"
   ]
  },
  {
   "cell_type": "code",
   "execution_count": 40,
   "metadata": {},
   "outputs": [],
   "source": [
    "empty_dict = {} # Pythonic\n",
    "empty_dict2 = dict() # less Pythonic\n",
    "grades = { \"Joel\" : 80, \"Tim\" : 95 } # dictionary literal"
   ]
  },
  {
   "cell_type": "code",
   "execution_count": 41,
   "metadata": {},
   "outputs": [
    {
     "data": {
      "text/plain": [
       "80"
      ]
     },
     "execution_count": 41,
     "metadata": {},
     "output_type": "execute_result"
    }
   ],
   "source": [
    "joels_grade = grades[\"Joel\"] # equals 80\n",
    "joels_grade"
   ]
  },
  {
   "cell_type": "code",
   "execution_count": 42,
   "metadata": {},
   "outputs": [
    {
     "name": "stdout",
     "output_type": "stream",
     "text": [
      "no grade for Kate!\n"
     ]
    }
   ],
   "source": [
    "try:\n",
    "    kates_grade = grades[\"Kate\"]\n",
    "except KeyError:\n",
    "    print (\"no grade for Kate!\")"
   ]
  },
  {
   "cell_type": "code",
   "execution_count": 43,
   "metadata": {},
   "outputs": [
    {
     "data": {
      "text/plain": [
       "True"
      ]
     },
     "execution_count": 43,
     "metadata": {},
     "output_type": "execute_result"
    }
   ],
   "source": [
    "joel_has_grade = \"Joel\" in grades # True\n",
    "joel_has_grade"
   ]
  },
  {
   "cell_type": "code",
   "execution_count": 44,
   "metadata": {},
   "outputs": [
    {
     "data": {
      "text/plain": [
       "False"
      ]
     },
     "execution_count": 44,
     "metadata": {},
     "output_type": "execute_result"
    }
   ],
   "source": [
    "kate_has_grade = \"Kate\" in grades # False\n",
    "kate_has_grade"
   ]
  },
  {
   "cell_type": "code",
   "execution_count": 45,
   "metadata": {},
   "outputs": [
    {
     "name": "stdout",
     "output_type": "stream",
     "text": [
      "80\n",
      "0\n",
      "None\n"
     ]
    }
   ],
   "source": [
    "joels_grade = grades.get(\"Joel\", 0) # equals 80\n",
    "print(joels_grade)\n",
    "kates_grade = grades.get(\"Kate\", 0) # equals 0\n",
    "print(kates_grade)\n",
    "no_ones_grade = grades.get(\"No One\") # default default is None\n",
    "print(no_ones_grade)"
   ]
  },
  {
   "cell_type": "code",
   "execution_count": 46,
   "metadata": {},
   "outputs": [
    {
     "name": "stdout",
     "output_type": "stream",
     "text": [
      "99\n",
      "100\n",
      "3\n",
      "{'Joel': 80, 'Tim': 99, 'Kate': 100}\n"
     ]
    }
   ],
   "source": [
    "grades[\"Tim\"] = 99 # replaces the old value\n",
    "print(grades[\"Tim\"])\n",
    "grades[\"Kate\"] = 100 # adds a third entry\n",
    "print(grades[\"Kate\"])\n",
    "num_students = len(grades) # equals 3\n",
    "print(num_students)\n",
    "print(grades)"
   ]
  },
  {
   "cell_type": "code",
   "execution_count": 47,
   "metadata": {},
   "outputs": [],
   "source": [
    "tweet = {\n",
    "    \"user\" : \"joelgrus\",\n",
    "    \"text\" : \"Data Science is Awesome\",\n",
    "    \"retweet_count\" : 100,\n",
    "    \"hashtags\" : [\"#data\", \"#science\", \"#datascience\", \"#awesome\", \"#yolo\"]\n",
    "}"
   ]
  },
  {
   "cell_type": "code",
   "execution_count": 48,
   "metadata": {},
   "outputs": [
    {
     "name": "stdout",
     "output_type": "stream",
     "text": [
      "dict_keys(['user', 'text', 'retweet_count', 'hashtags'])\n",
      "dict_values(['joelgrus', 'Data Science is Awesome', 100, ['#data', '#science', '#datascience', '#awesome', '#yolo']])\n",
      "dict_items([('user', 'joelgrus'), ('text', 'Data Science is Awesome'), ('retweet_count', 100), ('hashtags', ['#data', '#science', '#datascience', '#awesome', '#yolo'])])\n"
     ]
    }
   ],
   "source": [
    "tweet_keys =tweet.keys() # list of keys\n",
    "print(tweet_keys)\n",
    "tweet_values = tweet.values() # list of values\n",
    "print(tweet_values)\n",
    "tweet_items = tweet.items() # list of (key, value) tuples\n",
    "print(tweet_items)"
   ]
  },
  {
   "cell_type": "code",
   "execution_count": 49,
   "metadata": {},
   "outputs": [
    {
     "data": {
      "text/plain": [
       "True"
      ]
     },
     "execution_count": 49,
     "metadata": {},
     "output_type": "execute_result"
    }
   ],
   "source": [
    "\"user\" in tweet_keys # True, but uses a slow list in"
   ]
  },
  {
   "cell_type": "code",
   "execution_count": 50,
   "metadata": {},
   "outputs": [
    {
     "data": {
      "text/plain": [
       "True"
      ]
     },
     "execution_count": 50,
     "metadata": {},
     "output_type": "execute_result"
    }
   ],
   "source": [
    "\"user\" in tweet # more Pythonic, uses faster dict in"
   ]
  },
  {
   "cell_type": "code",
   "execution_count": 51,
   "metadata": {},
   "outputs": [
    {
     "data": {
      "text/plain": [
       "True"
      ]
     },
     "execution_count": 51,
     "metadata": {},
     "output_type": "execute_result"
    }
   ],
   "source": [
    "\"joelgrus\" in tweet_values # True"
   ]
  },
  {
   "cell_type": "code",
   "execution_count": 52,
   "metadata": {},
   "outputs": [
    {
     "data": {
      "text/plain": [
       "['Maître',\n",
       " 'Corbeau,',\n",
       " 'sur',\n",
       " 'un',\n",
       " 'arbre',\n",
       " 'perché,',\n",
       " 'Tenait',\n",
       " 'en',\n",
       " 'son',\n",
       " 'bec',\n",
       " 'un',\n",
       " 'fromage.',\n",
       " 'Maître',\n",
       " 'Renard,',\n",
       " 'par',\n",
       " \"l'odeur\",\n",
       " 'alléché,',\n",
       " 'Lui',\n",
       " 'tint',\n",
       " 'à',\n",
       " 'peu',\n",
       " 'près',\n",
       " 'ce',\n",
       " 'langage',\n",
       " ':',\n",
       " 'Et',\n",
       " 'bonjour,',\n",
       " 'Monsieur',\n",
       " 'du',\n",
       " 'Corbeau,',\n",
       " 'Que',\n",
       " 'vous',\n",
       " 'êtes',\n",
       " 'joli',\n",
       " '!',\n",
       " 'que',\n",
       " 'vous',\n",
       " 'me',\n",
       " 'semblez',\n",
       " 'beau',\n",
       " '!',\n",
       " 'Sans',\n",
       " 'mentir,',\n",
       " 'si',\n",
       " 'votre',\n",
       " 'ramage',\n",
       " 'Se',\n",
       " 'rapporte',\n",
       " 'à',\n",
       " 'votre',\n",
       " 'plumage,',\n",
       " 'Vous',\n",
       " 'êtes',\n",
       " 'le',\n",
       " 'Phénix',\n",
       " 'des',\n",
       " 'hôtes',\n",
       " 'de',\n",
       " 'ces',\n",
       " 'bois.',\n",
       " 'À',\n",
       " 'ces',\n",
       " 'mots',\n",
       " 'le',\n",
       " 'Corbeau',\n",
       " 'ne',\n",
       " 'se',\n",
       " 'sent',\n",
       " 'pas',\n",
       " 'de',\n",
       " 'joie,',\n",
       " 'Et',\n",
       " 'pour',\n",
       " 'montrer',\n",
       " 'sa',\n",
       " 'belle',\n",
       " 'voix,',\n",
       " 'Il',\n",
       " 'ouvre',\n",
       " 'un',\n",
       " 'large',\n",
       " 'bec,',\n",
       " 'laisse',\n",
       " 'tomber',\n",
       " 'sa',\n",
       " 'proie.',\n",
       " 'Le',\n",
       " 'Renard',\n",
       " \"s'en\",\n",
       " 'saisit,',\n",
       " 'et',\n",
       " 'dit',\n",
       " ':',\n",
       " 'Mon',\n",
       " 'bon',\n",
       " 'Monsieur,',\n",
       " 'Apprenez',\n",
       " 'que',\n",
       " 'tout',\n",
       " 'flatteur',\n",
       " 'Vit',\n",
       " 'aux',\n",
       " 'dépens',\n",
       " 'de',\n",
       " 'celui',\n",
       " 'qui',\n",
       " \"l'écoute.\",\n",
       " 'Cette',\n",
       " 'leçon',\n",
       " 'vaut',\n",
       " 'bien',\n",
       " 'un',\n",
       " 'fromage',\n",
       " 'sans',\n",
       " 'doute.',\n",
       " 'Le',\n",
       " 'Corbeau',\n",
       " 'honteux',\n",
       " 'et',\n",
       " 'confus',\n",
       " 'Jura,',\n",
       " 'mais',\n",
       " 'un',\n",
       " 'peu',\n",
       " 'tard,',\n",
       " \"qu'on\",\n",
       " 'ne',\n",
       " \"l'y\",\n",
       " 'prendrait',\n",
       " 'plus.']"
      ]
     },
     "execution_count": 52,
     "metadata": {},
     "output_type": "execute_result"
    }
   ],
   "source": [
    "document = \"\"\"\n",
    "Maître Corbeau, sur un arbre perché,\n",
    "Tenait en son bec un fromage.\n",
    "Maître Renard, par l'odeur alléché,\n",
    "Lui tint à peu près ce langage :\n",
    "Et bonjour, Monsieur du Corbeau,\n",
    "Que vous êtes joli ! que vous me semblez beau !\n",
    "Sans mentir, si votre ramage\n",
    "Se rapporte à votre plumage,\n",
    "Vous êtes le Phénix des hôtes de ces bois.\n",
    "À ces mots le Corbeau ne se sent pas de joie, \n",
    "Et pour montrer sa belle voix,\n",
    "Il ouvre un large bec, laisse tomber sa proie.\n",
    "Le Renard s'en saisit, et dit : Mon bon Monsieur,\n",
    "Apprenez que tout flatteur\n",
    "Vit aux dépens de celui qui l'écoute.\n",
    "Cette leçon vaut bien un fromage sans doute.\n",
    "Le Corbeau honteux et confus\n",
    "Jura, mais un peu tard, qu'on ne l'y prendrait plus.\n",
    "\"\"\"\n",
    "document = document.split()\n",
    "document"
   ]
  },
  {
   "cell_type": "code",
   "execution_count": 53,
   "metadata": {},
   "outputs": [
    {
     "data": {
      "text/plain": [
       "{'Maître': 2,\n",
       " 'Corbeau,': 2,\n",
       " 'sur': 1,\n",
       " 'un': 5,\n",
       " 'arbre': 1,\n",
       " 'perché,': 1,\n",
       " 'Tenait': 1,\n",
       " 'en': 1,\n",
       " 'son': 1,\n",
       " 'bec': 1,\n",
       " 'fromage.': 1,\n",
       " 'Renard,': 1,\n",
       " 'par': 1,\n",
       " \"l'odeur\": 1,\n",
       " 'alléché,': 1,\n",
       " 'Lui': 1,\n",
       " 'tint': 1,\n",
       " 'à': 2,\n",
       " 'peu': 2,\n",
       " 'près': 1,\n",
       " 'ce': 1,\n",
       " 'langage': 1,\n",
       " ':': 2,\n",
       " 'Et': 2,\n",
       " 'bonjour,': 1,\n",
       " 'Monsieur': 1,\n",
       " 'du': 1,\n",
       " 'Que': 1,\n",
       " 'vous': 2,\n",
       " 'êtes': 2,\n",
       " 'joli': 1,\n",
       " '!': 2,\n",
       " 'que': 2,\n",
       " 'me': 1,\n",
       " 'semblez': 1,\n",
       " 'beau': 1,\n",
       " 'Sans': 1,\n",
       " 'mentir,': 1,\n",
       " 'si': 1,\n",
       " 'votre': 2,\n",
       " 'ramage': 1,\n",
       " 'Se': 1,\n",
       " 'rapporte': 1,\n",
       " 'plumage,': 1,\n",
       " 'Vous': 1,\n",
       " 'le': 2,\n",
       " 'Phénix': 1,\n",
       " 'des': 1,\n",
       " 'hôtes': 1,\n",
       " 'de': 3,\n",
       " 'ces': 2,\n",
       " 'bois.': 1,\n",
       " 'À': 1,\n",
       " 'mots': 1,\n",
       " 'Corbeau': 2,\n",
       " 'ne': 2,\n",
       " 'se': 1,\n",
       " 'sent': 1,\n",
       " 'pas': 1,\n",
       " 'joie,': 1,\n",
       " 'pour': 1,\n",
       " 'montrer': 1,\n",
       " 'sa': 2,\n",
       " 'belle': 1,\n",
       " 'voix,': 1,\n",
       " 'Il': 1,\n",
       " 'ouvre': 1,\n",
       " 'large': 1,\n",
       " 'bec,': 1,\n",
       " 'laisse': 1,\n",
       " 'tomber': 1,\n",
       " 'proie.': 1,\n",
       " 'Le': 2,\n",
       " 'Renard': 1,\n",
       " \"s'en\": 1,\n",
       " 'saisit,': 1,\n",
       " 'et': 2,\n",
       " 'dit': 1,\n",
       " 'Mon': 1,\n",
       " 'bon': 1,\n",
       " 'Monsieur,': 1,\n",
       " 'Apprenez': 1,\n",
       " 'tout': 1,\n",
       " 'flatteur': 1,\n",
       " 'Vit': 1,\n",
       " 'aux': 1,\n",
       " 'dépens': 1,\n",
       " 'celui': 1,\n",
       " 'qui': 1,\n",
       " \"l'écoute.\": 1,\n",
       " 'Cette': 1,\n",
       " 'leçon': 1,\n",
       " 'vaut': 1,\n",
       " 'bien': 1,\n",
       " 'fromage': 1,\n",
       " 'sans': 1,\n",
       " 'doute.': 1,\n",
       " 'honteux': 1,\n",
       " 'confus': 1,\n",
       " 'Jura,': 1,\n",
       " 'mais': 1,\n",
       " 'tard,': 1,\n",
       " \"qu'on\": 1,\n",
       " \"l'y\": 1,\n",
       " 'prendrait': 1,\n",
       " 'plus.': 1}"
      ]
     },
     "execution_count": 53,
     "metadata": {},
     "output_type": "execute_result"
    }
   ],
   "source": [
    "word_counts = {}\n",
    "for word in document:\n",
    "    if word in word_counts:\n",
    "        word_counts[word] += 1\n",
    "    else:\n",
    "        word_counts[word] = 1\n",
    "word_counts"
   ]
  },
  {
   "cell_type": "code",
   "execution_count": 54,
   "metadata": {},
   "outputs": [
    {
     "data": {
      "text/plain": [
       "{'Maître': 2,\n",
       " 'Corbeau,': 2,\n",
       " 'sur': 1,\n",
       " 'un': 5,\n",
       " 'arbre': 1,\n",
       " 'perché,': 1,\n",
       " 'Tenait': 1,\n",
       " 'en': 1,\n",
       " 'son': 1,\n",
       " 'bec': 1,\n",
       " 'fromage.': 1,\n",
       " 'Renard,': 1,\n",
       " 'par': 1,\n",
       " \"l'odeur\": 1,\n",
       " 'alléché,': 1,\n",
       " 'Lui': 1,\n",
       " 'tint': 1,\n",
       " 'à': 2,\n",
       " 'peu': 2,\n",
       " 'près': 1,\n",
       " 'ce': 1,\n",
       " 'langage': 1,\n",
       " ':': 2,\n",
       " 'Et': 2,\n",
       " 'bonjour,': 1,\n",
       " 'Monsieur': 1,\n",
       " 'du': 1,\n",
       " 'Que': 1,\n",
       " 'vous': 2,\n",
       " 'êtes': 2,\n",
       " 'joli': 1,\n",
       " '!': 2,\n",
       " 'que': 2,\n",
       " 'me': 1,\n",
       " 'semblez': 1,\n",
       " 'beau': 1,\n",
       " 'Sans': 1,\n",
       " 'mentir,': 1,\n",
       " 'si': 1,\n",
       " 'votre': 2,\n",
       " 'ramage': 1,\n",
       " 'Se': 1,\n",
       " 'rapporte': 1,\n",
       " 'plumage,': 1,\n",
       " 'Vous': 1,\n",
       " 'le': 2,\n",
       " 'Phénix': 1,\n",
       " 'des': 1,\n",
       " 'hôtes': 1,\n",
       " 'de': 3,\n",
       " 'ces': 2,\n",
       " 'bois.': 1,\n",
       " 'À': 1,\n",
       " 'mots': 1,\n",
       " 'Corbeau': 2,\n",
       " 'ne': 2,\n",
       " 'se': 1,\n",
       " 'sent': 1,\n",
       " 'pas': 1,\n",
       " 'joie,': 1,\n",
       " 'pour': 1,\n",
       " 'montrer': 1,\n",
       " 'sa': 2,\n",
       " 'belle': 1,\n",
       " 'voix,': 1,\n",
       " 'Il': 1,\n",
       " 'ouvre': 1,\n",
       " 'large': 1,\n",
       " 'bec,': 1,\n",
       " 'laisse': 1,\n",
       " 'tomber': 1,\n",
       " 'proie.': 1,\n",
       " 'Le': 2,\n",
       " 'Renard': 1,\n",
       " \"s'en\": 1,\n",
       " 'saisit,': 1,\n",
       " 'et': 2,\n",
       " 'dit': 1,\n",
       " 'Mon': 1,\n",
       " 'bon': 1,\n",
       " 'Monsieur,': 1,\n",
       " 'Apprenez': 1,\n",
       " 'tout': 1,\n",
       " 'flatteur': 1,\n",
       " 'Vit': 1,\n",
       " 'aux': 1,\n",
       " 'dépens': 1,\n",
       " 'celui': 1,\n",
       " 'qui': 1,\n",
       " \"l'écoute.\": 1,\n",
       " 'Cette': 1,\n",
       " 'leçon': 1,\n",
       " 'vaut': 1,\n",
       " 'bien': 1,\n",
       " 'fromage': 1,\n",
       " 'sans': 1,\n",
       " 'doute.': 1,\n",
       " 'honteux': 1,\n",
       " 'confus': 1,\n",
       " 'Jura,': 1,\n",
       " 'mais': 1,\n",
       " 'tard,': 1,\n",
       " \"qu'on\": 1,\n",
       " \"l'y\": 1,\n",
       " 'prendrait': 1,\n",
       " 'plus.': 1}"
      ]
     },
     "execution_count": 54,
     "metadata": {},
     "output_type": "execute_result"
    }
   ],
   "source": [
    "word_counts = {}\n",
    "for word in document:\n",
    "    try:\n",
    "        word_counts[word] += 1\n",
    "    except KeyError:\n",
    "        word_counts[word] = 1\n",
    "word_counts"
   ]
  },
  {
   "cell_type": "code",
   "execution_count": 55,
   "metadata": {},
   "outputs": [
    {
     "data": {
      "text/plain": [
       "{'Maître': 2,\n",
       " 'Corbeau,': 2,\n",
       " 'sur': 1,\n",
       " 'un': 5,\n",
       " 'arbre': 1,\n",
       " 'perché,': 1,\n",
       " 'Tenait': 1,\n",
       " 'en': 1,\n",
       " 'son': 1,\n",
       " 'bec': 1,\n",
       " 'fromage.': 1,\n",
       " 'Renard,': 1,\n",
       " 'par': 1,\n",
       " \"l'odeur\": 1,\n",
       " 'alléché,': 1,\n",
       " 'Lui': 1,\n",
       " 'tint': 1,\n",
       " 'à': 2,\n",
       " 'peu': 2,\n",
       " 'près': 1,\n",
       " 'ce': 1,\n",
       " 'langage': 1,\n",
       " ':': 2,\n",
       " 'Et': 2,\n",
       " 'bonjour,': 1,\n",
       " 'Monsieur': 1,\n",
       " 'du': 1,\n",
       " 'Que': 1,\n",
       " 'vous': 2,\n",
       " 'êtes': 2,\n",
       " 'joli': 1,\n",
       " '!': 2,\n",
       " 'que': 2,\n",
       " 'me': 1,\n",
       " 'semblez': 1,\n",
       " 'beau': 1,\n",
       " 'Sans': 1,\n",
       " 'mentir,': 1,\n",
       " 'si': 1,\n",
       " 'votre': 2,\n",
       " 'ramage': 1,\n",
       " 'Se': 1,\n",
       " 'rapporte': 1,\n",
       " 'plumage,': 1,\n",
       " 'Vous': 1,\n",
       " 'le': 2,\n",
       " 'Phénix': 1,\n",
       " 'des': 1,\n",
       " 'hôtes': 1,\n",
       " 'de': 3,\n",
       " 'ces': 2,\n",
       " 'bois.': 1,\n",
       " 'À': 1,\n",
       " 'mots': 1,\n",
       " 'Corbeau': 2,\n",
       " 'ne': 2,\n",
       " 'se': 1,\n",
       " 'sent': 1,\n",
       " 'pas': 1,\n",
       " 'joie,': 1,\n",
       " 'pour': 1,\n",
       " 'montrer': 1,\n",
       " 'sa': 2,\n",
       " 'belle': 1,\n",
       " 'voix,': 1,\n",
       " 'Il': 1,\n",
       " 'ouvre': 1,\n",
       " 'large': 1,\n",
       " 'bec,': 1,\n",
       " 'laisse': 1,\n",
       " 'tomber': 1,\n",
       " 'proie.': 1,\n",
       " 'Le': 2,\n",
       " 'Renard': 1,\n",
       " \"s'en\": 1,\n",
       " 'saisit,': 1,\n",
       " 'et': 2,\n",
       " 'dit': 1,\n",
       " 'Mon': 1,\n",
       " 'bon': 1,\n",
       " 'Monsieur,': 1,\n",
       " 'Apprenez': 1,\n",
       " 'tout': 1,\n",
       " 'flatteur': 1,\n",
       " 'Vit': 1,\n",
       " 'aux': 1,\n",
       " 'dépens': 1,\n",
       " 'celui': 1,\n",
       " 'qui': 1,\n",
       " \"l'écoute.\": 1,\n",
       " 'Cette': 1,\n",
       " 'leçon': 1,\n",
       " 'vaut': 1,\n",
       " 'bien': 1,\n",
       " 'fromage': 1,\n",
       " 'sans': 1,\n",
       " 'doute.': 1,\n",
       " 'honteux': 1,\n",
       " 'confus': 1,\n",
       " 'Jura,': 1,\n",
       " 'mais': 1,\n",
       " 'tard,': 1,\n",
       " \"qu'on\": 1,\n",
       " \"l'y\": 1,\n",
       " 'prendrait': 1,\n",
       " 'plus.': 1}"
      ]
     },
     "execution_count": 55,
     "metadata": {},
     "output_type": "execute_result"
    }
   ],
   "source": [
    "word_counts = {}\n",
    "for word in document:\n",
    "    previous_count = word_counts.get(word, 0)\n",
    "    #print(word)\n",
    "    #print(previous_count)\n",
    "    word_counts[word] = previous_count + 1\n",
    "    #print(word_counts[word])\n",
    "word_counts"
   ]
  },
  {
   "cell_type": "code",
   "execution_count": 56,
   "metadata": {},
   "outputs": [
    {
     "data": {
      "text/plain": [
       "defaultdict(int,\n",
       "            {'Maître': 2,\n",
       "             'Corbeau,': 2,\n",
       "             'sur': 1,\n",
       "             'un': 5,\n",
       "             'arbre': 1,\n",
       "             'perché,': 1,\n",
       "             'Tenait': 1,\n",
       "             'en': 1,\n",
       "             'son': 1,\n",
       "             'bec': 1,\n",
       "             'fromage.': 1,\n",
       "             'Renard,': 1,\n",
       "             'par': 1,\n",
       "             \"l'odeur\": 1,\n",
       "             'alléché,': 1,\n",
       "             'Lui': 1,\n",
       "             'tint': 1,\n",
       "             'à': 2,\n",
       "             'peu': 2,\n",
       "             'près': 1,\n",
       "             'ce': 1,\n",
       "             'langage': 1,\n",
       "             ':': 2,\n",
       "             'Et': 2,\n",
       "             'bonjour,': 1,\n",
       "             'Monsieur': 1,\n",
       "             'du': 1,\n",
       "             'Que': 1,\n",
       "             'vous': 2,\n",
       "             'êtes': 2,\n",
       "             'joli': 1,\n",
       "             '!': 2,\n",
       "             'que': 2,\n",
       "             'me': 1,\n",
       "             'semblez': 1,\n",
       "             'beau': 1,\n",
       "             'Sans': 1,\n",
       "             'mentir,': 1,\n",
       "             'si': 1,\n",
       "             'votre': 2,\n",
       "             'ramage': 1,\n",
       "             'Se': 1,\n",
       "             'rapporte': 1,\n",
       "             'plumage,': 1,\n",
       "             'Vous': 1,\n",
       "             'le': 2,\n",
       "             'Phénix': 1,\n",
       "             'des': 1,\n",
       "             'hôtes': 1,\n",
       "             'de': 3,\n",
       "             'ces': 2,\n",
       "             'bois.': 1,\n",
       "             'À': 1,\n",
       "             'mots': 1,\n",
       "             'Corbeau': 2,\n",
       "             'ne': 2,\n",
       "             'se': 1,\n",
       "             'sent': 1,\n",
       "             'pas': 1,\n",
       "             'joie,': 1,\n",
       "             'pour': 1,\n",
       "             'montrer': 1,\n",
       "             'sa': 2,\n",
       "             'belle': 1,\n",
       "             'voix,': 1,\n",
       "             'Il': 1,\n",
       "             'ouvre': 1,\n",
       "             'large': 1,\n",
       "             'bec,': 1,\n",
       "             'laisse': 1,\n",
       "             'tomber': 1,\n",
       "             'proie.': 1,\n",
       "             'Le': 2,\n",
       "             'Renard': 1,\n",
       "             \"s'en\": 1,\n",
       "             'saisit,': 1,\n",
       "             'et': 2,\n",
       "             'dit': 1,\n",
       "             'Mon': 1,\n",
       "             'bon': 1,\n",
       "             'Monsieur,': 1,\n",
       "             'Apprenez': 1,\n",
       "             'tout': 1,\n",
       "             'flatteur': 1,\n",
       "             'Vit': 1,\n",
       "             'aux': 1,\n",
       "             'dépens': 1,\n",
       "             'celui': 1,\n",
       "             'qui': 1,\n",
       "             \"l'écoute.\": 1,\n",
       "             'Cette': 1,\n",
       "             'leçon': 1,\n",
       "             'vaut': 1,\n",
       "             'bien': 1,\n",
       "             'fromage': 1,\n",
       "             'sans': 1,\n",
       "             'doute.': 1,\n",
       "             'honteux': 1,\n",
       "             'confus': 1,\n",
       "             'Jura,': 1,\n",
       "             'mais': 1,\n",
       "             'tard,': 1,\n",
       "             \"qu'on\": 1,\n",
       "             \"l'y\": 1,\n",
       "             'prendrait': 1,\n",
       "             'plus.': 1})"
      ]
     },
     "execution_count": 56,
     "metadata": {},
     "output_type": "execute_result"
    }
   ],
   "source": [
    "from collections import defaultdict\n",
    "word_counts = defaultdict(int) # int() produces 0\n",
    "for word in document:\n",
    "    word_counts[word] += 1\n",
    "word_counts"
   ]
  },
  {
   "cell_type": "code",
   "execution_count": 57,
   "metadata": {},
   "outputs": [
    {
     "name": "stdout",
     "output_type": "stream",
     "text": [
      "defaultdict(<class 'list'>, {})\n",
      "[1]\n",
      "defaultdict(<class 'dict'>, {})\n",
      "{'City': 'Seattle'}\n",
      "defaultdict(<function <lambda> at 0x11a61bd08>, {})\n",
      "1\n"
     ]
    }
   ],
   "source": [
    "dd_list = defaultdict(list) # list() produces an empty list\n",
    "print(dd_list)\n",
    "dd_list[2].append(1) # now dd_list contains {2: [1]}\n",
    "print(dd_list[2])\n",
    "dd_dict = defaultdict(dict) # dict() produces an empty dict\n",
    "print(dd_dict)\n",
    "dd_dict[\"Joel\"][\"City\"] = \"Seattle\" # { \"Joel\" : { \"City\" : Seattle\"}}\n",
    "print(dd_dict[\"Joel\"])\n",
    "dd_pair = defaultdict(lambda: [0, 0])\n",
    "print(dd_pair)\n",
    "dd_pair[2][1] = 1 # now dd_pair contains {2: [0,1]}\n",
    "print(dd_pair[2][1])"
   ]
  },
  {
   "cell_type": "code",
   "execution_count": 58,
   "metadata": {},
   "outputs": [
    {
     "data": {
      "text/plain": [
       "Counter({0: 2, 1: 1, 2: 1})"
      ]
     },
     "execution_count": 58,
     "metadata": {},
     "output_type": "execute_result"
    }
   ],
   "source": [
    "from collections import Counter\n",
    "c = Counter([0, 1, 2, 0]) # c is (basically) { 0 : 2, 1 : 1, 2 : 1 }\n",
    "c"
   ]
  },
  {
   "cell_type": "code",
   "execution_count": 59,
   "metadata": {},
   "outputs": [
    {
     "data": {
      "text/plain": [
       "Counter({'Maître': 2,\n",
       "         'Corbeau,': 2,\n",
       "         'sur': 1,\n",
       "         'un': 5,\n",
       "         'arbre': 1,\n",
       "         'perché,': 1,\n",
       "         'Tenait': 1,\n",
       "         'en': 1,\n",
       "         'son': 1,\n",
       "         'bec': 1,\n",
       "         'fromage.': 1,\n",
       "         'Renard,': 1,\n",
       "         'par': 1,\n",
       "         \"l'odeur\": 1,\n",
       "         'alléché,': 1,\n",
       "         'Lui': 1,\n",
       "         'tint': 1,\n",
       "         'à': 2,\n",
       "         'peu': 2,\n",
       "         'près': 1,\n",
       "         'ce': 1,\n",
       "         'langage': 1,\n",
       "         ':': 2,\n",
       "         'Et': 2,\n",
       "         'bonjour,': 1,\n",
       "         'Monsieur': 1,\n",
       "         'du': 1,\n",
       "         'Que': 1,\n",
       "         'vous': 2,\n",
       "         'êtes': 2,\n",
       "         'joli': 1,\n",
       "         '!': 2,\n",
       "         'que': 2,\n",
       "         'me': 1,\n",
       "         'semblez': 1,\n",
       "         'beau': 1,\n",
       "         'Sans': 1,\n",
       "         'mentir,': 1,\n",
       "         'si': 1,\n",
       "         'votre': 2,\n",
       "         'ramage': 1,\n",
       "         'Se': 1,\n",
       "         'rapporte': 1,\n",
       "         'plumage,': 1,\n",
       "         'Vous': 1,\n",
       "         'le': 2,\n",
       "         'Phénix': 1,\n",
       "         'des': 1,\n",
       "         'hôtes': 1,\n",
       "         'de': 3,\n",
       "         'ces': 2,\n",
       "         'bois.': 1,\n",
       "         'À': 1,\n",
       "         'mots': 1,\n",
       "         'Corbeau': 2,\n",
       "         'ne': 2,\n",
       "         'se': 1,\n",
       "         'sent': 1,\n",
       "         'pas': 1,\n",
       "         'joie,': 1,\n",
       "         'pour': 1,\n",
       "         'montrer': 1,\n",
       "         'sa': 2,\n",
       "         'belle': 1,\n",
       "         'voix,': 1,\n",
       "         'Il': 1,\n",
       "         'ouvre': 1,\n",
       "         'large': 1,\n",
       "         'bec,': 1,\n",
       "         'laisse': 1,\n",
       "         'tomber': 1,\n",
       "         'proie.': 1,\n",
       "         'Le': 2,\n",
       "         'Renard': 1,\n",
       "         \"s'en\": 1,\n",
       "         'saisit,': 1,\n",
       "         'et': 2,\n",
       "         'dit': 1,\n",
       "         'Mon': 1,\n",
       "         'bon': 1,\n",
       "         'Monsieur,': 1,\n",
       "         'Apprenez': 1,\n",
       "         'tout': 1,\n",
       "         'flatteur': 1,\n",
       "         'Vit': 1,\n",
       "         'aux': 1,\n",
       "         'dépens': 1,\n",
       "         'celui': 1,\n",
       "         'qui': 1,\n",
       "         \"l'écoute.\": 1,\n",
       "         'Cette': 1,\n",
       "         'leçon': 1,\n",
       "         'vaut': 1,\n",
       "         'bien': 1,\n",
       "         'fromage': 1,\n",
       "         'sans': 1,\n",
       "         'doute.': 1,\n",
       "         'honteux': 1,\n",
       "         'confus': 1,\n",
       "         'Jura,': 1,\n",
       "         'mais': 1,\n",
       "         'tard,': 1,\n",
       "         \"qu'on\": 1,\n",
       "         \"l'y\": 1,\n",
       "         'prendrait': 1,\n",
       "         'plus.': 1})"
      ]
     },
     "execution_count": 59,
     "metadata": {},
     "output_type": "execute_result"
    }
   ],
   "source": [
    "word_counts = Counter(document)\n",
    "word_counts"
   ]
  },
  {
   "cell_type": "code",
   "execution_count": 60,
   "metadata": {},
   "outputs": [
    {
     "name": "stdout",
     "output_type": "stream",
     "text": [
      "un 5\n",
      "de 3\n",
      "Maître 2\n",
      "Corbeau, 2\n",
      "à 2\n",
      "peu 2\n",
      ": 2\n",
      "Et 2\n",
      "vous 2\n",
      "êtes 2\n"
     ]
    }
   ],
   "source": [
    "# print the 10 most common words and their counts\n",
    "for word, count in word_counts.most_common(10):\n",
    "    print (word, count)"
   ]
  },
  {
   "cell_type": "code",
   "execution_count": 61,
   "metadata": {},
   "outputs": [
    {
     "name": "stdout",
     "output_type": "stream",
     "text": [
      "set()\n",
      "{1}\n",
      "{1, 2}\n",
      "{1, 2}\n",
      "2\n",
      "True\n",
      "False\n"
     ]
    }
   ],
   "source": [
    "s = set()\n",
    "print(s)\n",
    "s.add(1) # s is now { 1 }\n",
    "print(s)\n",
    "s.add(2) # s is now { 1, 2 }\n",
    "print(s)\n",
    "s.add(2) # s is still { 1, 2 }\n",
    "print(s)\n",
    "x = len(s) # equals 2\n",
    "print(x)\n",
    "print(2 in s) # equals True\n",
    "print(3 in s) # equals False"
   ]
  },
  {
   "cell_type": "code",
   "execution_count": 62,
   "metadata": {},
   "outputs": [
    {
     "name": "stdout",
     "output_type": "stream",
     "text": [
      "['a', 'an', 'at', 'yet', 'a', 'you']\n",
      "False\n",
      "{'an', 'at', 'a', 'yet', 'you'}\n",
      "False\n",
      "True\n"
     ]
    }
   ],
   "source": [
    "stopwords_list = [\"a\",\"an\",\"at\"] + [\"yet\", \"a\", \"you\"]\n",
    "print(stopwords_list)\n",
    "print(\"zip\" in stopwords_list) # False, but have to check every element\n",
    "\n",
    "stopwords_set = set(stopwords_list)\n",
    "print(stopwords_set)\n",
    "print(\"zip\" in stopwords_set) # very fast to check\n",
    "print(\"a\" in stopwords_set) # very fast to check"
   ]
  },
  {
   "cell_type": "code",
   "execution_count": 63,
   "metadata": {},
   "outputs": [
    {
     "name": "stdout",
     "output_type": "stream",
     "text": [
      "[1, 2, 3, 1, 2, 3]\n",
      "6\n",
      "{1, 2, 3}\n",
      "3\n",
      "[1, 2, 3]\n"
     ]
    }
   ],
   "source": [
    "item_list = [1, 2, 3, 1, 2, 3]\n",
    "print(item_list)\n",
    "num_items = len(item_list) # 6\n",
    "print(num_items)\n",
    "item_set = set(item_list) # {1, 2, 3}\n",
    "print(item_set)\n",
    "num_distinct_items = len(item_set) # 3\n",
    "print(num_distinct_items)\n",
    "distinct_item_list = list(item_set) # [1, 2, 3]\n",
    "print(distinct_item_list)"
   ]
  },
  {
   "cell_type": "code",
   "execution_count": 64,
   "metadata": {},
   "outputs": [
    {
     "data": {
      "text/plain": [
       "'supérieur à 5 et inférieur ou égal à 10'"
      ]
     },
     "execution_count": 64,
     "metadata": {},
     "output_type": "execute_result"
    }
   ],
   "source": [
    "x = 6\n",
    "if x > 10:\n",
    "    message = \"supérieur à 10\"\n",
    "elif x > 5:\n",
    "    message = \"supérieur à 5 et inférieur ou égal à 10\"\n",
    "else:\n",
    "    message = \"inférieur ou égal à 5\"\n",
    "message"
   ]
  },
  {
   "cell_type": "code",
   "execution_count": 65,
   "metadata": {},
   "outputs": [
    {
     "data": {
      "text/plain": [
       "'odd'"
      ]
     },
     "execution_count": 65,
     "metadata": {},
     "output_type": "execute_result"
    }
   ],
   "source": [
    "x = 7\n",
    "parity = \"even\" if x % 2 == 0 else \"odd\"\n",
    "parity"
   ]
  },
  {
   "cell_type": "code",
   "execution_count": 66,
   "metadata": {},
   "outputs": [
    {
     "name": "stdout",
     "output_type": "stream",
     "text": [
      "0 is less than 10\n",
      "1 is less than 10\n",
      "2 is less than 10\n",
      "3 is less than 10\n",
      "4 is less than 10\n",
      "5 is less than 10\n",
      "6 is less than 10\n",
      "7 is less than 10\n",
      "8 is less than 10\n",
      "9 is less than 10\n"
     ]
    }
   ],
   "source": [
    "x = 0\n",
    "while x < 10:\n",
    "    print (x, \"is less than 10\")\n",
    "    x += 1"
   ]
  },
  {
   "cell_type": "code",
   "execution_count": 67,
   "metadata": {},
   "outputs": [
    {
     "name": "stdout",
     "output_type": "stream",
     "text": [
      "0 is less than 10\n",
      "1 is less than 10\n",
      "2 is less than 10\n",
      "3 is less than 10\n",
      "4 is less than 10\n",
      "5 is less than 10\n",
      "6 is less than 10\n",
      "7 is less than 10\n",
      "8 is less than 10\n",
      "9 is less than 10\n"
     ]
    }
   ],
   "source": [
    "for x in range(10):\n",
    "    print (x, \"is less than 10\")"
   ]
  },
  {
   "cell_type": "code",
   "execution_count": 68,
   "metadata": {},
   "outputs": [
    {
     "name": "stdout",
     "output_type": "stream",
     "text": [
      "0\n",
      "1\n",
      "2\n",
      "3\n",
      "Attention, x est égal à : 3\n",
      "4\n",
      "5\n",
      "A la fin, x est égal à : 5\n"
     ]
    }
   ],
   "source": [
    "for x in range(10):\n",
    "    print(x)\n",
    "    if x == 3:\n",
    "        print(\"Attention, x est égal à :\", x)\n",
    "        continue # go immediately to the next iteration\n",
    "    if x == 5:\n",
    "        break # quit the loop entirely\n",
    "print(\"A la fin, x est égal à :\", x)"
   ]
  },
  {
   "cell_type": "code",
   "execution_count": 69,
   "metadata": {},
   "outputs": [
    {
     "name": "stdout",
     "output_type": "stream",
     "text": [
      "True\n",
      "False\n"
     ]
    }
   ],
   "source": [
    "one_is_less_than_two = 1 < 2\n",
    "print(one_is_less_than_two) # equals True\n",
    "true_equals_false = True == False\n",
    "print(true_equals_false) # equals False"
   ]
  },
  {
   "cell_type": "code",
   "execution_count": 70,
   "metadata": {},
   "outputs": [
    {
     "name": "stdout",
     "output_type": "stream",
     "text": [
      "True\n",
      "True\n"
     ]
    }
   ],
   "source": [
    "x = None\n",
    "print (x == None) # prints True, but is not Pythonic\n",
    "print (x is None) # prints True, and is Pythonic"
   ]
  },
  {
   "cell_type": "code",
   "execution_count": 71,
   "metadata": {},
   "outputs": [
    {
     "data": {
      "text/plain": [
       "'f'"
      ]
     },
     "execution_count": 71,
     "metadata": {},
     "output_type": "execute_result"
    }
   ],
   "source": [
    "#s = some_function_that_returns_a_string()\n",
    "s = \"fred\"\n",
    "if s:\n",
    "    first_char = s[0]\n",
    "else:\n",
    "    first_char = \"\"\n",
    "first_char"
   ]
  },
  {
   "cell_type": "code",
   "execution_count": 72,
   "metadata": {},
   "outputs": [
    {
     "data": {
      "text/plain": [
       "'f'"
      ]
     },
     "execution_count": 72,
     "metadata": {},
     "output_type": "execute_result"
    }
   ],
   "source": [
    "s = \"fred\"\n",
    "first_char = s and s[0]\n",
    "first_char"
   ]
  },
  {
   "cell_type": "code",
   "execution_count": 73,
   "metadata": {},
   "outputs": [
    {
     "data": {
      "text/plain": [
       "0"
      ]
     },
     "execution_count": 73,
     "metadata": {},
     "output_type": "execute_result"
    }
   ],
   "source": [
    "safe_x = \"fred\"\n",
    "safe_x = x or 0\n",
    "safe_x"
   ]
  },
  {
   "cell_type": "code",
   "execution_count": 74,
   "metadata": {},
   "outputs": [
    {
     "name": "stdout",
     "output_type": "stream",
     "text": [
      "True\n",
      "False\n",
      "True\n",
      "True\n",
      "False\n"
     ]
    }
   ],
   "source": [
    "print(all([True, 1, { 3 }])) # True\n",
    "print(all([True, 1, {}])) # False, {} is falsy\n",
    "print(any([True, 1, {}])) # True, True is truthy\n",
    "print(all([])) # True, no falsy elements in the list\n",
    "print(any([])) # False, no truthy elements in the list"
   ]
  },
  {
   "cell_type": "code",
   "execution_count": 75,
   "metadata": {},
   "outputs": [
    {
     "data": {
      "text/plain": [
       "[1, 2, 3, 4]"
      ]
     },
     "execution_count": 75,
     "metadata": {},
     "output_type": "execute_result"
    }
   ],
   "source": [
    "x = [4,1,2,3]\n",
    "y = sorted(x) # is [1,2,3,4], x is unchanged\n",
    "x.sort() # now x is [1,2,3,4]\n",
    "x"
   ]
  },
  {
   "cell_type": "code",
   "execution_count": 76,
   "metadata": {},
   "outputs": [
    {
     "data": {
      "text/plain": [
       "[-4, 3, -2, 1]"
      ]
     },
     "execution_count": 76,
     "metadata": {},
     "output_type": "execute_result"
    }
   ],
   "source": [
    "# sort the list by absolute value from largest to smallest\n",
    "x = sorted([-4,1,-2,3], key=abs, reverse=True) # is [-4,3,-2,1]\n",
    "x"
   ]
  },
  {
   "cell_type": "code",
   "execution_count": 77,
   "metadata": {},
   "outputs": [
    {
     "name": "stdout",
     "output_type": "stream",
     "text": [
      "[0, 2, 4]\n",
      "[0, 1, 4, 9, 16]\n",
      "[0, 4, 16]\n"
     ]
    }
   ],
   "source": [
    "even_numbers = [x for x in range(5) if x % 2 == 0] # [0, 2, 4]\n",
    "print(even_numbers)\n",
    "squares = [x * x for x in range(5)] # [0, 1, 4, 9, 16]\n",
    "print(squares)\n",
    "even_squares = [x * x for x in even_numbers] # [0, 4, 16]\n",
    "print(even_squares)"
   ]
  },
  {
   "cell_type": "code",
   "execution_count": 78,
   "metadata": {},
   "outputs": [
    {
     "name": "stdout",
     "output_type": "stream",
     "text": [
      "{0: 0, 1: 1, 2: 4, 3: 9, 4: 16}\n",
      "{1}\n",
      "{1, 4}\n"
     ]
    }
   ],
   "source": [
    "square_dict = { x : x * x for x in range(5) } # { 0:0, 1:1, 2:4, 3:9, 4:16 }\n",
    "print(square_dict)\n",
    "square_set = { x * x for x in [1, -1, -1, 1] } # { 1 }\n",
    "print(square_set)\n",
    "square_set = { x * x for x in [1, -2] } # { 1, 4}\n",
    "print(square_set)"
   ]
  },
  {
   "cell_type": "code",
   "execution_count": 79,
   "metadata": {},
   "outputs": [
    {
     "name": "stdout",
     "output_type": "stream",
     "text": [
      "[0, 2, 4]\n",
      "[0, 0, 0]\n"
     ]
    }
   ],
   "source": [
    "even_numbers = [x for x in range(5) if x % 2 == 0] # [0, 2, 4]\n",
    "print(even_numbers)\n",
    "zeroes = [0 for _ in even_numbers] # has the same length as even_numbers\n",
    "print(zeroes)"
   ]
  },
  {
   "cell_type": "code",
   "execution_count": 80,
   "metadata": {},
   "outputs": [
    {
     "data": {
      "text/plain": [
       "[(0, 0),\n",
       " (0, 1),\n",
       " (0, 2),\n",
       " (0, 3),\n",
       " (1, 0),\n",
       " (1, 1),\n",
       " (1, 2),\n",
       " (1, 3),\n",
       " (2, 0),\n",
       " (2, 1),\n",
       " (2, 2),\n",
       " (2, 3),\n",
       " (3, 0),\n",
       " (3, 1),\n",
       " (3, 2),\n",
       " (3, 3)]"
      ]
     },
     "execution_count": 80,
     "metadata": {},
     "output_type": "execute_result"
    }
   ],
   "source": [
    "pairs = [(x, y)\n",
    "         for x in range(4)\n",
    "         for y in range(4)]\n",
    "pairs"
   ]
  },
  {
   "cell_type": "code",
   "execution_count": 81,
   "metadata": {},
   "outputs": [
    {
     "data": {
      "text/plain": [
       "[(0, 1), (0, 2), (0, 3), (1, 2), (1, 3), (2, 3)]"
      ]
     },
     "execution_count": 81,
     "metadata": {},
     "output_type": "execute_result"
    }
   ],
   "source": [
    "increasing_pairs = [(x, y) # only pairs with x < y,\n",
    "                    for x in range(4) # range(lo, hi) equals\n",
    "                    for y in range(x + 1, 4)] # [lo, lo + 1, ..., hi - 1]\n",
    "increasing_pairs"
   ]
  },
  {
   "cell_type": "code",
   "execution_count": 82,
   "metadata": {},
   "outputs": [],
   "source": [
    "def lazy_range(n):\n",
    "    \"\"\"a lazy version of range\"\"\"\n",
    "    i = 0\n",
    "    while i < n:\n",
    "        yield i\n",
    "        i += 2"
   ]
  },
  {
   "cell_type": "code",
   "execution_count": 83,
   "metadata": {},
   "outputs": [
    {
     "name": "stdout",
     "output_type": "stream",
     "text": [
      "0\n",
      "2\n",
      "4\n",
      "6\n",
      "8\n"
     ]
    }
   ],
   "source": [
    "for i in lazy_range(10):\n",
    "    print(i)"
   ]
  },
  {
   "cell_type": "code",
   "execution_count": 84,
   "metadata": {},
   "outputs": [
    {
     "data": {
      "text/plain": [
       "[0.7027216437190679,\n",
       " 0.29049105621971305,\n",
       " 0.5544217865126684,\n",
       " 0.3291072550493007]"
      ]
     },
     "execution_count": 84,
     "metadata": {},
     "output_type": "execute_result"
    }
   ],
   "source": [
    "import random\n",
    "four_uniform_randoms = [random.random() for _ in range(4)]\n",
    "# random.random() produces numbers\n",
    "# uniformly between 0 and 1\n",
    "# it's the random function we'll use\n",
    "# most often\n",
    "four_uniform_randoms"
   ]
  },
  {
   "cell_type": "code",
   "execution_count": 85,
   "metadata": {},
   "outputs": [
    {
     "name": "stdout",
     "output_type": "stream",
     "text": [
      "0.5714025946899135\n",
      "0.5714025946899135\n"
     ]
    }
   ],
   "source": [
    "random.seed(10)\n",
    "print (random.random())\n",
    "random.seed(10)\n",
    "print (random.random())\n",
    "# set the seed to 10\n",
    "# 0.57140259469\n",
    "# reset the seed to 10\n",
    "# 0.57140259469 again"
   ]
  },
  {
   "cell_type": "code",
   "execution_count": 86,
   "metadata": {},
   "outputs": [
    {
     "name": "stdout",
     "output_type": "stream",
     "text": [
      "7\n",
      "9\n",
      "3\n",
      "4\n"
     ]
    }
   ],
   "source": [
    "random.randrange(10) # choose randomly from range(10) = [0, 1, ..., 9]\n",
    "print(random.randrange(10))\n",
    "print(random.randrange(10))\n",
    "random.randrange(3, 6) # choose randomly from range(3, 6) = [3, 4, 5]\n",
    "print(random.randrange(3, 6))\n",
    "print(random.randrange(3, 6))"
   ]
  },
  {
   "cell_type": "code",
   "execution_count": 1,
   "metadata": {},
   "outputs": [
    {
     "ename": "NameError",
     "evalue": "name 'random' is not defined",
     "output_type": "error",
     "traceback": [
      "\u001b[1;31m---------------------------------------------------------------------------\u001b[0m",
      "\u001b[1;31mNameError\u001b[0m                                 Traceback (most recent call last)",
      "\u001b[1;32m<ipython-input-1-0ec454bf5b5d>\u001b[0m in \u001b[0;36m<module>\u001b[1;34m\u001b[0m\n\u001b[0;32m      1\u001b[0m \u001b[0mup_to_ten\u001b[0m \u001b[1;33m=\u001b[0m \u001b[1;33m[\u001b[0m\u001b[0mx\u001b[0m \u001b[1;32mfor\u001b[0m \u001b[0mx\u001b[0m \u001b[1;32min\u001b[0m \u001b[0mrange\u001b[0m\u001b[1;33m(\u001b[0m\u001b[1;36m10\u001b[0m\u001b[1;33m)\u001b[0m\u001b[1;33m]\u001b[0m\u001b[1;33m\u001b[0m\u001b[1;33m\u001b[0m\u001b[0m\n\u001b[1;32m----> 2\u001b[1;33m \u001b[0mrandom\u001b[0m\u001b[1;33m.\u001b[0m\u001b[0mshuffle\u001b[0m\u001b[1;33m(\u001b[0m\u001b[0mup_to_ten\u001b[0m\u001b[1;33m)\u001b[0m\u001b[1;33m\u001b[0m\u001b[1;33m\u001b[0m\u001b[0m\n\u001b[0m\u001b[0;32m      3\u001b[0m \u001b[0mprint\u001b[0m \u001b[1;33m(\u001b[0m\u001b[0mup_to_ten\u001b[0m\u001b[1;33m)\u001b[0m\u001b[1;33m\u001b[0m\u001b[1;33m\u001b[0m\u001b[0m\n\u001b[0;32m      4\u001b[0m \u001b[1;31m# [2, 5, 1, 9, 7, 3, 8, 6, 4, 0] (your results will probably be different)\u001b[0m\u001b[1;33m\u001b[0m\u001b[1;33m\u001b[0m\u001b[1;33m\u001b[0m\u001b[0m\n",
      "\u001b[1;31mNameError\u001b[0m: name 'random' is not defined"
     ]
    }
   ],
   "source": [
    "up_to_ten = [x for x in range(10)]\n",
    "random.shuffle(up_to_ten)\n",
    "print (up_to_ten)\n",
    "# [2, 5, 1, 9, 7, 3, 8, 6, 4, 0] (your results will probably be different)"
   ]
  },
  {
   "cell_type": "code",
   "execution_count": 88,
   "metadata": {},
   "outputs": [
    {
     "name": "stdout",
     "output_type": "stream",
     "text": [
      "Charlie\n",
      "Bob\n"
     ]
    }
   ],
   "source": [
    "my_best_friend = random.choice([\"Alice\", \"Bob\", \"Charlie\"]) # \"Bob\" for me\n",
    "print(my_best_friend)\n",
    "my_best_friend = random.choice([\"Alice\", \"Bob\", \"Charlie\"]) # \"Bob\" for me\n",
    "print(my_best_friend)"
   ]
  },
  {
   "cell_type": "code",
   "execution_count": 89,
   "metadata": {},
   "outputs": [
    {
     "name": "stdout",
     "output_type": "stream",
     "text": [
      "[2, 26, 8, 38, 22, 24]\n",
      "[26, 18, 43, 16, 29, 11]\n"
     ]
    }
   ],
   "source": [
    "lottery_numbers = range(50)\n",
    "winning_numbers = random.sample(lottery_numbers, 6) # [16, 36, 10, 6, 25, 9]\n",
    "print(winning_numbers)\n",
    "winning_numbers = random.sample(lottery_numbers, 6) # [16, 36, 10, 6, 25, 9]\n",
    "print(winning_numbers)"
   ]
  },
  {
   "cell_type": "code",
   "execution_count": 90,
   "metadata": {},
   "outputs": [
    {
     "name": "stdout",
     "output_type": "stream",
     "text": [
      "[4, 5, 2, 7]\n",
      "[3, 7, 9, 6]\n"
     ]
    }
   ],
   "source": [
    "four_with_replacement = [random.choice(range(10)) for _ in range(4)]\n",
    "print(four_with_replacement)\n",
    "four_with_replacement = [random.choice(range(10)) for _ in range(4)]\n",
    "print(four_with_replacement)"
   ]
  },
  {
   "cell_type": "code",
   "execution_count": 91,
   "metadata": {},
   "outputs": [
    {
     "name": "stdout",
     "output_type": "stream",
     "text": [
      "True\n"
     ]
    }
   ],
   "source": [
    "import re\n",
    "print (all([                                             # all of these are true, because\n",
    "    not re.match(\"a\", \"cat\"),                           # * 'cat' doesn't start with 'a'\n",
    "    re.search(\"a\", \"cat\"),                              # * 'cat' has an 'a' in it\n",
    "    not re.search(\"c\", \"dog\"),                          # * 'dog' doesn't have a 'c' in it\n",
    "    3 == len(re.split(\"[ab]\", \"carbs\")),                # * split on a or b to ['c','r','s']\n",
    "    \"R-D-\" == re.sub(\"[0-9]\", \"-\", \"R2D2\")              # * replace digits with dashes\n",
    "    ])) # prints True"
   ]
  },
  {
   "cell_type": "code",
   "execution_count": 92,
   "metadata": {},
   "outputs": [
    {
     "name": "stdout",
     "output_type": "stream",
     "text": [
      "True\n",
      "False\n"
     ]
    }
   ],
   "source": [
    "# by convention, we give classes PascalCase names\n",
    "class Set:\n",
    "    # these are the member functions\n",
    "    # every one takes a first parameter \"self\" (another convention)\n",
    "    # that refers to the particular Set object being used\n",
    "\n",
    "    def __init__(self, values=None):\n",
    "        \"\"\"This is the constructor.It gets called when you create a new Set. You would use it like\n",
    "        s1 = Set()          # empty set\n",
    "        s2 = Set([1,2,2,3]) # initialize with values\"\"\"\n",
    "        \n",
    "        self.dict = {}  # each instance of Set has its own dict property\n",
    "                        # which is what we'll use to track memberships\n",
    "        if values is not None:\n",
    "            for value in values:\n",
    "                self.add(value)\n",
    "        \n",
    "    def __repr__(self):\n",
    "        \"\"\"this is the string representation of a Set object\n",
    "        if you type it at the Python prompt or pass it to str()\"\"\"\n",
    "        return \"Set: \" + str(self.dict.keys())\n",
    "        \n",
    "    # we'll represent membership by being a key in self.dict with value True\n",
    "    def add(self, value):\n",
    "        self.dict[value] = True\n",
    "        \n",
    "    # value is in the Set if it's a key in the dictionary\n",
    "    def contains(self, value):\n",
    "        return value in self.dict\n",
    "\n",
    "    def remove(self, value):\n",
    "        del self.dict[value]\n",
    "\n",
    "s = Set([1,2,3])\n",
    "s.add(4)\n",
    "print (s.contains(4)) # True \n",
    "s.remove(3)\n",
    "print (s.contains(3)) # False"
   ]
  },
  {
   "cell_type": "code",
   "execution_count": 93,
   "metadata": {},
   "outputs": [
    {
     "data": {
      "text/plain": [
       "25"
      ]
     },
     "execution_count": 93,
     "metadata": {},
     "output_type": "execute_result"
    }
   ],
   "source": [
    "def exp(base, power):\n",
    "    return base ** power\n",
    "exp(5,2)"
   ]
  },
  {
   "cell_type": "code",
   "execution_count": 94,
   "metadata": {},
   "outputs": [
    {
     "data": {
      "text/plain": [
       "8"
      ]
     },
     "execution_count": 94,
     "metadata": {},
     "output_type": "execute_result"
    }
   ],
   "source": [
    "def two_to_the(power):\n",
    "    return exp(2, power)\n",
    "two_to_the(3)"
   ]
  },
  {
   "cell_type": "code",
   "execution_count": 95,
   "metadata": {},
   "outputs": [
    {
     "name": "stdout",
     "output_type": "stream",
     "text": [
      "8\n"
     ]
    }
   ],
   "source": [
    "from functools import partial\n",
    "two_to_the = partial(exp, 2) # is now a function of one variable\n",
    "print (two_to_the(3)) # 8"
   ]
  },
  {
   "cell_type": "code",
   "execution_count": 96,
   "metadata": {},
   "outputs": [
    {
     "name": "stdout",
     "output_type": "stream",
     "text": [
      "9\n"
     ]
    }
   ],
   "source": [
    "square_of = partial(exp, power = 2)\n",
    "print (square_of(3)) # 9"
   ]
  },
  {
   "cell_type": "code",
   "execution_count": 97,
   "metadata": {},
   "outputs": [
    {
     "name": "stdout",
     "output_type": "stream",
     "text": [
      "[1, 2, 3, 4]\n",
      "[2, 4, 6, 8]\n",
      "[2, 4, 6, 8]\n",
      "[2, 4, 6, 8]\n"
     ]
    }
   ],
   "source": [
    "def double(x):\n",
    "    return 2 * x\n",
    "\n",
    "xs = [1,2,3,4]\n",
    "print(xs)\n",
    "twice_xs = [double(x) for x in xs] # [2, 4, 6, 8]\n",
    "print(twice_xs)\n",
    "twice_xs = list(map(double, xs)) # same as above\n",
    "print(twice_xs)\n",
    "list_doubler = partial(map, double) # *function* that doubles a list\n",
    "twice_xs = list_doubler(xs) # again [2, 4, 6, 8]\n",
    "print(list(twice_xs))"
   ]
  },
  {
   "cell_type": "code",
   "execution_count": 98,
   "metadata": {},
   "outputs": [
    {
     "name": "stdout",
     "output_type": "stream",
     "text": [
      "[4, 10]\n"
     ]
    }
   ],
   "source": [
    "def multiply(x, y): return x * y\n",
    "products = map(multiply, [1, 2], [4, 5]) # [1 * 4, 2 * 5] = [4, 10]\n",
    "print(list(products))"
   ]
  },
  {
   "cell_type": "code",
   "execution_count": 99,
   "metadata": {},
   "outputs": [
    {
     "name": "stdout",
     "output_type": "stream",
     "text": [
      "[2, 4]\n",
      "[2, 4]\n",
      "[2, 4]\n"
     ]
    }
   ],
   "source": [
    "def is_even(x):\n",
    "    \"\"\"True if x is even, False if x is odd\"\"\"\n",
    "    return x % 2 == 0\n",
    "\n",
    "x_evens = [x for x in xs if is_even(x)] # [2, 4]\n",
    "print(x_evens)\n",
    "x_evens = filter(is_even, xs) # same as above\n",
    "print(list(x_evens))\n",
    "list_evener = partial(filter, is_even) # *function* that filters a list\n",
    "x_evens = list_evener(xs) # again [2, 4]\n",
    "print(list(x_evens))"
   ]
  },
  {
   "cell_type": "code",
   "execution_count": 100,
   "metadata": {},
   "outputs": [
    {
     "name": "stdout",
     "output_type": "stream",
     "text": [
      "0  =  Maître\n",
      "1  =  Corbeau,\n",
      "2  =  sur\n",
      "3  =  un\n",
      "4  =  arbre\n",
      "5  =  perché,\n",
      "6  =  Tenait\n",
      "7  =  en\n",
      "8  =  son\n",
      "9  =  bec\n",
      "10  =  un\n",
      "11  =  fromage.\n",
      "12  =  Maître\n",
      "13  =  Renard,\n",
      "14  =  par\n",
      "15  =  l'odeur\n",
      "16  =  alléché,\n",
      "17  =  Lui\n",
      "18  =  tint\n",
      "19  =  à\n",
      "20  =  peu\n",
      "21  =  près\n",
      "22  =  ce\n",
      "23  =  langage\n",
      "24  =  :\n",
      "25  =  Et\n",
      "26  =  bonjour,\n",
      "27  =  Monsieur\n",
      "28  =  du\n",
      "29  =  Corbeau,\n",
      "30  =  Que\n",
      "31  =  vous\n",
      "32  =  êtes\n",
      "33  =  joli\n",
      "34  =  !\n",
      "35  =  que\n",
      "36  =  vous\n",
      "37  =  me\n",
      "38  =  semblez\n",
      "39  =  beau\n",
      "40  =  !\n",
      "41  =  Sans\n",
      "42  =  mentir,\n",
      "43  =  si\n",
      "44  =  votre\n",
      "45  =  ramage\n",
      "46  =  Se\n",
      "47  =  rapporte\n",
      "48  =  à\n",
      "49  =  votre\n",
      "50  =  plumage,\n",
      "51  =  Vous\n",
      "52  =  êtes\n",
      "53  =  le\n",
      "54  =  Phénix\n",
      "55  =  des\n",
      "56  =  hôtes\n",
      "57  =  de\n",
      "58  =  ces\n",
      "59  =  bois.\n",
      "60  =  À\n",
      "61  =  ces\n",
      "62  =  mots\n",
      "63  =  le\n",
      "64  =  Corbeau\n",
      "65  =  ne\n",
      "66  =  se\n",
      "67  =  sent\n",
      "68  =  pas\n",
      "69  =  de\n",
      "70  =  joie,\n",
      "71  =  Et\n",
      "72  =  pour\n",
      "73  =  montrer\n",
      "74  =  sa\n",
      "75  =  belle\n",
      "76  =  voix,\n",
      "77  =  Il\n",
      "78  =  ouvre\n",
      "79  =  un\n",
      "80  =  large\n",
      "81  =  bec,\n",
      "82  =  laisse\n",
      "83  =  tomber\n",
      "84  =  sa\n",
      "85  =  proie.\n",
      "86  =  Le\n",
      "87  =  Renard\n",
      "88  =  s'en\n",
      "89  =  saisit,\n",
      "90  =  et\n",
      "91  =  dit\n",
      "92  =  :\n",
      "93  =  Mon\n",
      "94  =  bon\n",
      "95  =  Monsieur,\n",
      "96  =  Apprenez\n",
      "97  =  que\n",
      "98  =  tout\n",
      "99  =  flatteur\n",
      "100  =  Vit\n",
      "101  =  aux\n",
      "102  =  dépens\n",
      "103  =  de\n",
      "104  =  celui\n",
      "105  =  qui\n",
      "106  =  l'écoute.\n",
      "107  =  Cette\n",
      "108  =  leçon\n",
      "109  =  vaut\n",
      "110  =  bien\n",
      "111  =  un\n",
      "112  =  fromage\n",
      "113  =  sans\n",
      "114  =  doute.\n",
      "115  =  Le\n",
      "116  =  Corbeau\n",
      "117  =  honteux\n",
      "118  =  et\n",
      "119  =  confus\n",
      "120  =  Jura,\n",
      "121  =  mais\n",
      "122  =  un\n",
      "123  =  peu\n",
      "124  =  tard,\n",
      "125  =  qu'on\n",
      "126  =  ne\n",
      "127  =  l'y\n",
      "128  =  prendrait\n",
      "129  =  plus.\n"
     ]
    }
   ],
   "source": [
    "# not Pythonic\n",
    "for i in range(len(document)):\n",
    "    doc = document[i]\n",
    "    print(i, \" = \", doc)"
   ]
  },
  {
   "cell_type": "code",
   "execution_count": 101,
   "metadata": {},
   "outputs": [
    {
     "name": "stdout",
     "output_type": "stream",
     "text": [
      "0  =  Maître\n",
      "1  =  Corbeau,\n",
      "2  =  sur\n",
      "3  =  un\n",
      "4  =  arbre\n",
      "5  =  perché,\n",
      "6  =  Tenait\n",
      "7  =  en\n",
      "8  =  son\n",
      "9  =  bec\n",
      "10  =  un\n",
      "11  =  fromage.\n",
      "12  =  Maître\n",
      "13  =  Renard,\n",
      "14  =  par\n",
      "15  =  l'odeur\n",
      "16  =  alléché,\n",
      "17  =  Lui\n",
      "18  =  tint\n",
      "19  =  à\n",
      "20  =  peu\n",
      "21  =  près\n",
      "22  =  ce\n",
      "23  =  langage\n",
      "24  =  :\n",
      "25  =  Et\n",
      "26  =  bonjour,\n",
      "27  =  Monsieur\n",
      "28  =  du\n",
      "29  =  Corbeau,\n",
      "30  =  Que\n",
      "31  =  vous\n",
      "32  =  êtes\n",
      "33  =  joli\n",
      "34  =  !\n",
      "35  =  que\n",
      "36  =  vous\n",
      "37  =  me\n",
      "38  =  semblez\n",
      "39  =  beau\n",
      "40  =  !\n",
      "41  =  Sans\n",
      "42  =  mentir,\n",
      "43  =  si\n",
      "44  =  votre\n",
      "45  =  ramage\n",
      "46  =  Se\n",
      "47  =  rapporte\n",
      "48  =  à\n",
      "49  =  votre\n",
      "50  =  plumage,\n",
      "51  =  Vous\n",
      "52  =  êtes\n",
      "53  =  le\n",
      "54  =  Phénix\n",
      "55  =  des\n",
      "56  =  hôtes\n",
      "57  =  de\n",
      "58  =  ces\n",
      "59  =  bois.\n",
      "60  =  À\n",
      "61  =  ces\n",
      "62  =  mots\n",
      "63  =  le\n",
      "64  =  Corbeau\n",
      "65  =  ne\n",
      "66  =  se\n",
      "67  =  sent\n",
      "68  =  pas\n",
      "69  =  de\n",
      "70  =  joie,\n",
      "71  =  Et\n",
      "72  =  pour\n",
      "73  =  montrer\n",
      "74  =  sa\n",
      "75  =  belle\n",
      "76  =  voix,\n",
      "77  =  Il\n",
      "78  =  ouvre\n",
      "79  =  un\n",
      "80  =  large\n",
      "81  =  bec,\n",
      "82  =  laisse\n",
      "83  =  tomber\n",
      "84  =  sa\n",
      "85  =  proie.\n",
      "86  =  Le\n",
      "87  =  Renard\n",
      "88  =  s'en\n",
      "89  =  saisit,\n",
      "90  =  et\n",
      "91  =  dit\n",
      "92  =  :\n",
      "93  =  Mon\n",
      "94  =  bon\n",
      "95  =  Monsieur,\n",
      "96  =  Apprenez\n",
      "97  =  que\n",
      "98  =  tout\n",
      "99  =  flatteur\n",
      "100  =  Vit\n",
      "101  =  aux\n",
      "102  =  dépens\n",
      "103  =  de\n",
      "104  =  celui\n",
      "105  =  qui\n",
      "106  =  l'écoute.\n",
      "107  =  Cette\n",
      "108  =  leçon\n",
      "109  =  vaut\n",
      "110  =  bien\n",
      "111  =  un\n",
      "112  =  fromage\n",
      "113  =  sans\n",
      "114  =  doute.\n",
      "115  =  Le\n",
      "116  =  Corbeau\n",
      "117  =  honteux\n",
      "118  =  et\n",
      "119  =  confus\n",
      "120  =  Jura,\n",
      "121  =  mais\n",
      "122  =  un\n",
      "123  =  peu\n",
      "124  =  tard,\n",
      "125  =  qu'on\n",
      "126  =  ne\n",
      "127  =  l'y\n",
      "128  =  prendrait\n",
      "129  =  plus.\n"
     ]
    }
   ],
   "source": [
    "# also not Pythonic\n",
    "i=0\n",
    "for doc in document:\n",
    "    print(i, \" = \", doc)\n",
    "    i+=1"
   ]
  },
  {
   "cell_type": "code",
   "execution_count": 102,
   "metadata": {},
   "outputs": [
    {
     "name": "stdout",
     "output_type": "stream",
     "text": [
      "0  =  Maître\n",
      "1  =  Corbeau,\n",
      "2  =  sur\n",
      "3  =  un\n",
      "4  =  arbre\n",
      "5  =  perché,\n",
      "6  =  Tenait\n",
      "7  =  en\n",
      "8  =  son\n",
      "9  =  bec\n",
      "10  =  un\n",
      "11  =  fromage.\n",
      "12  =  Maître\n",
      "13  =  Renard,\n",
      "14  =  par\n",
      "15  =  l'odeur\n",
      "16  =  alléché,\n",
      "17  =  Lui\n",
      "18  =  tint\n",
      "19  =  à\n",
      "20  =  peu\n",
      "21  =  près\n",
      "22  =  ce\n",
      "23  =  langage\n",
      "24  =  :\n",
      "25  =  Et\n",
      "26  =  bonjour,\n",
      "27  =  Monsieur\n",
      "28  =  du\n",
      "29  =  Corbeau,\n",
      "30  =  Que\n",
      "31  =  vous\n",
      "32  =  êtes\n",
      "33  =  joli\n",
      "34  =  !\n",
      "35  =  que\n",
      "36  =  vous\n",
      "37  =  me\n",
      "38  =  semblez\n",
      "39  =  beau\n",
      "40  =  !\n",
      "41  =  Sans\n",
      "42  =  mentir,\n",
      "43  =  si\n",
      "44  =  votre\n",
      "45  =  ramage\n",
      "46  =  Se\n",
      "47  =  rapporte\n",
      "48  =  à\n",
      "49  =  votre\n",
      "50  =  plumage,\n",
      "51  =  Vous\n",
      "52  =  êtes\n",
      "53  =  le\n",
      "54  =  Phénix\n",
      "55  =  des\n",
      "56  =  hôtes\n",
      "57  =  de\n",
      "58  =  ces\n",
      "59  =  bois.\n",
      "60  =  À\n",
      "61  =  ces\n",
      "62  =  mots\n",
      "63  =  le\n",
      "64  =  Corbeau\n",
      "65  =  ne\n",
      "66  =  se\n",
      "67  =  sent\n",
      "68  =  pas\n",
      "69  =  de\n",
      "70  =  joie,\n",
      "71  =  Et\n",
      "72  =  pour\n",
      "73  =  montrer\n",
      "74  =  sa\n",
      "75  =  belle\n",
      "76  =  voix,\n",
      "77  =  Il\n",
      "78  =  ouvre\n",
      "79  =  un\n",
      "80  =  large\n",
      "81  =  bec,\n",
      "82  =  laisse\n",
      "83  =  tomber\n",
      "84  =  sa\n",
      "85  =  proie.\n",
      "86  =  Le\n",
      "87  =  Renard\n",
      "88  =  s'en\n",
      "89  =  saisit,\n",
      "90  =  et\n",
      "91  =  dit\n",
      "92  =  :\n",
      "93  =  Mon\n",
      "94  =  bon\n",
      "95  =  Monsieur,\n",
      "96  =  Apprenez\n",
      "97  =  que\n",
      "98  =  tout\n",
      "99  =  flatteur\n",
      "100  =  Vit\n",
      "101  =  aux\n",
      "102  =  dépens\n",
      "103  =  de\n",
      "104  =  celui\n",
      "105  =  qui\n",
      "106  =  l'écoute.\n",
      "107  =  Cette\n",
      "108  =  leçon\n",
      "109  =  vaut\n",
      "110  =  bien\n",
      "111  =  un\n",
      "112  =  fromage\n",
      "113  =  sans\n",
      "114  =  doute.\n",
      "115  =  Le\n",
      "116  =  Corbeau\n",
      "117  =  honteux\n",
      "118  =  et\n",
      "119  =  confus\n",
      "120  =  Jura,\n",
      "121  =  mais\n",
      "122  =  un\n",
      "123  =  peu\n",
      "124  =  tard,\n",
      "125  =  qu'on\n",
      "126  =  ne\n",
      "127  =  l'y\n",
      "128  =  prendrait\n",
      "129  =  plus.\n"
     ]
    }
   ],
   "source": [
    "# Pythonic\n",
    "for i, doc in enumerate(document):\n",
    "    print(i, \" = \", doc)"
   ]
  },
  {
   "cell_type": "code",
   "execution_count": 103,
   "metadata": {},
   "outputs": [
    {
     "name": "stdout",
     "output_type": "stream",
     "text": [
      "0\n",
      "1\n",
      "2\n",
      "3\n",
      "4\n",
      "5\n",
      "6\n",
      "7\n",
      "8\n",
      "9\n",
      "10\n",
      "11\n",
      "12\n",
      "13\n",
      "14\n",
      "15\n",
      "16\n",
      "17\n",
      "18\n",
      "19\n",
      "20\n",
      "21\n",
      "22\n",
      "23\n",
      "24\n",
      "25\n",
      "26\n",
      "27\n",
      "28\n",
      "29\n",
      "30\n",
      "31\n",
      "32\n",
      "33\n",
      "34\n",
      "35\n",
      "36\n",
      "37\n",
      "38\n",
      "39\n",
      "40\n",
      "41\n",
      "42\n",
      "43\n",
      "44\n",
      "45\n",
      "46\n",
      "47\n",
      "48\n",
      "49\n",
      "50\n",
      "51\n",
      "52\n",
      "53\n",
      "54\n",
      "55\n",
      "56\n",
      "57\n",
      "58\n",
      "59\n",
      "60\n",
      "61\n",
      "62\n",
      "63\n",
      "64\n",
      "65\n",
      "66\n",
      "67\n",
      "68\n",
      "69\n",
      "70\n",
      "71\n",
      "72\n",
      "73\n",
      "74\n",
      "75\n",
      "76\n",
      "77\n",
      "78\n",
      "79\n",
      "80\n",
      "81\n",
      "82\n",
      "83\n",
      "84\n",
      "85\n",
      "86\n",
      "87\n",
      "88\n",
      "89\n",
      "90\n",
      "91\n",
      "92\n",
      "93\n",
      "94\n",
      "95\n",
      "96\n",
      "97\n",
      "98\n",
      "99\n",
      "100\n",
      "101\n",
      "102\n",
      "103\n",
      "104\n",
      "105\n",
      "106\n",
      "107\n",
      "108\n",
      "109\n",
      "110\n",
      "111\n",
      "112\n",
      "113\n",
      "114\n",
      "115\n",
      "116\n",
      "117\n",
      "118\n",
      "119\n",
      "120\n",
      "121\n",
      "122\n",
      "123\n",
      "124\n",
      "125\n",
      "126\n",
      "127\n",
      "128\n",
      "129\n"
     ]
    }
   ],
   "source": [
    "for i in range(len(document)): print(i) # not Pythonic"
   ]
  },
  {
   "cell_type": "code",
   "execution_count": 104,
   "metadata": {},
   "outputs": [
    {
     "name": "stdout",
     "output_type": "stream",
     "text": [
      "0\n",
      "1\n",
      "2\n",
      "3\n",
      "4\n",
      "5\n",
      "6\n",
      "7\n",
      "8\n",
      "9\n",
      "10\n",
      "11\n",
      "12\n",
      "13\n",
      "14\n",
      "15\n",
      "16\n",
      "17\n",
      "18\n",
      "19\n",
      "20\n",
      "21\n",
      "22\n",
      "23\n",
      "24\n",
      "25\n",
      "26\n",
      "27\n",
      "28\n",
      "29\n",
      "30\n",
      "31\n",
      "32\n",
      "33\n",
      "34\n",
      "35\n",
      "36\n",
      "37\n",
      "38\n",
      "39\n",
      "40\n",
      "41\n",
      "42\n",
      "43\n",
      "44\n",
      "45\n",
      "46\n",
      "47\n",
      "48\n",
      "49\n",
      "50\n",
      "51\n",
      "52\n",
      "53\n",
      "54\n",
      "55\n",
      "56\n",
      "57\n",
      "58\n",
      "59\n",
      "60\n",
      "61\n",
      "62\n",
      "63\n",
      "64\n",
      "65\n",
      "66\n",
      "67\n",
      "68\n",
      "69\n",
      "70\n",
      "71\n",
      "72\n",
      "73\n",
      "74\n",
      "75\n",
      "76\n",
      "77\n",
      "78\n",
      "79\n",
      "80\n",
      "81\n",
      "82\n",
      "83\n",
      "84\n",
      "85\n",
      "86\n",
      "87\n",
      "88\n",
      "89\n",
      "90\n",
      "91\n",
      "92\n",
      "93\n",
      "94\n",
      "95\n",
      "96\n",
      "97\n",
      "98\n",
      "99\n",
      "100\n",
      "101\n",
      "102\n",
      "103\n",
      "104\n",
      "105\n",
      "106\n",
      "107\n",
      "108\n",
      "109\n",
      "110\n",
      "111\n",
      "112\n",
      "113\n",
      "114\n",
      "115\n",
      "116\n",
      "117\n",
      "118\n",
      "119\n",
      "120\n",
      "121\n",
      "122\n",
      "123\n",
      "124\n",
      "125\n",
      "126\n",
      "127\n",
      "128\n",
      "129\n"
     ]
    }
   ],
   "source": [
    "for i, _ in enumerate(document): print(i) # Pythonic"
   ]
  },
  {
   "cell_type": "code",
   "execution_count": 105,
   "metadata": {},
   "outputs": [
    {
     "name": "stdout",
     "output_type": "stream",
     "text": [
      "[('a', 1), ('b', 2), ('c', 3)]\n"
     ]
    }
   ],
   "source": [
    "list1 = ['a', 'b', 'c']\n",
    "list2 = [1, 2, 3]\n",
    "list3 = zip(list1, list2)\n",
    "print(list(list3)) # is [('a', 1), ('b', 2), ('c', 3)]"
   ]
  },
  {
   "cell_type": "code",
   "execution_count": 106,
   "metadata": {},
   "outputs": [
    {
     "name": "stdout",
     "output_type": "stream",
     "text": [
      "('a', 'b', 'c')\n",
      "(1, 2, 3)\n"
     ]
    }
   ],
   "source": [
    "pairs = [('a', 1), ('b', 2), ('c', 3)]\n",
    "letters, numbers = zip(*pairs)\n",
    "print(letters)\n",
    "print(numbers)"
   ]
  },
  {
   "cell_type": "code",
   "execution_count": 107,
   "metadata": {},
   "outputs": [
    {
     "data": {
      "text/plain": [
       "3"
      ]
     },
     "execution_count": 107,
     "metadata": {},
     "output_type": "execute_result"
    }
   ],
   "source": [
    "def add(a, b):\n",
    "    return a + b\n",
    "add(1, 2) # returns 3\n",
    "#add([1, 2]) # TypeError!\n",
    "add(*[1, 2]) # returns 3"
   ]
  },
  {
   "cell_type": "code",
   "execution_count": 108,
   "metadata": {},
   "outputs": [],
   "source": [
    "def doubler(f):\n",
    "    def g(x):\n",
    "        return 2 * f(x)\n",
    "    return g"
   ]
  },
  {
   "cell_type": "code",
   "execution_count": 109,
   "metadata": {},
   "outputs": [
    {
     "name": "stdout",
     "output_type": "stream",
     "text": [
      "8\n",
      "0\n"
     ]
    }
   ],
   "source": [
    "def f1(x):\n",
    "    return x + 1\n",
    "\n",
    "g = doubler(f1)\n",
    "print (g(3)) # 8 (== ( 3 + 1) * 2)\n",
    "print (g(-1)) # 0 (== (-1 + 1) * 2)"
   ]
  },
  {
   "cell_type": "code",
   "execution_count": 110,
   "metadata": {},
   "outputs": [],
   "source": [
    "def f2(x, y):\n",
    "    return x + y\n",
    "\n",
    "g = doubler(f2)\n",
    "#print (g(1, 2)) # TypeError: g() takes exactly 1 argument (2 given)"
   ]
  },
  {
   "cell_type": "code",
   "execution_count": 111,
   "metadata": {},
   "outputs": [
    {
     "name": "stdout",
     "output_type": "stream",
     "text": [
      "unnamed args: (1, 2, 3, 4)\n",
      "keyword args: {'key': 'word', 'key2': 'word2'}\n"
     ]
    }
   ],
   "source": [
    "def magic(*args, **kwargs):\n",
    "    print (\"unnamed args:\", args)\n",
    "    print (\"keyword args:\", kwargs)\n",
    "    \n",
    "magic(1, 2, 3, 4, key = \"word\", key2 = \"word2\")"
   ]
  },
  {
   "cell_type": "code",
   "execution_count": 112,
   "metadata": {},
   "outputs": [
    {
     "name": "stdout",
     "output_type": "stream",
     "text": [
      "6\n"
     ]
    }
   ],
   "source": [
    "def other_way_magic(x, y, z):\n",
    "    return x + y + z\n",
    "\n",
    "x_y_list = [1, 2]\n",
    "z_dict={\"z\":3}\n",
    "print (other_way_magic(*x_y_list, **z_dict)) # 6"
   ]
  },
  {
   "cell_type": "code",
   "execution_count": null,
   "metadata": {},
   "outputs": [],
   "source": []
  }
 ],
 "metadata": {
  "kernelspec": {
   "display_name": "Python 3",
   "language": "python",
   "name": "python3"
  },
  "language_info": {
   "codemirror_mode": {
    "name": "ipython",
    "version": 3
   },
   "file_extension": ".py",
   "mimetype": "text/x-python",
   "name": "python",
   "nbconvert_exporter": "python",
   "pygments_lexer": "ipython3",
   "version": "3.7.3"
  }
 },
 "nbformat": 4,
 "nbformat_minor": 2
}
