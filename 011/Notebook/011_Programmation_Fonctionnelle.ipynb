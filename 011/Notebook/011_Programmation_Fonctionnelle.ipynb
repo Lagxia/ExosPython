{
 "cells": [
  {
   "cell_type": "markdown",
   "metadata": {},
   "source": [
    "# La programmation fonctionnelle"
   ]
  },
  {
   "cell_type": "markdown",
   "metadata": {},
   "source": [
    "## Le fil conducteur"
   ]
  },
  {
   "cell_type": "code",
   "execution_count": 17,
   "metadata": {},
   "outputs": [],
   "source": [
    "# Un programme écrit en style fonctionnel se caractérise essentiellement par une chose : l'absence d'effets de bord.\n",
    "# Le code ne dépend pas de données se trouvant à l'extérieur de la fonction courante et il ne modifie pas des données\n",
    "# à l'extérieur de cette fonction. Toutes les autres caractéristiques de la programmation fonctionnelle peuvent\n",
    "# se déduire de cette propriété."
   ]
  },
  {
   "cell_type": "code",
   "execution_count": 18,
   "metadata": {},
   "outputs": [],
   "source": [
    "# PAS BIEN : Code non fonctionnel\n",
    "a = 0\n",
    "def increment():\n",
    "    global a\n",
    "    a += 1"
   ]
  },
  {
   "cell_type": "code",
   "execution_count": 19,
   "metadata": {},
   "outputs": [
    {
     "name": "stdout",
     "output_type": "stream",
     "text": [
      "6\n"
     ]
    }
   ],
   "source": [
    "# BIEN : Code fonctionnel\n",
    "def increment(a):\n",
    "    return a + 1\n",
    "print(increment(5))"
   ]
  },
  {
   "cell_type": "markdown",
   "metadata": {},
   "source": [
    "## N'itérez pas sur des listes : utilisez map et reduce"
   ]
  },
  {
   "cell_type": "markdown",
   "metadata": {},
   "source": [
    "### Map "
   ]
  },
  {
   "cell_type": "code",
   "execution_count": 39,
   "metadata": {},
   "outputs": [],
   "source": [
    "# La fonction map prend en argument une fonction et une collection de données.\n",
    "# Elle crée une nouvelle collection vide, applique la fonction à chaque élément de la collection d'origine\n",
    "# et insère les valeurs de retour produites dans la nouvelle collection.\n",
    "# Finalement, elle renvoie la nouvelle collection."
   ]
  },
  {
   "cell_type": "code",
   "execution_count": 40,
   "metadata": {},
   "outputs": [
    {
     "name": "stdout",
     "output_type": "stream",
     "text": [
      "[4, 4, 3]\n"
     ]
    }
   ],
   "source": [
    "name_lengths = map(len, [\"Mary\", \"Isla\", \"Sam\"])\n",
    "print (list(name_lengths))"
   ]
  },
  {
   "cell_type": "code",
   "execution_count": 41,
   "metadata": {},
   "outputs": [
    {
     "name": "stdout",
     "output_type": "stream",
     "text": [
      "[0, 1, 4, 9, 16]\n"
     ]
    }
   ],
   "source": [
    "squares = map(lambda x: x * x, [0, 1, 2, 3, 4])\n",
    "print (list(squares))"
   ]
  },
  {
   "cell_type": "code",
   "execution_count": 36,
   "metadata": {},
   "outputs": [
    {
     "name": "stdout",
     "output_type": "stream",
     "text": [
      "['Mr. Blonde', 'Mr. Blonde', 'Mr. Pink']\n"
     ]
    }
   ],
   "source": [
    "# PAS BIEN : Code non fonctionnel\n",
    "import random\n",
    "names = ['Mary', 'Isla', 'Sam']\n",
    "code_names = ['Mr. Pink', 'Mr. Orange', 'Mr. Blonde']\n",
    "for i in range(len(names)):\n",
    "    names[i] = random.choice(code_names)\n",
    "print (names)"
   ]
  },
  {
   "cell_type": "code",
   "execution_count": 37,
   "metadata": {},
   "outputs": [
    {
     "name": "stdout",
     "output_type": "stream",
     "text": [
      "['Mr. Orange', 'Mr. Pink', 'Mr. Blonde']\n"
     ]
    }
   ],
   "source": [
    "# BIEN : Code fonctionnel\n",
    "import random\n",
    "names = ['Mary', 'Isla', 'Sam']\n",
    "secret_names = map(lambda x: random.choice(['Mr. Pink', 'Mr. Orange', 'Mr. Blonde']), names)\n",
    "print (list(secret_names))"
   ]
  },
  {
   "cell_type": "code",
   "execution_count": 38,
   "metadata": {},
   "outputs": [
    {
     "name": "stdout",
     "output_type": "stream",
     "text": [
      "[-2457403339603586721, 760406544656476698, 354846423187968026]\n"
     ]
    }
   ],
   "source": [
    "# PAS BIEN : Code non fonctionnel\n",
    "names = ['Mary', 'Isla', 'Sam']\n",
    "for i in range(len(names)):\n",
    "    names[i] = hash(names[i])\n",
    "print (names)"
   ]
  },
  {
   "cell_type": "code",
   "execution_count": 26,
   "metadata": {},
   "outputs": [
    {
     "name": "stdout",
     "output_type": "stream",
     "text": [
      "[-2457403339603586721, 760406544656476698, 354846423187968026]\n"
     ]
    }
   ],
   "source": [
    "# BIEN : Code fonctionnel\n",
    "names = ['Mary', 'Isla', 'Sam']\n",
    "secret_names = map(hash, names)\n",
    "print (list(secret_names))"
   ]
  },
  {
   "cell_type": "markdown",
   "metadata": {},
   "source": [
    "### Reduce"
   ]
  },
  {
   "cell_type": "code",
   "execution_count": 27,
   "metadata": {},
   "outputs": [],
   "source": [
    "# La fonction reduce prend en entrée une fonction et une collection d'éléments.\n",
    "# Elle renvoie une valeur créée en combinant les éléments de la collection."
   ]
  },
  {
   "cell_type": "code",
   "execution_count": 28,
   "metadata": {},
   "outputs": [
    {
     "name": "stdout",
     "output_type": "stream",
     "text": [
      "10\n"
     ]
    }
   ],
   "source": [
    "from functools import reduce\n",
    "somme = reduce(lambda a, x: a + x, [0, 1, 2, 3, 4])\n",
    "print (somme)"
   ]
  },
  {
   "cell_type": "code",
   "execution_count": 29,
   "metadata": {},
   "outputs": [
    {
     "name": "stdout",
     "output_type": "stream",
     "text": [
      "3\n"
     ]
    }
   ],
   "source": [
    "# PAS BIEN : Code non fonctionnel\n",
    "sentences = ['Mary read a story to Sam and Isla.',\n",
    "             'Isla cuddled Sam.',\n",
    "             'Sam chortled.']\n",
    "sam_count = 0\n",
    "for sentence in sentences:\n",
    "    sam_count += sentence.count('Sam')\n",
    "print (sam_count)"
   ]
  },
  {
   "cell_type": "code",
   "execution_count": 30,
   "metadata": {},
   "outputs": [
    {
     "name": "stdout",
     "output_type": "stream",
     "text": [
      "3\n"
     ]
    }
   ],
   "source": [
    "# BIEN : Code fonctionnel\n",
    "sentences = ['Mary read a story to Sam and Isla.',\n",
    "             'Isla cuddled Sam.',\n",
    "             'Sam chortled.']\n",
    "sam_count = reduce(lambda a, x: a + x.count('Sam'), sentences, 0)\n",
    "print (sam_count)"
   ]
  },
  {
   "cell_type": "code",
   "execution_count": 31,
   "metadata": {},
   "outputs": [
    {
     "name": "stdout",
     "output_type": "stream",
     "text": [
      "120.0\n"
     ]
    }
   ],
   "source": [
    "# PAS BIEN : Code non fonctionnel\n",
    "people = [{'name': 'Mary', 'height': 160},\n",
    "          {'name': 'Isla', 'height': 80},\n",
    "          {'name': 'Sam'}]\n",
    "height_total = 0\n",
    "height_count = 0\n",
    "for person in people:\n",
    "    if 'height' in person:\n",
    "        height_total += person['height']\n",
    "        height_count += 1\n",
    "if height_count > 0:\n",
    "    average_height = height_total / height_count\n",
    "    print (average_height)"
   ]
  },
  {
   "cell_type": "code",
   "execution_count": 32,
   "metadata": {},
   "outputs": [
    {
     "name": "stdout",
     "output_type": "stream",
     "text": [
      "120.0\n"
     ]
    }
   ],
   "source": [
    "# BIEN : Code fonctionnel\n",
    "people = [{'name': 'Mary', 'height': 160},\n",
    "          {'name': 'Isla', 'height': 80},\n",
    "          {'name': 'Sam'}]\n",
    "heights = map(lambda x: x['height'], filter(lambda x: 'height' in x, people))\n",
    "sum_heights = reduce(lambda a, b : a + b, heights)\n",
    "heights = map(lambda x: x['height'], filter(lambda x: 'height' in x, people))\n",
    "nb_heights = len(list(heights))\n",
    "\n",
    "if nb_heights > 0:\n",
    "    average_height = sum_heights / nb_heights\n",
    "    print(average_height)"
   ]
  },
  {
   "cell_type": "code",
   "execution_count": null,
   "metadata": {},
   "outputs": [],
   "source": []
  },
  {
   "cell_type": "code",
   "execution_count": null,
   "metadata": {},
   "outputs": [],
   "source": []
  },
  {
   "cell_type": "code",
   "execution_count": null,
   "metadata": {},
   "outputs": [],
   "source": []
  }
 ],
 "metadata": {
  "kernelspec": {
   "display_name": "Python 3",
   "language": "python",
   "name": "python3"
  },
  "language_info": {
   "codemirror_mode": {
    "name": "ipython",
    "version": 3
   },
   "file_extension": ".py",
   "mimetype": "text/x-python",
   "name": "python",
   "nbconvert_exporter": "python",
   "pygments_lexer": "ipython3",
   "version": "3.6.5"
  }
 },
 "nbformat": 4,
 "nbformat_minor": 2
}
