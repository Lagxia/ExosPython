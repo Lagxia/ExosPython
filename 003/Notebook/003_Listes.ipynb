{
 "cells": [
  {
   "cell_type": "markdown",
   "metadata": {},
   "source": [
    "# Les listes"
   ]
  },
  {
   "cell_type": "code",
   "execution_count": 1,
   "metadata": {},
   "outputs": [],
   "source": [
    "liste = list(\"Python is awesome\")"
   ]
  },
  {
   "cell_type": "code",
   "execution_count": 2,
   "metadata": {},
   "outputs": [
    {
     "name": "stdout",
     "output_type": "stream",
     "text": [
      "liste =  ['P', 'y', 't', 'h', 'o', 'n', ' ', 'i', 's', ' ', 'a', 'w', 'e', 's', 'o', 'm', 'e']\n"
     ]
    }
   ],
   "source": [
    "# affichage de la liste\n",
    "print(\"liste = \", liste)"
   ]
  },
  {
   "cell_type": "code",
   "execution_count": 3,
   "metadata": {},
   "outputs": [
    {
     "name": "stdout",
     "output_type": "stream",
     "text": [
      "liste[4] =  y\n",
      "liste[-3] =  m\n"
     ]
    }
   ],
   "source": [
    "# accès à un membre de la liste (get)\n",
    "print(\"liste[4] = \", liste[1])\n",
    "print(\"liste[-3] = \", liste[-2])"
   ]
  },
  {
   "cell_type": "code",
   "execution_count": 4,
   "metadata": {},
   "outputs": [
    {
     "name": "stdout",
     "output_type": "stream",
     "text": [
      "liste[:6] =  ['P', 'y', 't', 'h', 'o', 'n']\n",
      "liste[7:9] =  ['i', 's']\n",
      "liste[10:] =  ['a', 'w', 'e', 's', 'o', 'm', 'e']\n",
      "liste[2::5] =  ['t', 'i', 'e']\n",
      "liste[-3::-6] =  ['o', 's', 't']\n"
     ]
    }
   ],
   "source": [
    "# extraction de sous-liste\n",
    "print(\"liste[:6] = \", liste[:6])\n",
    "print(\"liste[7:9] = \", liste[7:9])\n",
    "print(\"liste[10:] = \", liste[10:])\n",
    "print(\"liste[2::5] = \", liste[2::5])\n",
    "print(\"liste[-3::-6] = \", liste[-3::-6])"
   ]
  },
  {
   "cell_type": "code",
   "execution_count": 5,
   "metadata": {},
   "outputs": [
    {
     "name": "stdout",
     "output_type": "stream",
     "text": [
      "liste[11] = \"b\" \n",
      "liste =  ['P', 'y', 't', 'h', 'o', 'n', ' ', 'i', 's', ' ', 'a', 'b', 'e', 's', 'o', 'm', 'e']\n",
      "liste[13:15] = \"fg\" \n",
      "liste =  ['P', 'y', 't', 'h', 'o', 'n', ' ', 'i', 's', ' ', 'a', 'b', 'e', 'f', 'g', 'm', 'e']\n"
     ]
    }
   ],
   "source": [
    "# écriture d'un membre de la liste (set)\n",
    "liste[11] = \"b\"\n",
    "print(\"\"\"liste[11] = \"b\" \"\"\")\n",
    "print(\"liste = \", liste)\n",
    "print(\"\"\"liste[13:15] = \"fg\" \"\"\")\n",
    "liste[13:15] = \"fg\"\n",
    "print(\"liste = \", liste)"
   ]
  },
  {
   "cell_type": "code",
   "execution_count": 6,
   "metadata": {},
   "outputs": [
    {
     "name": "stdout",
     "output_type": "stream",
     "text": [
      "del liste[15]\n",
      "liste =  ['P', 'y', 't', 'h', 'o', 'n', ' ', 'i', 's', ' ', 'a', 'b', 'e', 'f', 'g', 'e']\n"
     ]
    }
   ],
   "source": [
    "# suppression d'un membre de la liste (del)\n",
    "print(\"\"\"del liste[15]\"\"\")\n",
    "del liste[15]\n",
    "print(\"liste = \", liste)"
   ]
  },
  {
   "cell_type": "code",
   "execution_count": 7,
   "metadata": {},
   "outputs": [
    {
     "name": "stdout",
     "output_type": "stream",
     "text": [
      "liste.remove(\"y\")\n",
      "liste =  ['P', 't', 'h', 'o', 'n', ' ', 'i', 's', ' ', 'a', 'b', 'e', 'f', 'g', 'e']\n"
     ]
    }
   ],
   "source": [
    "print(\"\"\"liste.remove(\"y\")\"\"\")\n",
    "liste.remove(\"y\")\n",
    "print(\"liste = \", liste)"
   ]
  },
  {
   "cell_type": "code",
   "execution_count": 8,
   "metadata": {},
   "outputs": [
    {
     "name": "stdout",
     "output_type": "stream",
     "text": [
      "while \" \" in liste: liste.remove(\" \")\n",
      "liste =  ['P', 't', 'h', 'o', 'n', 'i', 's', 'a', 'b', 'e', 'f', 'g', 'e']\n"
     ]
    }
   ],
   "source": [
    "print(\"\"\"while \" \" in liste: liste.remove(\" \")\"\"\")\n",
    "while \" \" in liste:\n",
    "    liste.remove(\" \")\n",
    "print(\"liste = \", liste)"
   ]
  },
  {
   "cell_type": "code",
   "execution_count": 9,
   "metadata": {},
   "outputs": [
    {
     "name": "stdout",
     "output_type": "stream",
     "text": [
      "del liste[:7]\n",
      "liste =  ['a', 'b', 'e', 'f', 'g', 'e']\n"
     ]
    }
   ],
   "source": [
    "print(\"\"\"del liste[:7]\"\"\")\n",
    "del liste[:7]\n",
    "print(\"liste = \", liste)"
   ]
  },
  {
   "cell_type": "code",
   "execution_count": 10,
   "metadata": {},
   "outputs": [
    {
     "name": "stdout",
     "output_type": "stream",
     "text": [
      "liste.pop() -> Renvoie : e\n",
      "liste =  ['a', 'b', 'e', 'f', 'g']\n"
     ]
    }
   ],
   "source": [
    "# Suppression du dernier élément (et renvoie de celui-ci)\n",
    "print(\"\"\"liste.pop() -> Renvoie :\"\"\", liste.pop())\n",
    "print(\"liste = \", liste)"
   ]
  },
  {
   "cell_type": "code",
   "execution_count": 11,
   "metadata": {},
   "outputs": [
    {
     "name": "stdout",
     "output_type": "stream",
     "text": [
      "liste.append(\"h\")\n",
      "liste =  ['a', 'b', 'e', 'f', 'g', 'h']\n"
     ]
    }
   ],
   "source": [
    "# Ajout d'un élément à la fin de la liste\n",
    "print(\"\"\"liste.append(\"h\")\"\"\")\n",
    "liste.append(\"h\")\n",
    "print(\"liste = \", liste)"
   ]
  },
  {
   "cell_type": "code",
   "execution_count": 12,
   "metadata": {},
   "outputs": [
    {
     "name": "stdout",
     "output_type": "stream",
     "text": [
      "liste.insert(2, \"d\")\n",
      "liste =  ['a', 'b', 'd', 'e', 'f', 'g', 'h']\n",
      "liste.insert(2, \"c\")\n",
      "liste =  ['a', 'b', 'c', 'd', 'e', 'f', 'g', 'h']\n"
     ]
    }
   ],
   "source": [
    "# Ajout d'un élément n'importe ou dans la liste\n",
    "print(\"\"\"liste.insert(2, \"d\")\"\"\")\n",
    "liste.insert(2, \"d\")\n",
    "print(\"liste = \", liste)\n",
    "\n",
    "print(\"\"\"liste.insert(2, \"c\")\"\"\")\n",
    "liste.insert(2, \"c\")\n",
    "print(\"liste = \", liste)"
   ]
  },
  {
   "cell_type": "code",
   "execution_count": 13,
   "metadata": {},
   "outputs": [
    {
     "name": "stdout",
     "output_type": "stream",
     "text": [
      "liste.extend([\"i\", \"j\"])\n",
      "liste =  ['a', 'b', 'c', 'd', 'e', 'f', 'g', 'h', 'i', 'j']\n"
     ]
    }
   ],
   "source": [
    "# Concaténation d'une liste\n",
    "print(\"\"\"liste.extend([\"i\", \"j\"])\"\"\")\n",
    "liste.extend([\"i\", \"j\"])\n",
    "print(\"liste = \", liste)"
   ]
  },
  {
   "cell_type": "markdown",
   "metadata": {},
   "source": [
    "## Listes encore"
   ]
  },
  {
   "cell_type": "code",
   "execution_count": 39,
   "metadata": {},
   "outputs": [
    {
     "name": "stdout",
     "output_type": "stream",
     "text": [
      "[1, 2, 3, 4]\n",
      "[5, 6, 7, 8]\n"
     ]
    }
   ],
   "source": [
    "list_a = [1, 2, 3, 4]\n",
    "list_b = [5, 6, 7, 8]\n",
    "print (list_a) # Output: [1, 2, 3, 4]\n",
    "print (list_b) # Output: [5, 6, 7, 8]"
   ]
  },
  {
   "cell_type": "code",
   "execution_count": 40,
   "metadata": {},
   "outputs": [
    {
     "name": "stdout",
     "output_type": "stream",
     "text": [
      "[1, 2, 3, 4]\n",
      "[5, 6, 7, 8]\n",
      "[1, 2, 3, 4, 5, 6, 7, 8]\n"
     ]
    }
   ],
   "source": [
    "list_c = list_a + list_b\n",
    "print (list_a) # Output: [1, 2, 3, 4]\n",
    "print (list_b) # Output: [5, 6, 7, 8]\n",
    "print (list_c) # Output: [1, 2, 3, 4, 5, 6, 7, 8]"
   ]
  },
  {
   "cell_type": "code",
   "execution_count": 41,
   "metadata": {},
   "outputs": [
    {
     "name": "stdout",
     "output_type": "stream",
     "text": [
      "[1, 2, 3, 4, 5, 6, 7, 8]\n"
     ]
    }
   ],
   "source": [
    "list_a = list_a + list_b\n",
    "print (list_a) # Output: [1, 2, 3, 4, 5, 6, 7, 8]"
   ]
  },
  {
   "cell_type": "code",
   "execution_count": 16,
   "metadata": {},
   "outputs": [
    {
     "name": "stdout",
     "output_type": "stream",
     "text": [
      "None\n"
     ]
    }
   ],
   "source": [
    "list_c = list_a.extend(list_b)\n",
    "print (list_c) # Output: NoneType"
   ]
  },
  {
   "cell_type": "code",
   "execution_count": 17,
   "metadata": {},
   "outputs": [
    {
     "name": "stdout",
     "output_type": "stream",
     "text": [
      "[1, 2, 3, 4, 5, 6, 7, 8, 5, 6, 7, 8]\n",
      "[5, 6, 7, 8]\n",
      "None\n"
     ]
    }
   ],
   "source": [
    "print (list_a) # Output: [1, 2, 3, 4, 5, 6, 7, 8]\n",
    "print (list_b) # Output: [5, 6, 7, 8]\n",
    "print (list_c) # Output: NoneType"
   ]
  },
  {
   "cell_type": "markdown",
   "metadata": {},
   "source": [
    "## Zip"
   ]
  },
  {
   "cell_type": "code",
   "execution_count": 28,
   "metadata": {},
   "outputs": [
    {
     "name": "stdout",
     "output_type": "stream",
     "text": [
      "[(1, 'a'), (2, 'b'), (3, 'c'), (4, 'd'), (5, 'e')]\n"
     ]
    }
   ],
   "source": [
    "list_a = [1, 2, 3, 4, 5]\n",
    "list_b = ['a', 'b', 'c', 'd', 'e']\n",
    "zipped_list = zip(list_a, list_b)\n",
    "print (list(zipped_list)) # [(1, 'a'), (2, 'b'), (3, 'c'), (4, 'd'), (5, 'e')]"
   ]
  },
  {
   "cell_type": "code",
   "execution_count": 29,
   "metadata": {},
   "outputs": [
    {
     "name": "stdout",
     "output_type": "stream",
     "text": [
      "[(1, 'a'), (2, 'b'), (3, 'c')]\n"
     ]
    }
   ],
   "source": [
    "list_a = [1, 2, 3]\n",
    "list_b = ['a', 'b', 'c', 'd', 'e']\n",
    "zipped_list = zip(list_a, list_b)\n",
    "print (list(zipped_list)) # [(1, 'a'), (2, 'b'), (3, 'c')]"
   ]
  },
  {
   "cell_type": "code",
   "execution_count": 30,
   "metadata": {},
   "outputs": [
    {
     "name": "stdout",
     "output_type": "stream",
     "text": [
      "(1, 2, 3)\n",
      "('a', 'b', 'c')\n"
     ]
    }
   ],
   "source": [
    "zipper_list = [(1, 'a'), (2, 'b'), (3, 'c')]\n",
    "list_a, list_b = zip(*zipper_list)\n",
    "print (list_a)# (1, 2, 3)\n",
    "print (list_b)# ('a', 'b', 'c')"
   ]
  },
  {
   "cell_type": "code",
   "execution_count": 35,
   "metadata": {},
   "outputs": [],
   "source": [
    "list_a = [1, 2, 3]\n",
    "list_b = [4, 5, 6]\n",
    "zipped = zip(list_a, list_b) # Output: Zip Object. <zip at 0x4c10a30>"
   ]
  },
  {
   "cell_type": "code",
   "execution_count": 36,
   "metadata": {},
   "outputs": [
    {
     "ename": "TypeError",
     "evalue": "object of type 'zip' has no len()",
     "output_type": "error",
     "traceback": [
      "\u001b[0;31m---------------------------------------------------------------------------\u001b[0m",
      "\u001b[0;31mTypeError\u001b[0m                                 Traceback (most recent call last)",
      "\u001b[0;32m<ipython-input-36-501de5946912>\u001b[0m in \u001b[0;36m<module>\u001b[0;34m\u001b[0m\n\u001b[0;32m----> 1\u001b[0;31m \u001b[0mlen\u001b[0m\u001b[0;34m(\u001b[0m\u001b[0mzipped\u001b[0m\u001b[0;34m)\u001b[0m \u001b[0;31m# TypeError: object of type 'zip' has no len()\u001b[0m\u001b[0;34m\u001b[0m\u001b[0m\n\u001b[0m",
      "\u001b[0;31mTypeError\u001b[0m: object of type 'zip' has no len()"
     ]
    }
   ],
   "source": [
    "len(zipped) # TypeError: object of type 'zip' has no len()"
   ]
  },
  {
   "cell_type": "code",
   "execution_count": 37,
   "metadata": {},
   "outputs": [
    {
     "ename": "TypeError",
     "evalue": "'zip' object is not subscriptable",
     "output_type": "error",
     "traceback": [
      "\u001b[0;31m---------------------------------------------------------------------------\u001b[0m",
      "\u001b[0;31mTypeError\u001b[0m                                 Traceback (most recent call last)",
      "\u001b[0;32m<ipython-input-37-09494f22bb70>\u001b[0m in \u001b[0;36m<module>\u001b[0;34m\u001b[0m\n\u001b[0;32m----> 1\u001b[0;31m \u001b[0mzipped\u001b[0m\u001b[0;34m[\u001b[0m\u001b[0;36m0\u001b[0m\u001b[0;34m]\u001b[0m \u001b[0;31m# TypeError: 'zip' object is not subscriptable\u001b[0m\u001b[0;34m\u001b[0m\u001b[0m\n\u001b[0m",
      "\u001b[0;31mTypeError\u001b[0m: 'zip' object is not subscriptable"
     ]
    }
   ],
   "source": [
    "zipped[0] # TypeError: 'zip' object is not subscriptable"
   ]
  },
  {
   "cell_type": "code",
   "execution_count": 38,
   "metadata": {},
   "outputs": [
    {
     "name": "stdout",
     "output_type": "stream",
     "text": [
      "[(1, 4), (2, 5), (3, 6)]\n",
      "[]\n"
     ]
    }
   ],
   "source": [
    "list_c = list(zipped) #Output: [(1, 4), (2, 5), (3, 6)]\n",
    "print(list_c)\n",
    "list_d = list(zipped) # Output []... Output is empty list because by the above statement zip got exhausted.\n",
    "print(list_d)"
   ]
  },
  {
   "cell_type": "code",
   "execution_count": null,
   "metadata": {},
   "outputs": [],
   "source": []
  }
 ],
 "metadata": {
  "kernelspec": {
   "display_name": "Python 3",
   "language": "python",
   "name": "python3"
  },
  "language_info": {
   "codemirror_mode": {
    "name": "ipython",
    "version": 3
   },
   "file_extension": ".py",
   "mimetype": "text/x-python",
   "name": "python",
   "nbconvert_exporter": "python",
   "pygments_lexer": "ipython3",
   "version": "3.7.3"
  }
 },
 "nbformat": 4,
 "nbformat_minor": 2
}
