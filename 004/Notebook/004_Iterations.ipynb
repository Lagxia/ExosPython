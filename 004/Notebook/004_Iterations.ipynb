{
 "cells": [
  {
   "cell_type": "markdown",
   "metadata": {},
   "source": [
    "# Itérations"
   ]
  },
  {
   "cell_type": "code",
   "execution_count": 1,
   "metadata": {},
   "outputs": [],
   "source": [
    "liste = list(\"abc\")"
   ]
  },
  {
   "cell_type": "code",
   "execution_count": 2,
   "metadata": {},
   "outputs": [
    {
     "name": "stdout",
     "output_type": "stream",
     "text": [
      "1\\ Parcours classique d'une liste\n",
      "a\n",
      "b\n",
      "c\n"
     ]
    }
   ],
   "source": [
    "print(\"1\\ Parcours classique d'une liste\")\n",
    "for lettre in liste:\n",
    "    print(lettre)"
   ]
  },
  {
   "cell_type": "code",
   "execution_count": 3,
   "metadata": {},
   "outputs": [
    {
     "name": "stdout",
     "output_type": "stream",
     "text": [
      "2\\ Si l'on a besoin d'un indice\n",
      "indice 0, lettre a\n",
      "indice 1, lettre b\n",
      "indice 2, lettre c\n"
     ]
    }
   ],
   "source": [
    "print(\"2\\ Si l'on a besoin d'un indice\")\n",
    "for indice, lettre in enumerate(liste):\n",
    "    print(\"indice {}, lettre {}\".format(indice, lettre))"
   ]
  },
  {
   "cell_type": "code",
   "execution_count": 4,
   "metadata": {},
   "outputs": [
    {
     "name": "stdout",
     "output_type": "stream",
     "text": [
      "3\\ A ne pas faire\n",
      "tableau = [['X', 'b', 'c'], ['X', 'b', 'c']]\n",
      "liste = ['X', 'b', 'c']\n"
     ]
    }
   ],
   "source": [
    "print(\"3\\ A ne pas faire\")\n",
    "tableau = [liste, liste]\n",
    "tableau[0][0] = \"X\"\n",
    "print(\"tableau = {}\".format(tableau), \"liste = {}\".format(liste), sep = \"\\n\")"
   ]
  },
  {
   "cell_type": "code",
   "execution_count": 5,
   "metadata": {},
   "outputs": [
    {
     "name": "stdout",
     "output_type": "stream",
     "text": [
      "4\\ Parcours d'un tableau\n",
      "a\n",
      "b\n",
      "c\n",
      "A\n",
      "B\n",
      "C\n"
     ]
    }
   ],
   "source": [
    "print(\"4\\ Parcours d'un tableau\")\n",
    "liste = list(\"abc\")\n",
    "\n",
    "tableau = [liste[:], [c.upper() for c in liste]]\n",
    "\n",
    "for ligne in tableau:\n",
    "    for case in ligne:\n",
    "        print(case)"
   ]
  },
  {
   "cell_type": "code",
   "execution_count": 6,
   "metadata": {},
   "outputs": [
    {
     "name": "stdout",
     "output_type": "stream",
     "text": [
      "[['a', 'b', 'c'], ['A', 'B', 'C']]\n"
     ]
    }
   ],
   "source": [
    "print(tableau)"
   ]
  },
  {
   "cell_type": "code",
   "execution_count": 7,
   "metadata": {},
   "outputs": [
    {
     "name": "stdout",
     "output_type": "stream",
     "text": [
      "5\\ Parcours à plat d'un tableau\n",
      "a\n",
      "b\n",
      "c\n",
      "A\n",
      "B\n",
      "C\n"
     ]
    }
   ],
   "source": [
    "from itertools import chain\n",
    "\n",
    "print(\"5\\ Parcours à plat d'un tableau\")\n",
    "for case in chain.from_iterable(tableau):\n",
    "    print(case)"
   ]
  },
  {
   "cell_type": "code",
   "execution_count": 8,
   "metadata": {},
   "outputs": [
    {
     "name": "stdout",
     "output_type": "stream",
     "text": [
      "6\\ Si l'on a besoin d'un indice\n",
      "tableau[0][0] = a\n",
      "tableau[0][1] = b\n",
      "tableau[0][2] = c\n",
      "tableau[1][0] = A\n",
      "tableau[1][1] = B\n",
      "tableau[1][2] = C\n"
     ]
    }
   ],
   "source": [
    "print(\"6\\ Si l'on a besoin d'un indice\")\n",
    "for i, ligne in enumerate(tableau):\n",
    "    for j, case in enumerate(ligne):\n",
    "        print(\"tableau[{}][{}] = {}\".format(i, j, case))"
   ]
  },
  {
   "cell_type": "code",
   "execution_count": 9,
   "metadata": {},
   "outputs": [
    {
     "name": "stdout",
     "output_type": "stream",
     "text": [
      "7\\ Parcours par colonne puis par ligne\n",
      "tableau[0][0] = a\n",
      "tableau[1][0] = A\n",
      "tableau[0][1] = b\n",
      "tableau[1][1] = B\n",
      "tableau[0][2] = c\n",
      "tableau[1][2] = C\n"
     ]
    }
   ],
   "source": [
    "print(\"7\\ Parcours par colonne puis par ligne\")\n",
    "transpose = zip(*tableau)\n",
    "\n",
    "for j, colonne in enumerate(transpose):\n",
    "    for i, case in enumerate(colonne):\n",
    "        print(\"tableau[{}][{}] = {}\".format(i, j, case))"
   ]
  },
  {
   "cell_type": "code",
   "execution_count": 10,
   "metadata": {},
   "outputs": [
    {
     "name": "stdout",
     "output_type": "stream",
     "text": [
      "8\\ Tableaux crées virtuellement par le croisement de deux listes\n",
      "Case A1\n",
      "Case A2\n",
      "Case A3\n",
      "Case B1\n",
      "Case B2\n",
      "Case B3\n",
      "Case C1\n",
      "Case C2\n",
      "Case C3\n"
     ]
    }
   ],
   "source": [
    "from itertools import product\n",
    "\n",
    "print(\"8\\ Tableaux crées virtuellement par le croisement de deux listes\")\n",
    "lignes = tableau[1][:]\n",
    "colonnes = [1, 2, 3]\n",
    "\n",
    "for ligne, colonne in product(lignes, colonnes):\n",
    "    print(\"Case {}{}\".format(ligne, colonne))"
   ]
  },
  {
   "cell_type": "code",
   "execution_count": 11,
   "metadata": {},
   "outputs": [
    {
     "name": "stdout",
     "output_type": "stream",
     "text": [
      "9\\ Croiser une liste avec une donnée unique par le produit\n",
      "Case Z1\n",
      "Case Z2\n",
      "Case Z3\n"
     ]
    }
   ],
   "source": [
    "print(\"9\\ Croiser une liste avec une donnée unique par le produit\")\n",
    "for ligne, colonne in product(\"Z\", colonnes):\n",
    "    print(\"Case {}{}\".format(ligne, colonne))"
   ]
  },
  {
   "cell_type": "code",
   "execution_count": 12,
   "metadata": {},
   "outputs": [
    {
     "name": "stdout",
     "output_type": "stream",
     "text": [
      "10\\ Croiser une liste avec une donnée unique par une répétition\n",
      "Case Z1\n",
      "Case Z2\n",
      "Case Z3\n"
     ]
    }
   ],
   "source": [
    "from itertools import repeat\n",
    "\n",
    "print(\"10\\ Croiser une liste avec une donnée unique par une répétition\")\n",
    "for ligne, colonne in zip(repeat(\"Z\"), colonnes):\n",
    "    print(\"Case {}{}\".format(ligne, colonne))"
   ]
  },
  {
   "cell_type": "code",
   "execution_count": 13,
   "metadata": {},
   "outputs": [
    {
     "name": "stdout",
     "output_type": "stream",
     "text": [
      "11\\ Croiser une liste avec une autre cyclique\n",
      "Case A0\n",
      "Case B1\n",
      "Case C2\n",
      "Case A3\n",
      "Case B4\n",
      "Case C5\n",
      "Case A6\n",
      "Case B7\n",
      "Case C8\n",
      "Case A9\n"
     ]
    }
   ],
   "source": [
    "from itertools import cycle\n",
    "\n",
    "print(\"11\\ Croiser une liste avec une autre cyclique\")\n",
    "for numero, lettre in zip(range(10), cycle(\"ABC\")):\n",
    "    print(\"Case {}{}\".format(lettre, numero))"
   ]
  }
 ],
 "metadata": {
  "kernelspec": {
   "display_name": "Python 3",
   "language": "python",
   "name": "python3"
  },
  "language_info": {
   "codemirror_mode": {
    "name": "ipython",
    "version": 3
   },
   "file_extension": ".py",
   "mimetype": "text/x-python",
   "name": "python",
   "nbconvert_exporter": "python",
   "pygments_lexer": "ipython3",
   "version": "3.6.5"
  }
 },
 "nbformat": 4,
 "nbformat_minor": 2
}
