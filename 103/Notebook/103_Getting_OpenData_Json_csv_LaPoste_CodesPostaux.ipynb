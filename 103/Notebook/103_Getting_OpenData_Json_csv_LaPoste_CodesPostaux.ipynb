{
 "cells": [
  {
   "cell_type": "code",
   "execution_count": 1,
   "metadata": {},
   "outputs": [],
   "source": [
    "# IMPORTS\n",
    "import numpy as np\n",
    "import pandas as pd\n",
    "from pandas import Series,DataFrame"
   ]
  },
  {
   "cell_type": "code",
   "execution_count": 2,
   "metadata": {},
   "outputs": [],
   "source": [
    "##################################### Base de données : LaPoste #######################################"
   ]
  },
  {
   "cell_type": "code",
   "execution_count": 3,
   "metadata": {},
   "outputs": [],
   "source": [
    "# CHARGEMENT DE FICHIERS D’ENTREE\n",
    "data_df = pd.read_csv('http://datanova.legroupe.laposte.fr/explore/dataset/laposte_hexasmal/download/?format=csv&timezone=Europe/Berlin&use_labels_for_header=true', sep=';')"
   ]
  },
  {
   "cell_type": "code",
   "execution_count": 4,
   "metadata": {},
   "outputs": [
    {
     "data": {
      "text/html": [
       "<div>\n",
       "<style scoped>\n",
       "    .dataframe tbody tr th:only-of-type {\n",
       "        vertical-align: middle;\n",
       "    }\n",
       "\n",
       "    .dataframe tbody tr th {\n",
       "        vertical-align: top;\n",
       "    }\n",
       "\n",
       "    .dataframe thead th {\n",
       "        text-align: right;\n",
       "    }\n",
       "</style>\n",
       "<table border=\"1\" class=\"dataframe\">\n",
       "  <thead>\n",
       "    <tr style=\"text-align: right;\">\n",
       "      <th></th>\n",
       "      <th>Code_commune_INSEE</th>\n",
       "      <th>Nom_commune</th>\n",
       "      <th>Code_postal</th>\n",
       "      <th>Libelle_acheminement</th>\n",
       "      <th>Ligne_5</th>\n",
       "      <th>coordonnees_gps</th>\n",
       "    </tr>\n",
       "  </thead>\n",
       "  <tbody>\n",
       "    <tr>\n",
       "      <th>0</th>\n",
       "      <td>90078</td>\n",
       "      <td>PETITEFONTAINE</td>\n",
       "      <td>90360</td>\n",
       "      <td>PETITEFONTAINE</td>\n",
       "      <td>NaN</td>\n",
       "      <td>47.7237763721, 7.00757336099</td>\n",
       "    </tr>\n",
       "    <tr>\n",
       "      <th>1</th>\n",
       "      <td>90089</td>\n",
       "      <td>ROUGEMONT LE CHATEAU</td>\n",
       "      <td>90110</td>\n",
       "      <td>ROUGEMONT LE CHATEAU</td>\n",
       "      <td>NaN</td>\n",
       "      <td>47.7460113941, 6.95212889734</td>\n",
       "    </tr>\n",
       "    <tr>\n",
       "      <th>2</th>\n",
       "      <td>90091</td>\n",
       "      <td>ST GERMAIN LE CHATELET</td>\n",
       "      <td>90110</td>\n",
       "      <td>ST GERMAIN LE CHATELET</td>\n",
       "      <td>NaN</td>\n",
       "      <td>47.7002701756, 6.96114583666</td>\n",
       "    </tr>\n",
       "    <tr>\n",
       "      <th>3</th>\n",
       "      <td>90093</td>\n",
       "      <td>SERMAMAGNY</td>\n",
       "      <td>90300</td>\n",
       "      <td>SERMAMAGNY</td>\n",
       "      <td>NaN</td>\n",
       "      <td>47.687801557, 6.8309146345</td>\n",
       "    </tr>\n",
       "    <tr>\n",
       "      <th>4</th>\n",
       "      <td>90105</td>\n",
       "      <td>VILLARS LE SEC</td>\n",
       "      <td>90100</td>\n",
       "      <td>VILLARS LE SEC</td>\n",
       "      <td>NaN</td>\n",
       "      <td>47.4554088507, 6.98803547043</td>\n",
       "    </tr>\n",
       "  </tbody>\n",
       "</table>\n",
       "</div>"
      ],
      "text/plain": [
       "  Code_commune_INSEE             Nom_commune  Code_postal  \\\n",
       "0              90078          PETITEFONTAINE        90360   \n",
       "1              90089    ROUGEMONT LE CHATEAU        90110   \n",
       "2              90091  ST GERMAIN LE CHATELET        90110   \n",
       "3              90093              SERMAMAGNY        90300   \n",
       "4              90105          VILLARS LE SEC        90100   \n",
       "\n",
       "     Libelle_acheminement Ligne_5               coordonnees_gps  \n",
       "0          PETITEFONTAINE     NaN  47.7237763721, 7.00757336099  \n",
       "1    ROUGEMONT LE CHATEAU     NaN  47.7460113941, 6.95212889734  \n",
       "2  ST GERMAIN LE CHATELET     NaN  47.7002701756, 6.96114583666  \n",
       "3              SERMAMAGNY     NaN    47.687801557, 6.8309146345  \n",
       "4          VILLARS LE SEC     NaN  47.4554088507, 6.98803547043  "
      ]
     },
     "execution_count": 4,
     "metadata": {},
     "output_type": "execute_result"
    }
   ],
   "source": [
    "# VISUALISATION - INFORMATION FICHIER : 5 PREMIERES LIGNES\n",
    "data_df.head()"
   ]
  },
  {
   "cell_type": "code",
   "execution_count": 5,
   "metadata": {},
   "outputs": [
    {
     "name": "stdout",
     "output_type": "stream",
     "text": [
      "<class 'pandas.core.frame.DataFrame'>\n",
      "RangeIndex: 39201 entries, 0 to 39200\n",
      "Data columns (total 6 columns):\n",
      "Code_commune_INSEE      39201 non-null object\n",
      "Nom_commune             39201 non-null object\n",
      "Code_postal             39201 non-null int64\n",
      "Libelle_acheminement    39201 non-null object\n",
      "Ligne_5                 3257 non-null object\n",
      "coordonnees_gps         38932 non-null object\n",
      "dtypes: int64(1), object(5)\n",
      "memory usage: 1.8+ MB\n"
     ]
    }
   ],
   "source": [
    "# VISUALISATION - INFORMATION FICHIER : NB LIGNES - NB VIDES - TYPE\n",
    "data_df.info()"
   ]
  },
  {
   "cell_type": "code",
   "execution_count": 6,
   "metadata": {},
   "outputs": [
    {
     "data": {
      "text/html": [
       "<div>\n",
       "<style scoped>\n",
       "    .dataframe tbody tr th:only-of-type {\n",
       "        vertical-align: middle;\n",
       "    }\n",
       "\n",
       "    .dataframe tbody tr th {\n",
       "        vertical-align: top;\n",
       "    }\n",
       "\n",
       "    .dataframe thead th {\n",
       "        text-align: right;\n",
       "    }\n",
       "</style>\n",
       "<table border=\"1\" class=\"dataframe\">\n",
       "  <thead>\n",
       "    <tr style=\"text-align: right;\">\n",
       "      <th></th>\n",
       "      <th>Code_postal</th>\n",
       "    </tr>\n",
       "  </thead>\n",
       "  <tbody>\n",
       "    <tr>\n",
       "      <th>count</th>\n",
       "      <td>39201.000000</td>\n",
       "    </tr>\n",
       "    <tr>\n",
       "      <th>mean</th>\n",
       "      <td>46807.021275</td>\n",
       "    </tr>\n",
       "    <tr>\n",
       "      <th>std</th>\n",
       "      <td>25902.437435</td>\n",
       "    </tr>\n",
       "    <tr>\n",
       "      <th>min</th>\n",
       "      <td>1000.000000</td>\n",
       "    </tr>\n",
       "    <tr>\n",
       "      <th>25%</th>\n",
       "      <td>24800.000000</td>\n",
       "    </tr>\n",
       "    <tr>\n",
       "      <th>50%</th>\n",
       "      <td>49360.000000</td>\n",
       "    </tr>\n",
       "    <tr>\n",
       "      <th>75%</th>\n",
       "      <td>67350.000000</td>\n",
       "    </tr>\n",
       "    <tr>\n",
       "      <th>max</th>\n",
       "      <td>98890.000000</td>\n",
       "    </tr>\n",
       "  </tbody>\n",
       "</table>\n",
       "</div>"
      ],
      "text/plain": [
       "        Code_postal\n",
       "count  39201.000000\n",
       "mean   46807.021275\n",
       "std    25902.437435\n",
       "min     1000.000000\n",
       "25%    24800.000000\n",
       "50%    49360.000000\n",
       "75%    67350.000000\n",
       "max    98890.000000"
      ]
     },
     "execution_count": 6,
     "metadata": {},
     "output_type": "execute_result"
    }
   ],
   "source": [
    "# VISUALISATION - INFORMATION FICHIER : DESCRIPTION VARIABLES NUMERIQUES\n",
    "data_df.describe()"
   ]
  },
  {
   "cell_type": "code",
   "execution_count": null,
   "metadata": {},
   "outputs": [],
   "source": []
  }
 ],
 "metadata": {
  "anaconda-cloud": {},
  "kernelspec": {
   "display_name": "Python 3",
   "language": "python",
   "name": "python3"
  },
  "language_info": {
   "codemirror_mode": {
    "name": "ipython",
    "version": 3
   },
   "file_extension": ".py",
   "mimetype": "text/x-python",
   "name": "python",
   "nbconvert_exporter": "python",
   "pygments_lexer": "ipython3",
   "version": "3.6.5"
  }
 },
 "nbformat": 4,
 "nbformat_minor": 2
}
