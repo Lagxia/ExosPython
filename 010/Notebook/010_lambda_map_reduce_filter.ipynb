{
 "cells": [
  {
   "cell_type": "markdown",
   "metadata": {},
   "source": [
    "# Lambda "
   ]
  },
  {
   "cell_type": "code",
   "execution_count": 1,
   "metadata": {},
   "outputs": [
    {
     "data": {
      "text/plain": [
       "5"
      ]
     },
     "execution_count": 1,
     "metadata": {},
     "output_type": "execute_result"
    }
   ],
   "source": [
    "def add(x, y): \n",
    "    return x + y\n",
    "  \n",
    "# Call the function\n",
    "add(2, 3)  # Output: 5"
   ]
  },
  {
   "cell_type": "code",
   "execution_count": 2,
   "metadata": {},
   "outputs": [
    {
     "name": "stdout",
     "output_type": "stream",
     "text": [
      "5\n"
     ]
    }
   ],
   "source": [
    "add = lambda x, y : x + y  \n",
    "print (add(2, 3)) # Output: 5"
   ]
  },
  {
   "cell_type": "code",
   "execution_count": 3,
   "metadata": {},
   "outputs": [
    {
     "data": {
      "text/plain": [
       "function"
      ]
     },
     "execution_count": 3,
     "metadata": {},
     "output_type": "execute_result"
    }
   ],
   "source": [
    "type (add) # Output: function"
   ]
  },
  {
   "cell_type": "markdown",
   "metadata": {},
   "source": [
    "# Map "
   ]
  },
  {
   "cell_type": "code",
   "execution_count": 4,
   "metadata": {},
   "outputs": [],
   "source": [
    "# La fonction map prend en argument une fonction et une collection de données.\n",
    "# Elle crée une nouvelle collection vide, applique la fonction à chaque élément de la collection d'origine\n",
    "# et insère les valeurs de retour produites dans la nouvelle collection.\n",
    "# Finalement, elle renvoie la nouvelle collection."
   ]
  },
  {
   "cell_type": "code",
   "execution_count": 5,
   "metadata": {},
   "outputs": [],
   "source": [
    "# map(function_object, iterable1, iterable2,...)"
   ]
  },
  {
   "cell_type": "code",
   "execution_count": null,
   "metadata": {},
   "outputs": [],
   "source": [
    "# MAP\n",
    "# map(function_to_apply, list_of_inputs)"
   ]
  },
  {
   "cell_type": "code",
   "execution_count": 6,
   "metadata": {},
   "outputs": [
    {
     "data": {
      "text/plain": [
       "[2, 4, 6, 8]"
      ]
     },
     "execution_count": 6,
     "metadata": {},
     "output_type": "execute_result"
    }
   ],
   "source": [
    "def multiply2(x):\n",
    "    return x * 2\n",
    "    \n",
    "test = map(multiply2, [1, 2, 3, 4]) # Output [2, 4, 6, 8]\n",
    "list(test)"
   ]
  },
  {
   "cell_type": "code",
   "execution_count": 7,
   "metadata": {},
   "outputs": [
    {
     "data": {
      "text/plain": [
       "[2, 4, 6, 8]"
      ]
     },
     "execution_count": 7,
     "metadata": {},
     "output_type": "execute_result"
    }
   ],
   "source": [
    "test = map(lambda x : x*2, [1, 2, 3, 4]) #Output [2, 4, 6, 8]\n",
    "list(test)"
   ]
  },
  {
   "cell_type": "code",
   "execution_count": 8,
   "metadata": {},
   "outputs": [
    {
     "data": {
      "text/plain": [
       "['python', 'java']"
      ]
     },
     "execution_count": 8,
     "metadata": {},
     "output_type": "execute_result"
    }
   ],
   "source": [
    "dict_a = [{'name': 'python', 'points': 10}, {'name': 'java', 'points': 8}]\n",
    "  \n",
    "test = map(lambda x : x['name'], dict_a) # Output: ['python', 'java']\n",
    "list(test)"
   ]
  },
  {
   "cell_type": "code",
   "execution_count": 9,
   "metadata": {},
   "outputs": [
    {
     "data": {
      "text/plain": [
       "[100, 80]"
      ]
     },
     "execution_count": 9,
     "metadata": {},
     "output_type": "execute_result"
    }
   ],
   "source": [
    "test = map(lambda x : x['points']*10,  dict_a) # Output: [100, 80]\n",
    "list(test)"
   ]
  },
  {
   "cell_type": "code",
   "execution_count": 10,
   "metadata": {},
   "outputs": [
    {
     "data": {
      "text/plain": [
       "[True, False]"
      ]
     },
     "execution_count": 10,
     "metadata": {},
     "output_type": "execute_result"
    }
   ],
   "source": [
    "test = map(lambda x : x['name'] == \"python\", dict_a) # Output: [True, False]\n",
    "list(test)"
   ]
  },
  {
   "cell_type": "code",
   "execution_count": 11,
   "metadata": {},
   "outputs": [
    {
     "data": {
      "text/plain": [
       "[11, 22, 33]"
      ]
     },
     "execution_count": 11,
     "metadata": {},
     "output_type": "execute_result"
    }
   ],
   "source": [
    "list_a = [1, 2, 3]\n",
    "list_b = [10, 20, 30]\n",
    "  \n",
    "test = map(lambda x, y: x + y, list_a, list_b) # Output: [11, 22, 33]\n",
    "list(test)"
   ]
  },
  {
   "cell_type": "code",
   "execution_count": 12,
   "metadata": {},
   "outputs": [
    {
     "name": "stdout",
     "output_type": "stream",
     "text": [
      "<map object at 0x10a6072e8>\n",
      "[2, 4, 6, 8]\n"
     ]
    }
   ],
   "source": [
    "map_output = map(lambda x: x*2, [1, 2, 3, 4])\n",
    "print(map_output) # Output: map object: <map object at 0x04D6BAB0>\n",
    "list_map_output = list(map_output)\n",
    "print(list_map_output) # Output: [2, 4, 6, 8]"
   ]
  },
  {
   "cell_type": "markdown",
   "metadata": {},
   "source": [
    "## Filter "
   ]
  },
  {
   "cell_type": "code",
   "execution_count": 13,
   "metadata": {},
   "outputs": [],
   "source": [
    "# FILTER\n",
    "# filter(function_to_apply, input)"
   ]
  },
  {
   "cell_type": "code",
   "execution_count": 14,
   "metadata": {},
   "outputs": [
    {
     "data": {
      "text/plain": [
       "[2, 4, 6]"
      ]
     },
     "execution_count": 14,
     "metadata": {},
     "output_type": "execute_result"
    }
   ],
   "source": [
    "a = [1, 2, 3, 4, 5, 6]\n",
    "test = filter(lambda x : x % 2 == 0, a) # Output: [2, 4, 6]\n",
    "list(test)"
   ]
  },
  {
   "cell_type": "code",
   "execution_count": 15,
   "metadata": {},
   "outputs": [
    {
     "data": {
      "text/plain": [
       "[{'name': 'python', 'points': 10}]"
      ]
     },
     "execution_count": 15,
     "metadata": {},
     "output_type": "execute_result"
    }
   ],
   "source": [
    "dict_a = [{'name': 'python', 'points': 10}, {'name': 'java', 'points': 8}]\n",
    "test = filter(lambda x : x['name'] == 'python', dict_a) # Output: [{'name': 'python', 'points': 10}]\n",
    "list(test)"
   ]
  },
  {
   "cell_type": "code",
   "execution_count": 16,
   "metadata": {},
   "outputs": [
    {
     "name": "stdout",
     "output_type": "stream",
     "text": [
      "[2, 4]\n"
     ]
    }
   ],
   "source": [
    "list_a = [1, 2, 3, 4, 5]\n",
    "filter_obj = filter(lambda x: x % 2 == 0, list_a) # filter object <filter at 0x4e45890>\n",
    "even_num = list(filter_obj) # Converts the filer obj to a list\n",
    "print(even_num) # Output: [2, 4]"
   ]
  },
  {
   "cell_type": "markdown",
   "metadata": {},
   "source": [
    "## Reduce "
   ]
  },
  {
   "cell_type": "code",
   "execution_count": 17,
   "metadata": {},
   "outputs": [],
   "source": [
    "# La fonction reduce prend en entrée une fonction et une collection d'éléments.\n",
    "# Elle renvoie une valeur créée en combinant les éléments de la collection."
   ]
  },
  {
   "cell_type": "code",
   "execution_count": null,
   "metadata": {},
   "outputs": [],
   "source": [
    "# REDUCE\n",
    "# reduce(function_to_apply, list_of_inputs)\n",
    "# ATTENTION Import en Python 3\n",
    "# from functools import reduce"
   ]
  },
  {
   "cell_type": "code",
   "execution_count": 18,
   "metadata": {},
   "outputs": [
    {
     "name": "stdout",
     "output_type": "stream",
     "text": [
      "10\n"
     ]
    }
   ],
   "source": [
    "from functools import reduce\n",
    "somme = reduce(lambda a, x: a + x, [0, 1, 2, 3, 4])\n",
    "print (somme)"
   ]
  },
  {
   "cell_type": "markdown",
   "metadata": {},
   "source": [
    "### Fibonacci "
   ]
  },
  {
   "cell_type": "code",
   "execution_count": 19,
   "metadata": {},
   "outputs": [
    {
     "name": "stdout",
     "output_type": "stream",
     "text": [
      "Le numéro borne dans la suite de Fibonacci ? : 32\n",
      "Le nombre n° 32 dans la suite de Fibonacci est : 2178309.\n",
      "La séquence complète de Fibonacci :\n",
      "0\n",
      "1\n",
      "1\n",
      "2\n",
      "3\n",
      "5\n",
      "8\n",
      "13\n",
      "21\n",
      "34\n",
      "55\n",
      "89\n",
      "144\n",
      "233\n",
      "377\n",
      "610\n",
      "987\n",
      "1597\n",
      "2584\n",
      "4181\n",
      "6765\n",
      "10946\n",
      "17711\n",
      "28657\n",
      "46368\n",
      "75025\n",
      "121393\n",
      "196418\n",
      "317811\n",
      "514229\n",
      "832040\n",
      "1346269\n"
     ]
    }
   ],
   "source": [
    "# Python program to display the Fibonacci sequence up to n-th term using recursive functions\n",
    "\n",
    "def recur_fibo(n):\n",
    "    \"\"\"Recursive function to\n",
    "    print Fibonacci sequence\"\"\"\n",
    "    if n <= 1:\n",
    "        return n\n",
    "    else:\n",
    "        return(recur_fibo(n-1) + recur_fibo(n-2))\n",
    "\n",
    "# input from the user\n",
    "nterms = int(input(\"Le numéro borne dans la suite de Fibonacci ? : \"))\n",
    "\n",
    "# check if the number of terms is valid\n",
    "if nterms <= 0:\n",
    "    print(\"Le nombre doit être entier positif !\")\n",
    "else:\n",
    "    print(\"Le nombre n° {} dans la suite de Fibonacci est : {}.\".format(nterms, recur_fibo(nterms)))\n",
    "    print(\"La séquence complète de Fibonacci :\")\n",
    "    for i in range(nterms):\n",
    "        print(recur_fibo(i))"
   ]
  },
  {
   "cell_type": "code",
   "execution_count": 20,
   "metadata": {},
   "outputs": [
    {
     "name": "stdout",
     "output_type": "stream",
     "text": [
      "[-3, -1, 1, 2, 3, 5, 8, 13, 21, 34, 55, 89, 144, 233, 377, 610, 987, 1597, 2584, 4181, 6765, 10946, 17711, 28657, 46368, 75025, 121393, 196418, 317811, 514229, 832040, 1346269]\n"
     ]
    }
   ],
   "source": [
    "sequence = map(lambda x: recur_fibo(x-1) + recur_fibo(x-2), [i for i in range(nterms)])\n",
    "print(list(sequence))"
   ]
  },
  {
   "cell_type": "markdown",
   "metadata": {},
   "source": [
    "## Encore "
   ]
  },
  {
   "cell_type": "code",
   "execution_count": 21,
   "metadata": {},
   "outputs": [],
   "source": [
    "# MAP\n",
    "# map(function_to_apply, list_of_inputs)"
   ]
  },
  {
   "cell_type": "code",
   "execution_count": 22,
   "metadata": {},
   "outputs": [
    {
     "name": "stdout",
     "output_type": "stream",
     "text": [
      "[1, 4, 9, 16, 25]\n"
     ]
    }
   ],
   "source": [
    "items = [1, 2, 3, 4, 5]\n",
    "squared = []\n",
    "for i in items:\n",
    "    squared.append(i**2)\n",
    "print(squared)"
   ]
  },
  {
   "cell_type": "code",
   "execution_count": 24,
   "metadata": {},
   "outputs": [
    {
     "name": "stdout",
     "output_type": "stream",
     "text": [
      "[1, 4, 9, 16, 25]\n"
     ]
    }
   ],
   "source": [
    "items = [1, 2, 3, 4, 5]\n",
    "squared = map(lambda x: x**2, items)\n",
    "print(list(squared))"
   ]
  },
  {
   "cell_type": "code",
   "execution_count": 25,
   "metadata": {},
   "outputs": [
    {
     "name": "stdout",
     "output_type": "stream",
     "text": [
      "[0, 0]\n",
      "[1, 2]\n",
      "[4, 4]\n",
      "[9, 6]\n",
      "[16, 8]\n"
     ]
    }
   ],
   "source": [
    "def multiply(x):\n",
    "    return (x*x)\n",
    "def add(x):\n",
    "    return (x+x)\n",
    "\n",
    "funcs = [multiply, add]\n",
    "for i in range(5):\n",
    "    value = list(map(lambda x: x(i), funcs))\n",
    "    print(value)\n",
    "\n",
    "# Output:\n",
    "# [0, 0]\n",
    "# [1, 2]\n",
    "# [4, 4]\n",
    "# [9, 6]\n",
    "# [16, 8]"
   ]
  },
  {
   "cell_type": "code",
   "execution_count": 26,
   "metadata": {},
   "outputs": [],
   "source": [
    "# FILTER\n",
    "# filter(function_to_apply, condition)"
   ]
  },
  {
   "cell_type": "code",
   "execution_count": 1,
   "metadata": {},
   "outputs": [
    {
     "name": "stdout",
     "output_type": "stream",
     "text": [
      "[-5, -4, -3, -2, -1]\n"
     ]
    }
   ],
   "source": [
    "number_list = range(-5, 5)\n",
    "less_than_zero = list(filter(lambda x: x < 0, number_list))\n",
    "print(less_than_zero)\n",
    "# Output: [-5, -4, -3, -2, -1]"
   ]
  },
  {
   "cell_type": "code",
   "execution_count": 2,
   "metadata": {},
   "outputs": [],
   "source": [
    "# REDUCE\n",
    "# reduce(function_to_apply, list_of_inputs)\n",
    "# ATTENTION Import en Python 3\n",
    "# from functools import reduce"
   ]
  },
  {
   "cell_type": "code",
   "execution_count": 3,
   "metadata": {},
   "outputs": [
    {
     "name": "stdout",
     "output_type": "stream",
     "text": [
      "24\n"
     ]
    }
   ],
   "source": [
    "product = 1\n",
    "list = [1, 2, 3, 4]\n",
    "for num in list:\n",
    "    product = product * num\n",
    "print(product)\n",
    "# product = 24"
   ]
  },
  {
   "cell_type": "code",
   "execution_count": 4,
   "metadata": {},
   "outputs": [
    {
     "name": "stdout",
     "output_type": "stream",
     "text": [
      "24\n"
     ]
    }
   ],
   "source": [
    "from functools import reduce\n",
    "product = reduce((lambda x, y: x * y), [1, 2, 3, 4])\n",
    "print(product)\n",
    "# Output: 24"
   ]
  },
  {
   "cell_type": "markdown",
   "metadata": {},
   "source": [
    "## Encore "
   ]
  },
  {
   "cell_type": "code",
   "execution_count": 5,
   "metadata": {},
   "outputs": [
    {
     "name": "stdout",
     "output_type": "stream",
     "text": [
      "The square using lambda:  25\n",
      "The square using normal function:  25\n"
     ]
    }
   ],
   "source": [
    "#An example of lambda function\n",
    "\n",
    "#Using lambda function\n",
    "cal_sq = lambda a: a*a\n",
    "print (\"The square using lambda: \", cal_sq(5))\n",
    "\n",
    "#using normal function\n",
    "def sq (z):\n",
    "    return z*z\n",
    "print (\"The square using normal function: \", sq(5))"
   ]
  },
  {
   "cell_type": "code",
   "execution_count": 1,
   "metadata": {},
   "outputs": [
    {
     "name": "stdout",
     "output_type": "stream",
     "text": [
      "The list after sum [35, 45, 55, 65]\n"
     ]
    }
   ],
   "source": [
    "#An example of lambda function with map\n",
    "\n",
    "a_List = [5, 10, 15, 20]\n",
    "b_Lst2 = [30, 35, 40, 45]\n",
    "\n",
    "c_List_sum = map(lambda num1,num2: num1+num2, a_List,b_Lst2)\n",
    "print(\"The list after sum\", list(c_List_sum))"
   ]
  },
  {
   "cell_type": "code",
   "execution_count": 2,
   "metadata": {},
   "outputs": [
    {
     "name": "stdout",
     "output_type": "stream",
     "text": [
      "The Celsius Temp:  [36.66666666666667, 38.88888888888889, 43.333333333333336, 51.66666666666667]\n"
     ]
    }
   ],
   "source": [
    "#An example of lambda function with map for Fahrenheit to Celsius conversion\n",
    "\n",
    "Fahrenheit_List = [98, 102, 110, 125]\n",
    "\n",
    "Celsius_List_sum = map(lambda F: ((5.0/9.0)*(F - 32)), Fahrenheit_List)\n",
    "print(\"The Celsius Temp: \", list(Celsius_List_sum))"
   ]
  },
  {
   "cell_type": "code",
   "execution_count": 3,
   "metadata": {},
   "outputs": [
    {
     "name": "stdout",
     "output_type": "stream",
     "text": [
      "The leap years in the list are:  [1992, 1996, 2000, 2004, 2008, 2012]\n"
     ]
    }
   ],
   "source": [
    "#An example of filter with lambda to get leap years\n",
    "\n",
    "Year_list = [1992, 1994, 1996, 1998, 2000, 2003, 2004, 2008, 2010, 2012, 2014]\n",
    "\n",
    "Leap_Years = list(filter(lambda leap: (leap%4 == 0) , Year_list))\n",
    "\n",
    "print(\"The leap years in the list are: \" ,Leap_Years)"
   ]
  },
  {
   "cell_type": "markdown",
   "metadata": {},
   "source": [
    "## Encore "
   ]
  },
  {
   "cell_type": "markdown",
   "metadata": {},
   "source": [
    "### Exercice \"joueurs de football\"¶"
   ]
  },
  {
   "cell_type": "code",
   "execution_count": 16,
   "metadata": {},
   "outputs": [
    {
     "data": {
      "text/html": [
       "<div>\n",
       "<style scoped>\n",
       "    .dataframe tbody tr th:only-of-type {\n",
       "        vertical-align: middle;\n",
       "    }\n",
       "\n",
       "    .dataframe tbody tr th {\n",
       "        vertical-align: top;\n",
       "    }\n",
       "\n",
       "    .dataframe thead th {\n",
       "        text-align: right;\n",
       "    }\n",
       "</style>\n",
       "<table border=\"1\" class=\"dataframe\">\n",
       "  <thead>\n",
       "    <tr style=\"text-align: right;\">\n",
       "      <th></th>\n",
       "      <th>PLAYER</th>\n",
       "      <th>SALARY</th>\n",
       "      <th>GP</th>\n",
       "      <th>G</th>\n",
       "      <th>A</th>\n",
       "      <th>SOT</th>\n",
       "      <th>PPG</th>\n",
       "      <th>P</th>\n",
       "    </tr>\n",
       "  </thead>\n",
       "  <tbody>\n",
       "    <tr>\n",
       "      <th>0</th>\n",
       "      <td>Sergio Agüero\\n Forward — Manchester City</td>\n",
       "      <td>$19.2m</td>\n",
       "      <td>16.0</td>\n",
       "      <td>14</td>\n",
       "      <td>3.0</td>\n",
       "      <td>34</td>\n",
       "      <td>13.12</td>\n",
       "      <td>209.98</td>\n",
       "    </tr>\n",
       "    <tr>\n",
       "      <th>1</th>\n",
       "      <td>Eden Hazard\\n Midfield — Chelsea</td>\n",
       "      <td>$18.9m</td>\n",
       "      <td>21.0</td>\n",
       "      <td>8</td>\n",
       "      <td>4.0</td>\n",
       "      <td>17</td>\n",
       "      <td>13.05</td>\n",
       "      <td>274.04</td>\n",
       "    </tr>\n",
       "    <tr>\n",
       "      <th>2</th>\n",
       "      <td>Alexis Sánchez\\n Forward — Arsenal</td>\n",
       "      <td>$17.6m</td>\n",
       "      <td>NaN</td>\n",
       "      <td>12</td>\n",
       "      <td>7.0</td>\n",
       "      <td>29</td>\n",
       "      <td>11.19</td>\n",
       "      <td>223.86</td>\n",
       "    </tr>\n",
       "    <tr>\n",
       "      <th>3</th>\n",
       "      <td>Yaya Touré\\n Midfield — Manchester City</td>\n",
       "      <td>$16.6m</td>\n",
       "      <td>18.0</td>\n",
       "      <td>7</td>\n",
       "      <td>1.0</td>\n",
       "      <td>19</td>\n",
       "      <td>10.99</td>\n",
       "      <td>197.91</td>\n",
       "    </tr>\n",
       "    <tr>\n",
       "      <th>4</th>\n",
       "      <td>Ángel Di María\\n Midfield — Manchester United</td>\n",
       "      <td>$15.0m</td>\n",
       "      <td>13.0</td>\n",
       "      <td>3</td>\n",
       "      <td>NaN</td>\n",
       "      <td>13</td>\n",
       "      <td>10.17</td>\n",
       "      <td>132.23</td>\n",
       "    </tr>\n",
       "    <tr>\n",
       "      <th>5</th>\n",
       "      <td>Santiago Cazorla\\n Midfield — Arsenal</td>\n",
       "      <td>$14.8m</td>\n",
       "      <td>20.0</td>\n",
       "      <td>4</td>\n",
       "      <td>NaN</td>\n",
       "      <td>20</td>\n",
       "      <td>9.97</td>\n",
       "      <td>NaN</td>\n",
       "    </tr>\n",
       "    <tr>\n",
       "      <th>6</th>\n",
       "      <td>David Silva\\n Midfield — Manchester City</td>\n",
       "      <td>$14.3m</td>\n",
       "      <td>15.0</td>\n",
       "      <td>6</td>\n",
       "      <td>2.0</td>\n",
       "      <td>11</td>\n",
       "      <td>10.35</td>\n",
       "      <td>155.26</td>\n",
       "    </tr>\n",
       "    <tr>\n",
       "      <th>7</th>\n",
       "      <td>Cesc Fàbregas\\n Midfield — Chelsea</td>\n",
       "      <td>$14.0m</td>\n",
       "      <td>20.0</td>\n",
       "      <td>2</td>\n",
       "      <td>14.0</td>\n",
       "      <td>10</td>\n",
       "      <td>10.47</td>\n",
       "      <td>209.49</td>\n",
       "    </tr>\n",
       "    <tr>\n",
       "      <th>8</th>\n",
       "      <td>Saido Berahino\\n Forward — West Brom</td>\n",
       "      <td>$13.8m</td>\n",
       "      <td>21.0</td>\n",
       "      <td>9</td>\n",
       "      <td>0.0</td>\n",
       "      <td>20</td>\n",
       "      <td>7.02</td>\n",
       "      <td>147.43</td>\n",
       "    </tr>\n",
       "    <tr>\n",
       "      <th>9</th>\n",
       "      <td>Steven Gerrard\\n Midfield — Liverpool</td>\n",
       "      <td>$13.8m</td>\n",
       "      <td>20.0</td>\n",
       "      <td>5</td>\n",
       "      <td>1.0</td>\n",
       "      <td>11</td>\n",
       "      <td>7.50</td>\n",
       "      <td>150.01</td>\n",
       "    </tr>\n",
       "  </tbody>\n",
       "</table>\n",
       "</div>"
      ],
      "text/plain": [
       "                                          PLAYER  SALARY    GP   G     A  SOT  \\\n",
       "0      Sergio Agüero\\n Forward — Manchester City  $19.2m  16.0  14   3.0   34   \n",
       "1               Eden Hazard\\n Midfield — Chelsea  $18.9m  21.0   8   4.0   17   \n",
       "2             Alexis Sánchez\\n Forward — Arsenal  $17.6m   NaN  12   7.0   29   \n",
       "3        Yaya Touré\\n Midfield — Manchester City  $16.6m  18.0   7   1.0   19   \n",
       "4  Ángel Di María\\n Midfield — Manchester United  $15.0m  13.0   3   NaN   13   \n",
       "5          Santiago Cazorla\\n Midfield — Arsenal  $14.8m  20.0   4   NaN   20   \n",
       "6       David Silva\\n Midfield — Manchester City  $14.3m  15.0   6   2.0   11   \n",
       "7             Cesc Fàbregas\\n Midfield — Chelsea  $14.0m  20.0   2  14.0   10   \n",
       "8           Saido Berahino\\n Forward — West Brom  $13.8m  21.0   9   0.0   20   \n",
       "9          Steven Gerrard\\n Midfield — Liverpool  $13.8m  20.0   5   1.0   11   \n",
       "\n",
       "     PPG       P  \n",
       "0  13.12  209.98  \n",
       "1  13.05  274.04  \n",
       "2  11.19  223.86  \n",
       "3  10.99  197.91  \n",
       "4  10.17  132.23  \n",
       "5   9.97     NaN  \n",
       "6  10.35  155.26  \n",
       "7  10.47  209.49  \n",
       "8   7.02  147.43  \n",
       "9   7.50  150.01  "
      ]
     },
     "execution_count": 16,
     "metadata": {},
     "output_type": "execute_result"
    }
   ],
   "source": [
    "import pandas as pd\n",
    "df = pd.read_csv('https://raw.githubusercontent.com/rasbt/python_reference/master/Data/some_soccer_data.csv')\n",
    "df"
   ]
  },
  {
   "cell_type": "code",
   "execution_count": 17,
   "metadata": {},
   "outputs": [],
   "source": [
    "def traitement_nom_joueur(text):\n",
    "    nom, reste = text.split('\\n')\n",
    "    return nom"
   ]
  },
  {
   "cell_type": "code",
   "execution_count": 18,
   "metadata": {},
   "outputs": [
    {
     "data": {
      "text/plain": [
       "['Sergio Agüero',\n",
       " 'Eden Hazard',\n",
       " 'Alexis Sánchez',\n",
       " 'Yaya Touré',\n",
       " 'Ángel Di María',\n",
       " 'Santiago Cazorla',\n",
       " 'David Silva',\n",
       " 'Cesc Fàbregas',\n",
       " 'Saido Berahino',\n",
       " 'Steven Gerrard']"
      ]
     },
     "execution_count": 18,
     "metadata": {},
     "output_type": "execute_result"
    }
   ],
   "source": [
    "nom = map(lambda text : traitement_nom_joueur(text), df.PLAYER)\n",
    "list(nom)"
   ]
  },
  {
   "cell_type": "code",
   "execution_count": 19,
   "metadata": {},
   "outputs": [],
   "source": [
    "def traitement_equipe_joueur(text):\n",
    "    nom, reste = text.split('\\n')\n",
    "    poste, equipe = [x.strip() for x in reste.split(' — ')]\n",
    "    return equipe\n",
    "\n",
    "def traitement_poste_joueur(text):\n",
    "    nom, reste = text.split('\\n')\n",
    "    poste, equipe = [x.strip() for x in reste.split(' — ')]\n",
    "    return poste"
   ]
  },
  {
   "cell_type": "code",
   "execution_count": 21,
   "metadata": {},
   "outputs": [
    {
     "data": {
      "text/html": [
       "<div>\n",
       "<style scoped>\n",
       "    .dataframe tbody tr th:only-of-type {\n",
       "        vertical-align: middle;\n",
       "    }\n",
       "\n",
       "    .dataframe tbody tr th {\n",
       "        vertical-align: top;\n",
       "    }\n",
       "\n",
       "    .dataframe thead th {\n",
       "        text-align: right;\n",
       "    }\n",
       "</style>\n",
       "<table border=\"1\" class=\"dataframe\">\n",
       "  <thead>\n",
       "    <tr style=\"text-align: right;\">\n",
       "      <th></th>\n",
       "      <th>PLAYER</th>\n",
       "      <th>SALARY</th>\n",
       "      <th>GP</th>\n",
       "      <th>G</th>\n",
       "      <th>A</th>\n",
       "      <th>SOT</th>\n",
       "      <th>PPG</th>\n",
       "      <th>P</th>\n",
       "      <th>joueur</th>\n",
       "      <th>equipe</th>\n",
       "      <th>poste</th>\n",
       "    </tr>\n",
       "  </thead>\n",
       "  <tbody>\n",
       "    <tr>\n",
       "      <th>0</th>\n",
       "      <td>Sergio Agüero\\n Forward — Manchester City</td>\n",
       "      <td>$19.2m</td>\n",
       "      <td>16.0</td>\n",
       "      <td>14</td>\n",
       "      <td>3.0</td>\n",
       "      <td>34</td>\n",
       "      <td>13.12</td>\n",
       "      <td>209.98</td>\n",
       "      <td>Sergio Agüero</td>\n",
       "      <td>Manchester City</td>\n",
       "      <td>Forward</td>\n",
       "    </tr>\n",
       "    <tr>\n",
       "      <th>1</th>\n",
       "      <td>Eden Hazard\\n Midfield — Chelsea</td>\n",
       "      <td>$18.9m</td>\n",
       "      <td>21.0</td>\n",
       "      <td>8</td>\n",
       "      <td>4.0</td>\n",
       "      <td>17</td>\n",
       "      <td>13.05</td>\n",
       "      <td>274.04</td>\n",
       "      <td>Eden Hazard</td>\n",
       "      <td>Chelsea</td>\n",
       "      <td>Midfield</td>\n",
       "    </tr>\n",
       "    <tr>\n",
       "      <th>2</th>\n",
       "      <td>Alexis Sánchez\\n Forward — Arsenal</td>\n",
       "      <td>$17.6m</td>\n",
       "      <td>NaN</td>\n",
       "      <td>12</td>\n",
       "      <td>7.0</td>\n",
       "      <td>29</td>\n",
       "      <td>11.19</td>\n",
       "      <td>223.86</td>\n",
       "      <td>Alexis Sánchez</td>\n",
       "      <td>Arsenal</td>\n",
       "      <td>Forward</td>\n",
       "    </tr>\n",
       "    <tr>\n",
       "      <th>3</th>\n",
       "      <td>Yaya Touré\\n Midfield — Manchester City</td>\n",
       "      <td>$16.6m</td>\n",
       "      <td>18.0</td>\n",
       "      <td>7</td>\n",
       "      <td>1.0</td>\n",
       "      <td>19</td>\n",
       "      <td>10.99</td>\n",
       "      <td>197.91</td>\n",
       "      <td>Yaya Touré</td>\n",
       "      <td>Manchester City</td>\n",
       "      <td>Midfield</td>\n",
       "    </tr>\n",
       "    <tr>\n",
       "      <th>4</th>\n",
       "      <td>Ángel Di María\\n Midfield — Manchester United</td>\n",
       "      <td>$15.0m</td>\n",
       "      <td>13.0</td>\n",
       "      <td>3</td>\n",
       "      <td>NaN</td>\n",
       "      <td>13</td>\n",
       "      <td>10.17</td>\n",
       "      <td>132.23</td>\n",
       "      <td>Ángel Di María</td>\n",
       "      <td>Manchester United</td>\n",
       "      <td>Midfield</td>\n",
       "    </tr>\n",
       "    <tr>\n",
       "      <th>5</th>\n",
       "      <td>Santiago Cazorla\\n Midfield — Arsenal</td>\n",
       "      <td>$14.8m</td>\n",
       "      <td>20.0</td>\n",
       "      <td>4</td>\n",
       "      <td>NaN</td>\n",
       "      <td>20</td>\n",
       "      <td>9.97</td>\n",
       "      <td>NaN</td>\n",
       "      <td>Santiago Cazorla</td>\n",
       "      <td>Arsenal</td>\n",
       "      <td>Midfield</td>\n",
       "    </tr>\n",
       "    <tr>\n",
       "      <th>6</th>\n",
       "      <td>David Silva\\n Midfield — Manchester City</td>\n",
       "      <td>$14.3m</td>\n",
       "      <td>15.0</td>\n",
       "      <td>6</td>\n",
       "      <td>2.0</td>\n",
       "      <td>11</td>\n",
       "      <td>10.35</td>\n",
       "      <td>155.26</td>\n",
       "      <td>David Silva</td>\n",
       "      <td>Manchester City</td>\n",
       "      <td>Midfield</td>\n",
       "    </tr>\n",
       "    <tr>\n",
       "      <th>7</th>\n",
       "      <td>Cesc Fàbregas\\n Midfield — Chelsea</td>\n",
       "      <td>$14.0m</td>\n",
       "      <td>20.0</td>\n",
       "      <td>2</td>\n",
       "      <td>14.0</td>\n",
       "      <td>10</td>\n",
       "      <td>10.47</td>\n",
       "      <td>209.49</td>\n",
       "      <td>Cesc Fàbregas</td>\n",
       "      <td>Chelsea</td>\n",
       "      <td>Midfield</td>\n",
       "    </tr>\n",
       "    <tr>\n",
       "      <th>8</th>\n",
       "      <td>Saido Berahino\\n Forward — West Brom</td>\n",
       "      <td>$13.8m</td>\n",
       "      <td>21.0</td>\n",
       "      <td>9</td>\n",
       "      <td>0.0</td>\n",
       "      <td>20</td>\n",
       "      <td>7.02</td>\n",
       "      <td>147.43</td>\n",
       "      <td>Saido Berahino</td>\n",
       "      <td>West Brom</td>\n",
       "      <td>Forward</td>\n",
       "    </tr>\n",
       "    <tr>\n",
       "      <th>9</th>\n",
       "      <td>Steven Gerrard\\n Midfield — Liverpool</td>\n",
       "      <td>$13.8m</td>\n",
       "      <td>20.0</td>\n",
       "      <td>5</td>\n",
       "      <td>1.0</td>\n",
       "      <td>11</td>\n",
       "      <td>7.50</td>\n",
       "      <td>150.01</td>\n",
       "      <td>Steven Gerrard</td>\n",
       "      <td>Liverpool</td>\n",
       "      <td>Midfield</td>\n",
       "    </tr>\n",
       "  </tbody>\n",
       "</table>\n",
       "</div>"
      ],
      "text/plain": [
       "                                          PLAYER  SALARY    GP   G     A  SOT  \\\n",
       "0      Sergio Agüero\\n Forward — Manchester City  $19.2m  16.0  14   3.0   34   \n",
       "1               Eden Hazard\\n Midfield — Chelsea  $18.9m  21.0   8   4.0   17   \n",
       "2             Alexis Sánchez\\n Forward — Arsenal  $17.6m   NaN  12   7.0   29   \n",
       "3        Yaya Touré\\n Midfield — Manchester City  $16.6m  18.0   7   1.0   19   \n",
       "4  Ángel Di María\\n Midfield — Manchester United  $15.0m  13.0   3   NaN   13   \n",
       "5          Santiago Cazorla\\n Midfield — Arsenal  $14.8m  20.0   4   NaN   20   \n",
       "6       David Silva\\n Midfield — Manchester City  $14.3m  15.0   6   2.0   11   \n",
       "7             Cesc Fàbregas\\n Midfield — Chelsea  $14.0m  20.0   2  14.0   10   \n",
       "8           Saido Berahino\\n Forward — West Brom  $13.8m  21.0   9   0.0   20   \n",
       "9          Steven Gerrard\\n Midfield — Liverpool  $13.8m  20.0   5   1.0   11   \n",
       "\n",
       "     PPG       P            joueur             equipe     poste  \n",
       "0  13.12  209.98     Sergio Agüero    Manchester City   Forward  \n",
       "1  13.05  274.04       Eden Hazard            Chelsea  Midfield  \n",
       "2  11.19  223.86    Alexis Sánchez            Arsenal   Forward  \n",
       "3  10.99  197.91        Yaya Touré    Manchester City  Midfield  \n",
       "4  10.17  132.23    Ángel Di María  Manchester United  Midfield  \n",
       "5   9.97     NaN  Santiago Cazorla            Arsenal  Midfield  \n",
       "6  10.35  155.26       David Silva    Manchester City  Midfield  \n",
       "7  10.47  209.49     Cesc Fàbregas            Chelsea  Midfield  \n",
       "8   7.02  147.43    Saido Berahino          West Brom   Forward  \n",
       "9   7.50  150.01    Steven Gerrard          Liverpool  Midfield  "
      ]
     },
     "execution_count": 21,
     "metadata": {},
     "output_type": "execute_result"
    }
   ],
   "source": [
    "df['joueur'] = list(map(lambda text : traitement_nom_joueur(text), df.PLAYER))\n",
    "df['equipe'] = list(map(lambda text : traitement_equipe_joueur(text), df.PLAYER))\n",
    "df['poste'] = list(map(lambda text : traitement_poste_joueur(text), df.PLAYER))\n",
    "df"
   ]
  }
 ],
 "metadata": {
  "kernelspec": {
   "display_name": "Python 3",
   "language": "python",
   "name": "python3"
  },
  "language_info": {
   "codemirror_mode": {
    "name": "ipython",
    "version": 3
   },
   "file_extension": ".py",
   "mimetype": "text/x-python",
   "name": "python",
   "nbconvert_exporter": "python",
   "pygments_lexer": "ipython3",
   "version": "3.6.5"
  }
 },
 "nbformat": 4,
 "nbformat_minor": 2
}
