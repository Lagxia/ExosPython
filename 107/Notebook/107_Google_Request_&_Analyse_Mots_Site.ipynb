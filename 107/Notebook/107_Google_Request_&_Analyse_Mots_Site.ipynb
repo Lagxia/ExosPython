{
 "cells": [
  {
   "cell_type": "code",
   "execution_count": 77,
   "metadata": {},
   "outputs": [],
   "source": [
    "# Gestion des imports\n",
    "import configparser\n",
    "import requests, json\n",
    "import pandas as pd\n",
    "import re\n",
    "from collections import Counter"
   ]
  },
  {
   "cell_type": "code",
   "execution_count": 78,
   "metadata": {},
   "outputs": [],
   "source": [
    "# IMPORTS GOOGLE\n",
    "import googleplaces\n",
    "from googleplaces import GooglePlaces, types, lang\n",
    "from bs4 import BeautifulSoup\n",
    "import nltk\n",
    "from nltk.tokenize import RegexpTokenizer  \n",
    "from nltk.corpus import stopwords\n",
    "from nltk.stem.snowball import SnowballStemmer\n",
    "from gensim import models, corpora\n",
    "from nltk.tokenize import sent_tokenize, word_tokenize, WordPunctTokenizer\n",
    "from nltk.tokenize import RegexpTokenizer  \n",
    "from nltk.corpus import stopwords\n",
    "from nltk.stem.snowball import SnowballStemmer\n",
    "from gensim import models, corpora\n",
    "from nltk.tokenize import sent_tokenize, word_tokenize, WordPunctTokenizer"
   ]
  },
  {
   "cell_type": "code",
   "execution_count": 79,
   "metadata": {},
   "outputs": [
    {
     "data": {
      "text/plain": [
       "['../Configuration.conf']"
      ]
     },
     "execution_count": 79,
     "metadata": {},
     "output_type": "execute_result"
    }
   ],
   "source": [
    "# Gestion de la configuration\n",
    "config = configparser.ConfigParser()\n",
    "config.read('../Configuration.conf')"
   ]
  },
  {
   "cell_type": "code",
   "execution_count": 80,
   "metadata": {},
   "outputs": [],
   "source": [
    "# Obtention de ma Google API KEY\n",
    "mon_api_key = config.get('Google', 'api_key')"
   ]
  },
  {
   "cell_type": "code",
   "execution_count": 81,
   "metadata": {},
   "outputs": [],
   "source": [
    "# Fonction de request simple sur Google\n",
    "def RequeteSimpleGoogle(query):\n",
    "    # enter your api key here \n",
    "    api_key = mon_api_key\n",
    "    # Création d'un dataframe de récolte des réponses\n",
    "    Reponses_df = pd.DataFrame()\n",
    "    # url variable store url\n",
    "    url = \"https://maps.googleapis.com/maps/api/place/textsearch/json?\"\n",
    "    # get method of requests module --> return response object \n",
    "    r = requests.get(url + 'query=' + query + '&key=' + api_key) \n",
    "    # json method of response object convert json format data into python format data \n",
    "    x = r.json()\n",
    "    # now x contains list of nested dictionaries\n",
    "    # store the value of result key in variable y \n",
    "    y = x['results']\n",
    "    #print ('------------------------------------------------- Résultat en JSON : \\n', y, '\\n')\n",
    "    # keep looping upto lenght of y \n",
    "    for i in range(len(y)):\n",
    "        # Print value corresponding to the 'name' key at the ith index of y\n",
    "        try:\n",
    "            df = pd.DataFrame({'ADRESSE': y[i]['formatted_address'],\n",
    "                               'LATITUDE': y[i]['geometry']['location']['lat'],\n",
    "                               'LONGITUDE': y[i]['geometry']['location']['lng'],\n",
    "                               'NOM': y[i]['name']}, index = [i])\n",
    "            Reponses_df = Reponses_df.append(df)\n",
    "        except: pass\n",
    "    return Reponses_df"
   ]
  },
  {
   "cell_type": "code",
   "execution_count": 82,
   "metadata": {},
   "outputs": [
    {
     "name": "stdout",
     "output_type": "stream",
     "text": [
      "Recherche sur Google Maps : genesis lyon\n"
     ]
    },
    {
     "data": {
      "text/html": [
       "<div>\n",
       "<style scoped>\n",
       "    .dataframe tbody tr th:only-of-type {\n",
       "        vertical-align: middle;\n",
       "    }\n",
       "\n",
       "    .dataframe tbody tr th {\n",
       "        vertical-align: top;\n",
       "    }\n",
       "\n",
       "    .dataframe thead th {\n",
       "        text-align: right;\n",
       "    }\n",
       "</style>\n",
       "<table border=\"1\" class=\"dataframe\">\n",
       "  <thead>\n",
       "    <tr style=\"text-align: right;\">\n",
       "      <th></th>\n",
       "      <th>ADRESSE</th>\n",
       "      <th>LATITUDE</th>\n",
       "      <th>LONGITUDE</th>\n",
       "      <th>NOM</th>\n",
       "    </tr>\n",
       "  </thead>\n",
       "  <tbody>\n",
       "    <tr>\n",
       "      <th>0</th>\n",
       "      <td>50 Quai Paul Sédallian, 69009 Lyon, France</td>\n",
       "      <td>45.788695</td>\n",
       "      <td>4.814934</td>\n",
       "      <td>Genesis Groupe</td>\n",
       "    </tr>\n",
       "  </tbody>\n",
       "</table>\n",
       "</div>"
      ],
      "text/plain": [
       "                                      ADRESSE   LATITUDE  LONGITUDE  \\\n",
       "0  50 Quai Paul Sédallian, 69009 Lyon, France  45.788695   4.814934   \n",
       "\n",
       "              NOM  \n",
       "0  Genesis Groupe  "
      ]
     },
     "execution_count": 82,
     "metadata": {},
     "output_type": "execute_result"
    }
   ],
   "source": [
    "# La recherche à faire sur Google\n",
    "query = input('Recherche sur Google Maps : ')\n",
    "reponses = RequeteSimpleGoogle(query)\n",
    "reponses"
   ]
  },
  {
   "cell_type": "code",
   "execution_count": 83,
   "metadata": {},
   "outputs": [
    {
     "name": "stdout",
     "output_type": "stream",
     "text": [
      "Index du dataframe à chercher : 0\n"
     ]
    }
   ],
   "source": [
    "# Quel index du dataframe est à chercher\n",
    "index = input('Index du dataframe à chercher : ')\n",
    "MonAdresse = reponses.ADRESSE[int(index)]\n",
    "MaLatitude = reponses.LATITUDE[int(index)]\n",
    "MaLongitude = reponses.LONGITUDE[int(index)]\n",
    "MonNom = reponses.NOM[int(index)]"
   ]
  },
  {
   "cell_type": "code",
   "execution_count": 84,
   "metadata": {},
   "outputs": [
    {
     "name": "stderr",
     "output_type": "stream",
     "text": [
      "[nltk_data] Downloading package stopwords to /Users/Fred/nltk_data...\n",
      "[nltk_data]   Package stopwords is already up-to-date!\n"
     ]
    },
    {
     "data": {
      "text/plain": [
       "True"
      ]
     },
     "execution_count": 84,
     "metadata": {},
     "output_type": "execute_result"
    }
   ],
   "source": [
    "# CHARGEMENT DE LA LIBRAIRIE STOPWORDS DE NLTK\n",
    "nltk.download('stopwords')"
   ]
  },
  {
   "cell_type": "code",
   "execution_count": 85,
   "metadata": {},
   "outputs": [
    {
     "name": "stderr",
     "output_type": "stream",
     "text": [
      "[nltk_data] Downloading package punkt to /Users/Fred/nltk_data...\n",
      "[nltk_data]   Package punkt is already up-to-date!\n"
     ]
    },
    {
     "data": {
      "text/plain": [
       "True"
      ]
     },
     "execution_count": 85,
     "metadata": {},
     "output_type": "execute_result"
    }
   ],
   "source": [
    "# CHARGEMENT DE LA LIBRAIRIE PUNKT DE NLTK\n",
    "nltk.download('punkt')"
   ]
  },
  {
   "cell_type": "code",
   "execution_count": 86,
   "metadata": {},
   "outputs": [],
   "source": [
    "# CHARGEMENT DES STOPWORDS NLTK FRANCAIS\n",
    "stopwords = nltk.corpus.stopwords.words('french')"
   ]
  },
  {
   "cell_type": "code",
   "execution_count": 87,
   "metadata": {},
   "outputs": [],
   "source": [
    "# CHARGEMENT DES STEMMERS NLTK (SnowballStemmer) FRANCAIS\n",
    "stemmer = SnowballStemmer(\"french\")"
   ]
  },
  {
   "cell_type": "code",
   "execution_count": 88,
   "metadata": {},
   "outputs": [],
   "source": [
    "##### GOOGLE PLACES\n",
    "# Recherche des urls de sites web des entreprises en fonction de la localisation via Google Places\n",
    "# Processus:\n",
    "# Se connecter à gmail, puis accéder \"cloud platform console\" suivant la description\n",
    "# https://support.google.com/cloud/answer/6158862\n",
    "# Créer un projet et lui associer une clé API\n",
    "# Cette clé sera utilisée dans tout lors de la génération des urls de sites webs des entrepises.\n",
    "# Ne pas oublier d'activer les services API de \"Google Places\" via API et services > Bibliothèques > Places API\n",
    "# Source : https://console.cloud.google.com/apis/library/places-backend.googleapis.com\n",
    "# Exécuter le code de géoloc et renseigner les urls dans un dataframe\n",
    "####\n",
    "# Export des urls à partir des paramètres de google place seach API. \n",
    "# Description des paramètres: https://developers.google.com/places/web-service/search#PlaceSearchRequests \n",
    "####\n",
    "# AVEC fredchezgenesis@gmail.com\n",
    "# CREATION SUR Google Cloud Platform DU PROJET 42351\n",
    "# API_KEY = c'est secret !"
   ]
  },
  {
   "cell_type": "code",
   "execution_count": 89,
   "metadata": {},
   "outputs": [],
   "source": [
    "# DATAFRAMES POUR SORTIES\n",
    "WebAccueil_df = pd.DataFrame({'NOM': 'NOM',\n",
    "                        'PAGE WEB' : 'PAGE WEB',\n",
    "                        'TOTAL MOTS PAGE' : 'TOTAL MOTS PAGE',    \n",
    "                        'MOT' : 'MOT',\n",
    "                        'ITERATIONS' : 'ITERATIONS',\n",
    "                        'RANG PAGE' : 'RANG PAGE'},\n",
    "                      index = [0])\n",
    "WebSite_df = pd.DataFrame({'NOM': 'NOM',\n",
    "                        'PAGE WEB' : 'PAGE WEB',\n",
    "                        'TOTAL MOTS PAGE' : 'TOTAL MOTS PAGE',    \n",
    "                        'MOT' : 'MOT',\n",
    "                        'ITERATIONS' : 'ITERATIONS',\n",
    "                        'RANG PAGE' : 'RANG PAGE'},\n",
    "                      index = [0])"
   ]
  },
  {
   "cell_type": "code",
   "execution_count": 90,
   "metadata": {},
   "outputs": [],
   "source": [
    "# FONCTION D'ASPIRATION DE PAGES WEB\n",
    "def AspirationPages(MesPages):\n",
    "    AspirationPages = ''\n",
    "    for i in range (0, len(MesPages)):\n",
    "        response = requests.get(MesPages[i])\n",
    "        soupCurrent = BeautifulSoup(response.text, \"html.parser\")\n",
    "        for paragraph in soupCurrent.find_all('p'):\n",
    "            AspirationPages = AspirationPages + ' ' + paragraph.text\n",
    "            \n",
    "    # ELIMINATION DE CERTAINS CARACTERES\n",
    "    AspirationPages = AspirationPages.replace('/', ' ')\n",
    "    AspirationPages = AspirationPages.replace(\"'\", ' ')\n",
    "    # TOKENIZE (TOKEN = JETON)\n",
    "    # Premier tokenize par phrase puis par mot pour s'assurer que la ponctuation a son propre jeton\n",
    "    tokens = [word.lower() for envoye in nltk.sent_tokenize(AspirationPages) for word in nltk.word_tokenize(envoye)]\n",
    "    # Filtrage des jetons ne contenant aucune lettre (numérique, ponctuation)\n",
    "    filtered_tokens = []\n",
    "    for token in tokens:\n",
    "        if re.search('[a-zA-Z]', token):\n",
    "            filtered_tokens.append(token)\n",
    "    # Filtrage des stopwords\n",
    "    filtered_tokens_SW = [w for w in filtered_tokens if not w in stopwords]\n",
    "    TopFinal = Counter(filtered_tokens_SW)\n",
    "    return (TopFinal.most_common(),len(filtered_tokens_SW))"
   ]
  },
  {
   "cell_type": "code",
   "execution_count": 91,
   "metadata": {},
   "outputs": [
    {
     "name": "stdout",
     "output_type": "stream",
     "text": [
      "******** google_places.nearby_search ********\n",
      "** name : Genesis Groupe\n",
      "** website : https://genesis-groupe.fr/\n",
      "** formatted_address : 50 Quai Paul Sédallian, 69009 Lyon, France\n",
      "** geo_location : {'lat': Decimal('45.7886948'), 'lng': Decimal('4.8149336')}\n",
      "** local_phone_number : 04 72 86 05 05\n",
      "** types : ['point_of_interest', 'establishment']\n",
      "** url : https://maps.google.com/?cid=16557938292905174678\n",
      "******** BeautifulSoup ********\n",
      "** Nb pages trouvées sur le site  https://genesis-groupe.fr/  : 11\n",
      "https://genesis-groupe.fr/a-propos-de-genesis-groupe/\n",
      "https://genesis-groupe.fr/pole-ingenierie/\n",
      "https://genesis-groupe.fr/big-data/\n",
      "https://genesis-groupe.fr/pole-infra\n",
      "https://genesis-groupe.fr/\n",
      "https://genesis-groupe.fr/pole-conseil/\n",
      "https://genesis-groupe.fr/genesis-groupe-une-ssii-qui-recrute-de-facon-recurrente/\n",
      "https://genesis-groupe.fr/recherche-et-developpement/\n",
      "https://genesis-groupe.fr/author/stephane-r/\n",
      "https://genesis-groupe.fr/contact/\n",
      "https://genesis-groupe.fr/pole-infra/\n"
     ]
    }
   ],
   "source": [
    "# Extraction des urls d'entreprise en fonction des coordonnées géographiques à travers l'API Google Map\n",
    "# Clé API\n",
    "google_places = GooglePlaces(mon_api_key)\n",
    "\n",
    "query_result = google_places.nearby_search( language = 'fr', keyword = None, \n",
    "                            location = MonAdresse, \n",
    "                            lat_lng = {'lat': MaLatitude, 'lng': MaLongitude}, \n",
    "                            name = MonNom, radius = 3200, \n",
    "                            rankby = 'prominence', sensor = False, type = None,\n",
    "                            types = [], pagetoken = None)\n",
    "\n",
    "for place in query_result.places:\n",
    "    place.get_details()\n",
    "    if place.website is not None:\n",
    "            \n",
    "        # AFFICHAGE DES INFOS GOOGLE PLACE\n",
    "        print('******** google_places.nearby_search ********')\n",
    "        print('** name :', place.name)\n",
    "        print('** website :', place.website)\n",
    "        print('** formatted_address :', place.formatted_address)\n",
    "        print('** geo_location :', place.geo_location)\n",
    "        print('** local_phone_number :', place.local_phone_number)\n",
    "        print('** types :', place.types)\n",
    "        print('** url :', place.url)\n",
    "            \n",
    "        # ANALYSE DES DIFFERENTS PAGES POUR CHAQUE SITE CIBLE\n",
    "        response = requests.get(place.website)\n",
    "        soup = BeautifulSoup(response.text, \"html.parser\")\n",
    "        # AFFICHAGE DES INFOS BEAUTIFULSOUP\n",
    "        print('******** BeautifulSoup ********')\n",
    "        url_list = []\n",
    "        url_list.append(place.website)\n",
    "        url_list_Temp = []\n",
    "        for url in soup.find_all('a'):\n",
    "                url_list.append(url.get('href')) \n",
    "        # NETTOYAGE DES PAGES TROUVEES DANS LA LISTE DES HREF\n",
    "        url_list = [w for w in url_list if w is not None]\n",
    "        url_list_Temp = [place.website + w for w in url_list if w.endswith('.html')]\n",
    "        url_list.extend(url_list_Temp)\n",
    "        url_list = [w for w in url_list if w.startswith(place.website)]\n",
    "        # EFFACEMENT DES DOUBLONS POTENTIELS DE LA LISTE\n",
    "        url_list = list(set(url_list))\n",
    "        # AFFICHAGE\n",
    "        print('** Nb pages trouvées sur le site ', place.website, ' :', len(url_list))\n",
    "        [print(w) for w in url_list]"
   ]
  },
  {
   "cell_type": "code",
   "execution_count": 92,
   "metadata": {},
   "outputs": [
    {
     "name": "stdout",
     "output_type": "stream",
     "text": [
      "******** Mots page accueil ******** Nombre de mots utiles :  125\n",
      "[('lire', 6), ('suite', 6), ('les', 5), ('genesis', 4), ('groupe', 4), ('développement', 3), ('projets', 2), ('digitale', 2), ('administration', 2), ('données', 2), ('entreprises', 2), ('esn', 2), ('entreprise', 2), ('services', 2), ('découvrez', 2), ('approche', 1), ('processus', 1), ('cadrage', 1), ('expression', 1), ('besoins', 1), ('pilotage', 1), ('programmes', 1), ('relations', 1), ('moe-moa', 1), ('conception', 1), ('tests', 1), ('recette', 1), ('support', 1), ('équipes', 1), ('innovation', 1), ('r', 1), ('agilité', 1), ('design', 1), ('user', 1), ('digital', 1), ('expérience', 1), ('reactive', 1), ('programming…', 1), ('pôle', 1), ('tecno-addict', 1), ('agile', 1), ('service', 1), ('transformation', 1), ('clients', 1), ('futurs', 1), ('partenaires', 1), ('architecture', 1), ('ingénierie', 1), ('systèmes', 1), ('réseaux', 1), ('sécurité', 1), ('intégration', 1), ('application', 1), ('bases', 1), ('devops…', 1), ('maintenant', 1), ('croisement', 1), ('guide', 1), ('leurs', 1), ('stratégies', 1), ('accompagne', 1), ('tertiaires', 1), ('industrielles', 1), ('transition', 1), ('réalise', 1), ('importants', 1), ('investissements', 1), ('recherche', 1), ('figure', 1), ('parmi', 1), ('numériques', 1), ('plus', 1), ('innovantes', 1), ('panel', 1), ('opportunités', 1), ('rejoignez', 1), ('équipe', 1), ('ssii', 1), ('numérique', 1), ('taille', 1), ('humaine', 1), ('écoute', 1), ('toutes', 1), ('actualités', 1), ('blog', 1), ('flux', 1), ('permanent', 1), ('informations', 1), ('nouvelles', 1), ('technologies', 1), ('curieux', 1), ('hésitez', 1), ('partager', 1), ('connaissances', 1)]\n",
      "******** Mots de tout le site ******** Nombre de mots utiles :  1518\n",
      "[('les', 50), ('projets', 32), ('équipe', 29), ('clients', 20), ('groupe', 18), ('développement', 16), ('genesis', 16), ('recherche', 13), ('travailler', 13), ('aimez', 12), ('entreprise', 11), ('missions', 11), ('travail', 10), ('collaborateurs', 10), ('web', 10), ('r', 10), ('compétences', 10), ('esn', 10), ('plus', 9), ('réseaux', 9), ('fonction', 9), ('e', 9), ('plusieurs', 9), ('nouvelle', 8), ('faire', 8), ('place', 7), ('systèmes', 7), ('conception', 7), ('expérience', 7), ('pôle', 7), ('taille', 7), ('humaine', 7), ('grandir', 7), ('développeur', 6), ('entreprises', 6), ('évolution', 6), ('projet', 6), ('infra', 6), ('tests', 6), ('lire', 6), ('suite', 6), ('rattaché', 6), ('intervenir', 6), ('différents', 6), ('cadre', 6), ('pourront', 6), ('être', 6), ('disposez', 6), ('stimulants', 6), ('envergure', 6), ('esprit', 6), ('collaboratif', 6), ('souhaitez', 6), ('intégrer', 6), ('génération', 6), ('favorise', 6), ('proximité', 6), ('laisse', 6), ('genesis-groupe.com', 6), ('sans', 5), ('depuis', 5), ('mobile', 5), ('données', 5), ('architecture', 5), ('formation', 5), ('quotidien', 5), ('gestion', 5), ('processus', 5), ('développeuse', 5), ('ingenerie', 5), ('maintenance…', 5), ('appétences', 5), ('contenu', 5), ('travaillé', 5), ('oui', 5), ('alors', 5), ('contactez', 5), ('stéphanie', 5), ('tél', 5), ('s.noorbuccus', 5), ('java', 5), ('nouvelles', 4), ('technologies', 4), ('évolutions', 4), ('factory', 4), ('tant', 4), ('infrastructure', 4), ('grande', 4), ('administrateur', 4), ('système', 4), ('migration', 4), ('besoins', 4), ('services', 4), ('métiers', 4), ('lyon', 4), ('.net', 4), ('si', 3), ('pouvons', 3), ('notamment', 3), ('respect', 3), ('cette', 3), ('fiabilité', 3), ('cœur', 3), ('client', 3), ('environnement', 3), ('vers', 3), ('ingénieurs', 3), ('environnements', 3), ('microsoft', 3), ('croisement', 3), ('leurs', 3), ('tertiaires', 3), ('industrielles', 3), ('digitale', 3), ('data', 3), ('analyse', 3), ('permanence', 3), ('afin', 3), ('suivre', 3), ('entre', 3), ('tout', 3), ('sens', 3), ('permet', 3), ('aussi', 3), ('configuration', 3), ('savoir-faire', 3), ('savoir-être', 3), ('collaborateur', 3), ('approche', 3), ('pilotage', 3), ('administration', 3), ('importants', 3), ('parmi', 3), ('informatique', 3), ('nouveaux', 3), ('amené', 3), ('amenez', 3), ('maintenance', 3), ('partenariats', 2), ('importance', 2), ('confiance', 2), ('relation', 2), ('historique', 2), ('volvo', 2), ('évoluer', 2), ('adapter', 2), ('problématiques', 2), ('écoute', 2), ('relations', 2), ('réseau', 2), ('autres', 2), ('a', 2), ('encore', 2), ('composée', 2), ('vingtaine', 2), ('spécialistes', 2), ('open', 2), ('expertise', 2), ('symfony', 2), ('angular', 2), ('j2ee', 2), ('scala', 2), ('utilisation', 2), ('reconnus', 2), ('ios', 2), ('android', 2), ('mois', 2), ('sujets', 2), ('service', 2), ('compte', 2), ('maintenant', 2), ('guide', 2), ('stratégies', 2), ('accompagne', 2), ('transition', 2), ('ressources', 2), ('spécialiste', 2), ('information', 2), ('sait', 2), ('prendre', 2), ('charge', 2), ('sensibles', 2), ('formés', 2), ('dernières', 2), ('pouvoir', 2), ('garantir', 2), ('disponibilité', 2), ('interviens', 2), ('transport', 2), ('leader', 2), ('mets', 2), ('disposition', 2), ('robuste', 2), ('sécurisée', 2), ('solution', 2), ('san', 2), ('continu', 2), ('cursus', 2), ('produits', 2), ('vmware', 2), ('logicielles', 2), ('préserver', 2), ('excellence', 2), ('prestation', 2), ('sein', 2), ('immobilier', 2), ('passe', 2), ('incident', 2), ('niveau', 2), ('actuellement', 2), ('pleine', 2), ('liens', 2), ('wan', 2), ('sites', 2), ('distants', 2), ('site', 2), ('principal', 2), ('modification', 2), ('routage', 2), ('vlan', 2), ('etc…', 2), ('parallèle', 2), ('citrix', 2), ('version', 2), ('intégré', 2), ('laquelle', 2), ('collaboration', 2), ('prend', 2), ('cela', 2), ('épanouir', 2), ('gère', 2), ('complexe', 2), ('base', 2), ('éléments', 2), ('actifs', 2), ('cisco', 2), ('checkpoint', 2), ('ecole', 2), ('cesse', 2), ('mène', 2), ('négliger', 2), ('mco', 2), ('total', 2), ('sla', 2), ('coordonne', 2), ('personnes', 2), ('caractérisée', 2), ('clientèle', 2), ('offre', 2), ('éventail', 2), ('très', 2), ('diversifié', 2), ('ainsi', 2), ('répondre', 2), ('variés', 2), ('satisfaction', 2), ('stratégie', 2), ('chaque', 2), ('recruté', 2), ('profil', 2), ('expression', 2), ('réalise', 2), ('investissements', 2), ('figure', 2), ('numériques', 2), ('innovantes', 2), ('panel', 2), ('découvrez', 2), ('numérique', 2), ('toutes', 2), ('méthode', 2), ('objectifs', 2), ('bien', 2), ('année', 2), ('long', 2), ('véritable', 2), ('back', 2), ('javascript', 2), ('front', 2), ('frameworks', 2), ('paramétrage', 2), ('linux', 2), ('windows', 2), ('obligatoire', 2), ('enorgueillir', 1), ('ans', 1), ('grâce', 1), ('accordons', 1), ('engagements', 1), ('aucun', 1), ('doute', 1), ('renault', 1), ('trucks', 1), ('travaillons', 1), ('création', 1), ('perpétuelle', 1), ('mutation', 1), ('su', 1), ('démontrer', 1), ('capacité', 1), ('configurations', 1), ('au-delà', 1), ('demandes', 1), ('portons', 1), ('attention', 1), ('anticipation', 1), ('technologiques', 1), ('vaut', 1), ('agrément', 1), ('innovante', 1), ('ministère', 1), ('associons', 1), ('ensemble', 1), ('dynamique', 1), ('efforçons', 1), ('rester', 1), ('près', 1), ('suivis', 1), ('réguliers', 1), ('où', 1), ('convivialité', 1), ('priment', 1), ('permettent', 1), ('construire', 1), ('durables', 1), ('fécondes', 1), ('mise', 1), ('référents', 1), ('expérimentés', 1), ('jouant', 1), ('rôle', 1), ('managérial', 1), ('auprès', 1), ('renforcé', 1), ('cet', 1), ('aspect', 1), ('source', 1), ('play', 1), ('spark', 1), ('travaillant', 1), ('blockchain', 1), ('langage', 1), ('solidity', 1), ('afpa', 1), ('apave', 1), ('alptis', 1), ('lizeo', 1), ('slib', 1), ('homeserve…', 1), ('natif', 1), ('plateformes', 1), ('wm', 1), ('jour', 1), ('dédié', 1), ('tels', 1), ('réactive', 1), ('programming', 1), ('ble', 1), ('firebase', 1), ('i', 1), ('beacon…', 1), ('itelios', 1), ('sncf', 1), ('seb', 1), ('worldline', 1), ('cityzen', 1), ('sciences', 1), ('haulotte…', 1), ('legacy', 1), ('métier', 1), ('forte', 1), ('autour', 1), ('pacbase', 1), ('cobol', 1), ('rdz', 1), ('scientific', 1), ('pluridisciplinaires', 1), ('automaticien', 1), ('architecte', 1), ('cp', 1), ('grand', 1), ('lyonnais', 1), ('domaine', 1), ('énergie', 1), ('mobilisation', 1), ('expertes', 1), ('domaines', 1), ('del', 1), ('iot', 1), ('captage', 1), ('big', 1), ('science', 1), ('assurent', 1), ('bonne', 1), ('valorisation', 1), ('industrialisation', 1), ('variées', 1), ('provenant', 1), ('s.i.', 1), ('parties', 1), ('prenantes', 1), ('analytics', 1), ('sociaux', 1), ('etc', 1), ('cadrage', 1), ('programmes', 1), ('moe-moa', 1), ('recette', 1), ('support', 1), ('équipes', 1), ('innovation', 1), ('agilité', 1), ('design', 1), ('user', 1), ('digital', 1), ('reactive', 1), ('programming…', 1), ('tecno-addict', 1), ('agile', 1), ('transformation', 1), ('futurs', 1), ('partenaires', 1), ('ingénierie', 1), ('sécurité', 1), ('intégration', 1), ('application', 1), ('bases', 1), ('devops…', 1), ('opportunités', 1), ('rejoignez', 1), ('ssii', 1), ('actualités', 1), ('blog', 1), ('flux', 1), ('permanent', 1), ('informations', 1), ('curieux', 1), ('hésitez', 1), ('partager', 1), ('connaissances', 1), ('norme', 1), ('iso', 1), ('modélisation', 1), ('deux', 1), ('possibles', 1), ('management', 1), ('harmonisation', 1), ('amélioration', 1), ('étape-clé', 1), ('fondamentaux', 1), ('respecter', 1), ('explicite-implicite', 1), ('clarifier', 1), ('orientations', 1), ('enjeux', 1), ('maîtriser', 1), ('recueil', 1), ('interview', 1), ('ateliers', 1), ('fédérer', 1), ('séminaires', 1), ('team', 1), ('building', 1), ('moa', 1), ('gérer', 1), ('humaines', 1), ('charges', 1), ('plannings', 1), ('budgets', 1), ('préparer', 1), ('animer', 1), ('comités', 1), ('rendre', 1), ('direction', 1), ('assurer', 1), ('communication', 1), ('amoa', 1), ('assistant', 1), ('maîtrise', 1), ('ouvrage', 1), ('business-analyste', 1), ('trait', 1), ('union', 1), ('assiste', 1), ('utilisateurs-métiers', 1), ('aide', 1), ('établir', 1), ('maintenir', 1), ('étapes', 1), ('démarrage', 1), ('peut-être', 1), ('ailleurs', 1), ('incessantes', 1), ('poussent', 1), ('développer', 1), ('encouragés', 1), ('est-à-dire', 1), ('orienter', 1), ('carrière', 1), ('attendues', 1), ('sûr', 1), ('ambitions', 1), ('managers', 1), ('rh', 1), ('attentifs', 1), ('carrières', 1), ('suivent', 1), ('permettre', 1), ('accompagnement', 1), ('souhaits', 1), ('meilleure', 1), ('potentiel', 1), ('chacun', 1), ('épanouissement', 1), ('individuel', 1), ('attachons', 1), ('particulière', 1), ('entretiens', 1), ('annuels', 1), ('appréciation', 1), ('dispositif', 1), ('clef', 1), ('manager', 1), ('retrouver', 1), ('évoquer', 1), ('réussites', 1), ('fixer', 1), ('court', 1), ('moyen', 1), ('terme', 1), ('articule', 1), ('construction', 1), ('plan', 1), ('annuel', 1), ('fois', 1), ('consolidé', 1), ('vit', 1), ('priorités', 1), ('cellule', 1), ('créée', 1), ('but', 1), ('agréée', 1), ('cir', 1), ('cii', 1), ('laboratoire', 1), ('écosystème', 1), ('composé', 1), ('grands', 1), ('comptes', 1), ('internationaux', 1), ('startup', 1), ('innovantes…', 1), ('politique', 1), ('formations', 1), ('exemple', 1), ('club', 1), ('soirées', 1), ('tous', 1), ('apéros-info', 1), ('manifestations', 1), ('sportives', 1), ('run', 1), ('in', 1), ('saintexpress…', 1), ('missions.vos', 1), ('php', 1), ('node', 1), ('python', 1), ('django…', 1), ('suivants', 1), ('react', 1), ('vue…', 1), ('connaissez', 1), ('langages', 1), ('objective-c', 1), ('swift', 1), ('kotlin…', 1), ('éventuellement', 1), ('comme', 1), ('struts', 1), ('hibernate…', 1), ('administratrice', 1), ('serveurs', 1), ('firewalls', 1), ('routeurs', 1), ('switchs', 1), ('parc', 1), ('améliorations', 1), ('poste', 1), ('enrichit', 1), ('savoir', 1), ('reconnu', 1), ('principales', 1), ('françaises', 1), ('établi', 1), ('écoles', 1), ('tel', 1), ('insavalor', 1), ('réflexion', 1), ('peut', 1), ('citer', 1), ('algorithmes', 1), ('complexes', 1), ('mécanique', 1), ('fluides', 1), ('accueille', 1), ('locaux', 1), ('siège', 1), ('social', 1), ('espace', 1), ('quai', 1), ('paul', 1), ('sédallian', 1), ('téléphone', 1), ('fax', 1), ('moyens', 1), ('accès', 1), ('métro', 1), ('gare', 1), ('vaise', 1), ('bus', 1), ('n°31', 1), ('n°43', 1), ('arrêt', 1), ('jean', 1), ('marcuit', 1), ('email', 1), ('contact', 1), ('nom', 1), ('prénom', 1), ('e-mail', 1), ('sujet', 1), ('message', 1), ('fichier', 1), ('insérer', 1), ('3mo', 1), ('max', 1), ('pdf', 1), ('doc', 1), ('xls', 1)]\n"
     ]
    }
   ],
   "source": [
    "# ANALYSE DES MOTS DE LA PAGE D ACCUEIL\n",
    "url_accueil = []\n",
    "url_accueil.append(place.website)\n",
    "AnalyseAccueil, NbMotsAccueil = AspirationPages(url_accueil)\n",
    "print('******** Mots page accueil ******** Nombre de mots utiles : ', NbMotsAccueil)\n",
    "print(AnalyseAccueil)\n",
    "\n",
    "# ANALYSE DES MOTS DE TOUTES LES PAGES \n",
    "AnalyseToutLeSite, NbMotsSite = AspirationPages(url_list)\n",
    "print('******** Mots de tout le site ******** Nombre de mots utiles : ', NbMotsSite)\n",
    "print(AnalyseToutLeSite)"
   ]
  },
  {
   "cell_type": "code",
   "execution_count": null,
   "metadata": {},
   "outputs": [],
   "source": []
  }
 ],
 "metadata": {
  "kernelspec": {
   "display_name": "Python 3",
   "language": "python",
   "name": "python3"
  },
  "language_info": {
   "codemirror_mode": {
    "name": "ipython",
    "version": 3
   },
   "file_extension": ".py",
   "mimetype": "text/x-python",
   "name": "python",
   "nbconvert_exporter": "python",
   "pygments_lexer": "ipython3",
   "version": "3.6.5"
  }
 },
 "nbformat": 4,
 "nbformat_minor": 2
}
